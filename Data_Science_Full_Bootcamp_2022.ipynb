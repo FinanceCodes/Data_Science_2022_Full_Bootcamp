{
 "cells": [
  {
   "cell_type": "markdown",
   "id": "a68a8dea",
   "metadata": {},
   "source": [
    "# First Level"
   ]
  },
  {
   "cell_type": "markdown",
   "id": "e02f2973",
   "metadata": {},
   "source": [
    "## Second Level"
   ]
  },
  {
   "cell_type": "markdown",
   "id": "3cf108b7",
   "metadata": {},
   "source": [
    "This is a comprobatio of our system"
   ]
  },
  {
   "cell_type": "markdown",
   "id": "7f398a05",
   "metadata": {},
   "source": [
    "* First line in list\n",
    "* Secon line in list"
   ]
  },
  {
   "cell_type": "markdown",
   "id": "39dcf69d",
   "metadata": {},
   "source": [
    "1. Fisrt line with numbers\n",
    "2. Second line with number"
   ]
  },
  {
   "cell_type": "markdown",
   "id": "1975d076",
   "metadata": {},
   "source": [
    "[www.google.com]"
   ]
  },
  {
   "cell_type": "markdown",
   "id": "9bb78609",
   "metadata": {},
   "source": [
    "# Using print() to display messages"
   ]
  },
  {
   "cell_type": "code",
   "execution_count": 2,
   "id": "07a4fafe",
   "metadata": {},
   "outputs": [
    {
     "name": "stdout",
     "output_type": "stream",
     "text": [
      "Hi, welcome to this Python Data analysis and visualization course\n"
     ]
    }
   ],
   "source": [
    "print (\"Hi, welcome to this Python Data analysis and visualization course\")"
   ]
  },
  {
   "cell_type": "code",
   "execution_count": 4,
   "id": "5bfbdf7d",
   "metadata": {},
   "outputs": [
    {
     "name": "stdout",
     "output_type": "stream",
     "text": [
      "First message\n",
      "Second message\n",
      "Third message\n"
     ]
    }
   ],
   "source": [
    "print(\"First message\")\n",
    "print(\"Second message\")\n",
    "print(\"Third message\")"
   ]
  },
  {
   "cell_type": "code",
   "execution_count": 5,
   "id": "4f8bf7b7",
   "metadata": {},
   "outputs": [
    {
     "name": "stdout",
     "output_type": "stream",
     "text": [
      "Hello world\n"
     ]
    }
   ],
   "source": [
    "x = \"Hello world\"\n",
    "print(x)"
   ]
  },
  {
   "cell_type": "code",
   "execution_count": 6,
   "id": "fc19da53",
   "metadata": {},
   "outputs": [],
   "source": [
    "import numpy as np\n",
    "import matplotlib.pyplot as plt\n",
    "import pandas as pd"
   ]
  },
  {
   "cell_type": "code",
   "execution_count": 7,
   "id": "03133801",
   "metadata": {},
   "outputs": [
    {
     "data": {
      "text/plain": [
       "array([0, 1, 2, 3, 4, 5, 6])"
      ]
     },
     "execution_count": 7,
     "metadata": {},
     "output_type": "execute_result"
    }
   ],
   "source": [
    "np.arange(7)"
   ]
  },
  {
   "cell_type": "code",
   "execution_count": 8,
   "id": "1f5f7d10",
   "metadata": {},
   "outputs": [
    {
     "name": "stdout",
     "output_type": "stream",
     "text": [
      "This is a comprehesive course¡\n"
     ]
    }
   ],
   "source": [
    "message = \"This is a comprehesive course¡\"\n",
    "print(message)"
   ]
  },
  {
   "cell_type": "code",
   "execution_count": 9,
   "id": "6618aeb5",
   "metadata": {},
   "outputs": [],
   "source": [
    "x = 10\n",
    "y = 20.3\n",
    "z =20 +5j"
   ]
  },
  {
   "cell_type": "code",
   "execution_count": 10,
   "id": "650ab62a",
   "metadata": {},
   "outputs": [
    {
     "data": {
      "text/plain": [
       "10"
      ]
     },
     "execution_count": 10,
     "metadata": {},
     "output_type": "execute_result"
    }
   ],
   "source": [
    "x"
   ]
  },
  {
   "cell_type": "code",
   "execution_count": 11,
   "id": "c42c0941",
   "metadata": {},
   "outputs": [
    {
     "data": {
      "text/plain": [
       "20.3"
      ]
     },
     "execution_count": 11,
     "metadata": {},
     "output_type": "execute_result"
    }
   ],
   "source": [
    "y"
   ]
  },
  {
   "cell_type": "code",
   "execution_count": 12,
   "id": "d7590662",
   "metadata": {},
   "outputs": [
    {
     "data": {
      "text/plain": [
       "(20+5j)"
      ]
     },
     "execution_count": 12,
     "metadata": {},
     "output_type": "execute_result"
    }
   ],
   "source": [
    "z"
   ]
  },
  {
   "cell_type": "code",
   "execution_count": 14,
   "id": "bd7dfdd3",
   "metadata": {},
   "outputs": [
    {
     "data": {
      "text/plain": [
       "bool"
      ]
     },
     "execution_count": 14,
     "metadata": {},
     "output_type": "execute_result"
    }
   ],
   "source": [
    "test = True\n",
    "type(test)"
   ]
  },
  {
   "cell_type": "code",
   "execution_count": 15,
   "id": "f0302efc",
   "metadata": {},
   "outputs": [
    {
     "data": {
      "text/plain": [
       "int"
      ]
     },
     "execution_count": 15,
     "metadata": {},
     "output_type": "execute_result"
    }
   ],
   "source": [
    "type(1)"
   ]
  },
  {
   "cell_type": "code",
   "execution_count": 17,
   "id": "1875349a",
   "metadata": {},
   "outputs": [
    {
     "data": {
      "text/plain": [
       "float"
      ]
     },
     "execution_count": 17,
     "metadata": {},
     "output_type": "execute_result"
    }
   ],
   "source": [
    "type(2.5)"
   ]
  },
  {
   "cell_type": "code",
   "execution_count": 18,
   "id": "28645120",
   "metadata": {},
   "outputs": [
    {
     "data": {
      "text/plain": [
       "complex"
      ]
     },
     "execution_count": 18,
     "metadata": {},
     "output_type": "execute_result"
    }
   ],
   "source": [
    "type(3j)"
   ]
  },
  {
   "cell_type": "code",
   "execution_count": 20,
   "id": "3aa7731e",
   "metadata": {},
   "outputs": [
    {
     "data": {
      "text/plain": [
       "list"
      ]
     },
     "execution_count": 20,
     "metadata": {},
     "output_type": "execute_result"
    }
   ],
   "source": [
    "type([1,2,3])"
   ]
  },
  {
   "cell_type": "code",
   "execution_count": 21,
   "id": "1e370659",
   "metadata": {},
   "outputs": [
    {
     "data": {
      "text/plain": [
       "str"
      ]
     },
     "execution_count": 21,
     "metadata": {},
     "output_type": "execute_result"
    }
   ],
   "source": [
    "type (\"Hello world\")"
   ]
  },
  {
   "cell_type": "code",
   "execution_count": 22,
   "id": "af7d4e85",
   "metadata": {},
   "outputs": [
    {
     "data": {
      "text/plain": [
       "str"
      ]
     },
     "execution_count": 22,
     "metadata": {},
     "output_type": "execute_result"
    }
   ],
   "source": [
    "type(message)"
   ]
  },
  {
   "cell_type": "code",
   "execution_count": 25,
   "id": "ea223401",
   "metadata": {},
   "outputs": [
    {
     "name": "stdout",
     "output_type": "stream",
     "text": [
      "Hi, Jupyter¡\n"
     ]
    }
   ],
   "source": [
    "#Block single line comment\n",
    "text = \"Hi, Jupyter¡\"\n",
    "print(text)"
   ]
  },
  {
   "cell_type": "code",
   "execution_count": 27,
   "id": "c2e95cc5",
   "metadata": {},
   "outputs": [
    {
     "name": "stdout",
     "output_type": "stream",
     "text": [
      "#This is a not comment\n"
     ]
    }
   ],
   "source": [
    "print(\"#This is a not comment\") #But is a comment"
   ]
  },
  {
   "cell_type": "code",
   "execution_count": 28,
   "id": "a2e3b3af",
   "metadata": {},
   "outputs": [],
   "source": [
    "# First Comment\n",
    "# Second Comment\n",
    "# Thisrd comment"
   ]
  },
  {
   "cell_type": "code",
   "execution_count": 30,
   "id": "ae855de6",
   "metadata": {},
   "outputs": [
    {
     "name": "stdout",
     "output_type": "stream",
     "text": [
      "Hello World\n"
     ]
    }
   ],
   "source": [
    "if True:\n",
    "    print(\"Hello World\") #Debe de seguir el orden lineal de codigo no se puede modificar"
   ]
  },
  {
   "cell_type": "markdown",
   "id": "f7c602e5",
   "metadata": {},
   "source": [
    "# String data Type"
   ]
  },
  {
   "cell_type": "code",
   "execution_count": 31,
   "id": "31e063d2",
   "metadata": {},
   "outputs": [
    {
     "data": {
      "text/plain": [
       "str"
      ]
     },
     "execution_count": 31,
     "metadata": {},
     "output_type": "execute_result"
    }
   ],
   "source": [
    "type(\"Welcome to Jupyter\")"
   ]
  },
  {
   "cell_type": "code",
   "execution_count": 32,
   "id": "79722cc9",
   "metadata": {},
   "outputs": [],
   "source": [
    "name = \"PythonData Analysis and Visualization\""
   ]
  },
  {
   "cell_type": "code",
   "execution_count": 33,
   "id": "7b39e0ae",
   "metadata": {},
   "outputs": [
    {
     "data": {
      "text/plain": [
       "str"
      ]
     },
     "execution_count": 33,
     "metadata": {},
     "output_type": "execute_result"
    }
   ],
   "source": [
    "type(name)"
   ]
  },
  {
   "cell_type": "code",
   "execution_count": 34,
   "id": "b3b11d7d",
   "metadata": {},
   "outputs": [
    {
     "data": {
      "text/plain": [
       "str"
      ]
     },
     "execution_count": 34,
     "metadata": {},
     "output_type": "execute_result"
    }
   ],
   "source": [
    "mix = \"Hi number 123\"\n",
    "type(mix)"
   ]
  },
  {
   "cell_type": "code",
   "execution_count": 35,
   "id": "6e507d37",
   "metadata": {},
   "outputs": [],
   "source": [
    "new_str = \"We said that ´python is powerfull`\""
   ]
  },
  {
   "cell_type": "code",
   "execution_count": 36,
   "id": "b3af359a",
   "metadata": {},
   "outputs": [
    {
     "data": {
      "text/plain": [
       "'We said that ´python is powerfull`'"
      ]
     },
     "execution_count": 36,
     "metadata": {},
     "output_type": "execute_result"
    }
   ],
   "source": [
    "new_str"
   ]
  },
  {
   "cell_type": "code",
   "execution_count": 37,
   "id": "e3e19b06",
   "metadata": {},
   "outputs": [
    {
     "data": {
      "text/plain": [
       "34"
      ]
     },
     "execution_count": 37,
     "metadata": {},
     "output_type": "execute_result"
    }
   ],
   "source": [
    "len(new_str)"
   ]
  },
  {
   "cell_type": "code",
   "execution_count": 38,
   "id": "61e6d6e2",
   "metadata": {},
   "outputs": [
    {
     "data": {
      "text/plain": [
       "'W'"
      ]
     },
     "execution_count": 38,
     "metadata": {},
     "output_type": "execute_result"
    }
   ],
   "source": [
    "new_str[0]"
   ]
  },
  {
   "cell_type": "code",
   "execution_count": 39,
   "id": "8c4fb327",
   "metadata": {},
   "outputs": [
    {
     "data": {
      "text/plain": [
       "' '"
      ]
     },
     "execution_count": 39,
     "metadata": {},
     "output_type": "execute_result"
    }
   ],
   "source": [
    "new_str[2]"
   ]
  },
  {
   "cell_type": "code",
   "execution_count": 40,
   "id": "4fdf4344",
   "metadata": {},
   "outputs": [],
   "source": [
    "new_multiple = \"This is a multiple str data\\\n",
    "in my python programing.\\\n",
    "Its a very easy way as you can see¡\""
   ]
  },
  {
   "cell_type": "code",
   "execution_count": 41,
   "id": "20638432",
   "metadata": {},
   "outputs": [
    {
     "data": {
      "text/plain": [
       "'This is a multiple str datain my python programing.Its a very easy way as you can see¡'"
      ]
     },
     "execution_count": 41,
     "metadata": {},
     "output_type": "execute_result"
    }
   ],
   "source": [
    "new_multiple"
   ]
  },
  {
   "cell_type": "code",
   "execution_count": 42,
   "id": "c5857cf1",
   "metadata": {},
   "outputs": [],
   "source": [
    "new_multiple1 = \"\"\"no puede ser\n",
    "puedo escribir\n",
    "todo lo que quiera\"\"\"\n"
   ]
  },
  {
   "cell_type": "code",
   "execution_count": 44,
   "id": "6c485003",
   "metadata": {},
   "outputs": [
    {
     "data": {
      "text/plain": [
       "'no puede ser\\npuedo escribir\\ntodo lo que quiera'"
      ]
     },
     "execution_count": 44,
     "metadata": {},
     "output_type": "execute_result"
    }
   ],
   "source": [
    "new_multiple1"
   ]
  },
  {
   "cell_type": "code",
   "execution_count": 45,
   "id": "f135c1f1",
   "metadata": {},
   "outputs": [],
   "source": [
    "word = \"python\"\n",
    "word1 =\"programing\"\n",
    "fullText = word + \" \" + word1"
   ]
  },
  {
   "cell_type": "code",
   "execution_count": 46,
   "id": "8636a5a4",
   "metadata": {},
   "outputs": [
    {
     "data": {
      "text/plain": [
       "'python programing'"
      ]
     },
     "execution_count": 46,
     "metadata": {},
     "output_type": "execute_result"
    }
   ],
   "source": [
    "fullText"
   ]
  },
  {
   "cell_type": "code",
   "execution_count": 47,
   "id": "af6bb19e",
   "metadata": {},
   "outputs": [
    {
     "data": {
      "text/plain": [
       "'pyth'"
      ]
     },
     "execution_count": 47,
     "metadata": {},
     "output_type": "execute_result"
    }
   ],
   "source": [
    "fullText [0:4]"
   ]
  },
  {
   "cell_type": "code",
   "execution_count": 48,
   "id": "27309baf",
   "metadata": {},
   "outputs": [
    {
     "data": {
      "text/plain": [
       "'g'"
      ]
     },
     "execution_count": 48,
     "metadata": {},
     "output_type": "execute_result"
    }
   ],
   "source": [
    "fullText[-1]"
   ]
  },
  {
   "cell_type": "code",
   "execution_count": 51,
   "id": "4b0965ad",
   "metadata": {},
   "outputs": [
    {
     "data": {
      "text/plain": [
       "'python '"
      ]
     },
     "execution_count": 51,
     "metadata": {},
     "output_type": "execute_result"
    }
   ],
   "source": [
    "fullText[:7]"
   ]
  },
  {
   "cell_type": "code",
   "execution_count": 52,
   "id": "690e0c2c",
   "metadata": {},
   "outputs": [
    {
     "data": {
      "text/plain": [
       "'programing'"
      ]
     },
     "execution_count": 52,
     "metadata": {},
     "output_type": "execute_result"
    }
   ],
   "source": [
    "fullText[7:]"
   ]
  },
  {
   "cell_type": "code",
   "execution_count": 54,
   "id": "4b3ff115",
   "metadata": {},
   "outputs": [
    {
     "data": {
      "text/plain": [
       "'PYTHON PROGRAMING'"
      ]
     },
     "execution_count": 54,
     "metadata": {},
     "output_type": "execute_result"
    }
   ],
   "source": [
    "fullText.upper()\n"
   ]
  },
  {
   "cell_type": "code",
   "execution_count": 55,
   "id": "480e9d3d",
   "metadata": {},
   "outputs": [
    {
     "data": {
      "text/plain": [
       "'python programing'"
      ]
     },
     "execution_count": 55,
     "metadata": {},
     "output_type": "execute_result"
    }
   ],
   "source": [
    "fullText.lower()"
   ]
  },
  {
   "cell_type": "code",
   "execution_count": 56,
   "id": "56fe9b4b",
   "metadata": {},
   "outputs": [
    {
     "data": {
      "text/plain": [
       "17"
      ]
     },
     "execution_count": 56,
     "metadata": {},
     "output_type": "execute_result"
    }
   ],
   "source": [
    "len(fullText)"
   ]
  },
  {
   "cell_type": "code",
   "execution_count": 57,
   "id": "78a323f8",
   "metadata": {},
   "outputs": [
    {
     "data": {
      "text/plain": [
       "'python programing'"
      ]
     },
     "execution_count": 57,
     "metadata": {},
     "output_type": "execute_result"
    }
   ],
   "source": [
    "fullText.strip()"
   ]
  },
  {
   "cell_type": "markdown",
   "id": "20f5f2c1",
   "metadata": {},
   "source": [
    "# Numbers types, conversions math opherations order"
   ]
  },
  {
   "cell_type": "code",
   "execution_count": 58,
   "id": "be59ca94",
   "metadata": {},
   "outputs": [
    {
     "data": {
      "text/plain": [
       "10"
      ]
     },
     "execution_count": 58,
     "metadata": {},
     "output_type": "execute_result"
    }
   ],
   "source": [
    "x"
   ]
  },
  {
   "cell_type": "code",
   "execution_count": 59,
   "id": "564d00bf",
   "metadata": {},
   "outputs": [
    {
     "data": {
      "text/plain": [
       "int"
      ]
     },
     "execution_count": 59,
     "metadata": {},
     "output_type": "execute_result"
    }
   ],
   "source": [
    "type(x)"
   ]
  },
  {
   "cell_type": "code",
   "execution_count": 60,
   "id": "160ac4ce",
   "metadata": {},
   "outputs": [
    {
     "data": {
      "text/plain": [
       "10"
      ]
     },
     "execution_count": 60,
     "metadata": {},
     "output_type": "execute_result"
    }
   ],
   "source": [
    "int(x)"
   ]
  },
  {
   "cell_type": "code",
   "execution_count": 61,
   "id": "34707a58",
   "metadata": {},
   "outputs": [
    {
     "data": {
      "text/plain": [
       "20.3"
      ]
     },
     "execution_count": 61,
     "metadata": {},
     "output_type": "execute_result"
    }
   ],
   "source": [
    "y\n"
   ]
  },
  {
   "cell_type": "code",
   "execution_count": 62,
   "id": "60f429b5",
   "metadata": {},
   "outputs": [
    {
     "data": {
      "text/plain": [
       "float"
      ]
     },
     "execution_count": 62,
     "metadata": {},
     "output_type": "execute_result"
    }
   ],
   "source": [
    "type(y)"
   ]
  },
  {
   "cell_type": "code",
   "execution_count": 63,
   "id": "465f76c9",
   "metadata": {},
   "outputs": [],
   "source": [
    "yz = \"11\""
   ]
  },
  {
   "cell_type": "code",
   "execution_count": 64,
   "id": "d487d33c",
   "metadata": {},
   "outputs": [
    {
     "data": {
      "text/plain": [
       "str"
      ]
     },
     "execution_count": 64,
     "metadata": {},
     "output_type": "execute_result"
    }
   ],
   "source": [
    "type(yz)"
   ]
  },
  {
   "cell_type": "code",
   "execution_count": 65,
   "id": "0f945dc9",
   "metadata": {},
   "outputs": [
    {
     "data": {
      "text/plain": [
       "3"
      ]
     },
     "execution_count": 65,
     "metadata": {},
     "output_type": "execute_result"
    }
   ],
   "source": [
    "int(3.5)"
   ]
  },
  {
   "cell_type": "code",
   "execution_count": 66,
   "id": "abec8ad9",
   "metadata": {},
   "outputs": [
    {
     "data": {
      "text/plain": [
       "float"
      ]
     },
     "execution_count": 66,
     "metadata": {},
     "output_type": "execute_result"
    }
   ],
   "source": [
    "x = 4.9\n",
    "type(x)"
   ]
  },
  {
   "cell_type": "code",
   "execution_count": 67,
   "id": "e355fbb3",
   "metadata": {},
   "outputs": [
    {
     "data": {
      "text/plain": [
       "23.1"
      ]
     },
     "execution_count": 67,
     "metadata": {},
     "output_type": "execute_result"
    }
   ],
   "source": [
    "float(23.1)"
   ]
  },
  {
   "cell_type": "code",
   "execution_count": 68,
   "id": "80848c60",
   "metadata": {},
   "outputs": [
    {
     "data": {
      "text/plain": [
       "3.11"
      ]
     },
     "execution_count": 68,
     "metadata": {},
     "output_type": "execute_result"
    }
   ],
   "source": [
    "float(\"3.11\")"
   ]
  },
  {
   "cell_type": "code",
   "execution_count": 70,
   "id": "361a7b8f",
   "metadata": {},
   "outputs": [],
   "source": [
    "z = 3e+19"
   ]
  },
  {
   "cell_type": "code",
   "execution_count": 71,
   "id": "c47d3229",
   "metadata": {},
   "outputs": [
    {
     "data": {
      "text/plain": [
       "float"
      ]
     },
     "execution_count": 71,
     "metadata": {},
     "output_type": "execute_result"
    }
   ],
   "source": [
    "type(z)"
   ]
  },
  {
   "cell_type": "code",
   "execution_count": 72,
   "id": "ab2ae433",
   "metadata": {},
   "outputs": [
    {
     "data": {
      "text/plain": [
       "3e+19"
      ]
     },
     "execution_count": 72,
     "metadata": {},
     "output_type": "execute_result"
    }
   ],
   "source": [
    "float(z)"
   ]
  },
  {
   "cell_type": "code",
   "execution_count": 73,
   "id": "670c03a6",
   "metadata": {},
   "outputs": [],
   "source": [
    "w=9-7j"
   ]
  },
  {
   "cell_type": "code",
   "execution_count": 74,
   "id": "c30f4b6a",
   "metadata": {},
   "outputs": [
    {
     "data": {
      "text/plain": [
       "complex"
      ]
     },
     "execution_count": 74,
     "metadata": {},
     "output_type": "execute_result"
    }
   ],
   "source": [
    "type(w)"
   ]
  },
  {
   "cell_type": "code",
   "execution_count": 75,
   "id": "63919cb0",
   "metadata": {},
   "outputs": [
    {
     "data": {
      "text/plain": [
       "(38+0j)"
      ]
     },
     "execution_count": 75,
     "metadata": {},
     "output_type": "execute_result"
    }
   ],
   "source": [
    "complex(38)"
   ]
  },
  {
   "cell_type": "code",
   "execution_count": 76,
   "id": "07758957",
   "metadata": {},
   "outputs": [
    {
     "data": {
      "text/plain": [
       "65"
      ]
     },
     "execution_count": 76,
     "metadata": {},
     "output_type": "execute_result"
    }
   ],
   "source": [
    "10 + 55"
   ]
  },
  {
   "cell_type": "code",
   "execution_count": 77,
   "id": "fe936d7a",
   "metadata": {},
   "outputs": [
    {
     "data": {
      "text/plain": [
       "94"
      ]
     },
     "execution_count": 77,
     "metadata": {},
     "output_type": "execute_result"
    }
   ],
   "source": [
    "99 -5"
   ]
  },
  {
   "cell_type": "code",
   "execution_count": 78,
   "id": "50ec0387",
   "metadata": {},
   "outputs": [
    {
     "data": {
      "text/plain": [
       "24"
      ]
     },
     "execution_count": 78,
     "metadata": {},
     "output_type": "execute_result"
    }
   ],
   "source": [
    "8 * 3"
   ]
  },
  {
   "cell_type": "code",
   "execution_count": 79,
   "id": "d545f8ee",
   "metadata": {},
   "outputs": [
    {
     "data": {
      "text/plain": [
       "11.0"
      ]
     },
     "execution_count": 79,
     "metadata": {},
     "output_type": "execute_result"
    }
   ],
   "source": [
    "22 / 2"
   ]
  },
  {
   "cell_type": "code",
   "execution_count": 80,
   "id": "e9c55c6e",
   "metadata": {},
   "outputs": [
    {
     "data": {
      "text/plain": [
       "11"
      ]
     },
     "execution_count": 80,
     "metadata": {},
     "output_type": "execute_result"
    }
   ],
   "source": [
    "22//2"
   ]
  },
  {
   "cell_type": "code",
   "execution_count": 81,
   "id": "01bbaab9",
   "metadata": {},
   "outputs": [
    {
     "data": {
      "text/plain": [
       "64"
      ]
     },
     "execution_count": 81,
     "metadata": {},
     "output_type": "execute_result"
    }
   ],
   "source": [
    "8**2"
   ]
  },
  {
   "cell_type": "code",
   "execution_count": 82,
   "id": "d17bc35d",
   "metadata": {},
   "outputs": [
    {
     "data": {
      "text/plain": [
       "2"
      ]
     },
     "execution_count": 82,
     "metadata": {},
     "output_type": "execute_result"
    }
   ],
   "source": [
    "11%3"
   ]
  },
  {
   "cell_type": "code",
   "execution_count": 83,
   "id": "044b974a",
   "metadata": {},
   "outputs": [
    {
     "data": {
      "text/plain": [
       "0"
      ]
     },
     "execution_count": 83,
     "metadata": {},
     "output_type": "execute_result"
    }
   ],
   "source": [
    "12%3"
   ]
  },
  {
   "cell_type": "code",
   "execution_count": 84,
   "id": "feb5c904",
   "metadata": {},
   "outputs": [
    {
     "data": {
      "text/plain": [
       "1"
      ]
     },
     "execution_count": 84,
     "metadata": {},
     "output_type": "execute_result"
    }
   ],
   "source": [
    "13%3"
   ]
  },
  {
   "cell_type": "code",
   "execution_count": 87,
   "id": "a7a9237d",
   "metadata": {},
   "outputs": [
    {
     "data": {
      "text/plain": [
       "16.714285714285715"
      ]
     },
     "execution_count": 87,
     "metadata": {},
     "output_type": "execute_result"
    }
   ],
   "source": [
    "2 * 10 - 5 + (12 / 7)"
   ]
  },
  {
   "cell_type": "code",
   "execution_count": 88,
   "id": "b9910b53",
   "metadata": {},
   "outputs": [
    {
     "data": {
      "text/plain": [
       "-199.31"
      ]
     },
     "execution_count": 88,
     "metadata": {},
     "output_type": "execute_result"
    }
   ],
   "source": [
    "0.7 - 11.3 * (12 + 5.7)"
   ]
  },
  {
   "cell_type": "code",
   "execution_count": 89,
   "id": "6d746f76",
   "metadata": {},
   "outputs": [
    {
     "data": {
      "text/plain": [
       "8"
      ]
     },
     "execution_count": 89,
     "metadata": {},
     "output_type": "execute_result"
    }
   ],
   "source": [
    "pow(2, 3)"
   ]
  },
  {
   "cell_type": "code",
   "execution_count": 90,
   "id": "4cb90914",
   "metadata": {},
   "outputs": [
    {
     "data": {
      "text/plain": [
       "4"
      ]
     },
     "execution_count": 90,
     "metadata": {},
     "output_type": "execute_result"
    }
   ],
   "source": [
    "round(4.4)"
   ]
  },
  {
   "cell_type": "code",
   "execution_count": 91,
   "id": "9d13e356",
   "metadata": {},
   "outputs": [
    {
     "data": {
      "text/plain": [
       "4"
      ]
     },
     "execution_count": 91,
     "metadata": {},
     "output_type": "execute_result"
    }
   ],
   "source": [
    "round(4.5)"
   ]
  },
  {
   "cell_type": "code",
   "execution_count": 93,
   "id": "84ad9ef8",
   "metadata": {},
   "outputs": [
    {
     "data": {
      "text/plain": [
       "5"
      ]
     },
     "execution_count": 93,
     "metadata": {},
     "output_type": "execute_result"
    }
   ],
   "source": [
    "round(4.6)"
   ]
  },
  {
   "cell_type": "code",
   "execution_count": 94,
   "id": "2f057581",
   "metadata": {},
   "outputs": [],
   "source": [
    "x = 9.21"
   ]
  },
  {
   "cell_type": "code",
   "execution_count": 98,
   "id": "6e6a81dd",
   "metadata": {},
   "outputs": [
    {
     "name": "stdout",
     "output_type": "stream",
     "text": [
      "We are printing the value of x is 9.2\n"
     ]
    }
   ],
   "source": [
    "print(f\"We are printing the value of x is {x:.1f}\")"
   ]
  },
  {
   "cell_type": "markdown",
   "id": "0f10b0e3",
   "metadata": {},
   "source": [
    "# Taking input from user"
   ]
  },
  {
   "cell_type": "code",
   "execution_count": 9,
   "id": "2685ab69",
   "metadata": {},
   "outputs": [
    {
     "name": "stdout",
     "output_type": "stream",
     "text": [
      "Enter a number here: 11\n",
      "11\n"
     ]
    }
   ],
   "source": [
    "num = int(input(\"Enter a number here: \"))\n",
    "print(num)"
   ]
  },
  {
   "cell_type": "code",
   "execution_count": 10,
   "id": "14fbb9bb",
   "metadata": {},
   "outputs": [
    {
     "name": "stdout",
     "output_type": "stream",
     "text": [
      "Enter a name here: Antonio\n",
      "Antonio\n"
     ]
    }
   ],
   "source": [
    "name = input(\"Enter a name here: \")\n",
    "print(name)"
   ]
  },
  {
   "cell_type": "code",
   "execution_count": 11,
   "id": "17f8860c",
   "metadata": {},
   "outputs": [
    {
     "data": {
      "text/plain": [
       "str"
      ]
     },
     "execution_count": 11,
     "metadata": {},
     "output_type": "execute_result"
    }
   ],
   "source": [
    "type(name)"
   ]
  },
  {
   "cell_type": "code",
   "execution_count": 12,
   "id": "485d5ae2",
   "metadata": {},
   "outputs": [
    {
     "data": {
      "text/plain": [
       "int"
      ]
     },
     "execution_count": 12,
     "metadata": {},
     "output_type": "execute_result"
    }
   ],
   "source": [
    "type(num)"
   ]
  },
  {
   "cell_type": "markdown",
   "id": "237b47fe",
   "metadata": {},
   "source": [
    "# List in Python"
   ]
  },
  {
   "cell_type": "code",
   "execution_count": 14,
   "id": "7fa77264",
   "metadata": {},
   "outputs": [
    {
     "name": "stdout",
     "output_type": "stream",
     "text": [
      "[]\n",
      "[]\n"
     ]
    }
   ],
   "source": [
    "# List creation\n",
    "new_list = []\n",
    "new_list1 = list()\n",
    "print(new_list)\n",
    "print(new_list1)"
   ]
  },
  {
   "cell_type": "code",
   "execution_count": 15,
   "id": "1f83db01",
   "metadata": {},
   "outputs": [
    {
     "data": {
      "text/plain": [
       "list"
      ]
     },
     "execution_count": 15,
     "metadata": {},
     "output_type": "execute_result"
    }
   ],
   "source": [
    "# Types of list\n",
    "type(new_list)"
   ]
  },
  {
   "cell_type": "code",
   "execution_count": 17,
   "id": "fc41253b",
   "metadata": {},
   "outputs": [
    {
     "name": "stdout",
     "output_type": "stream",
     "text": [
      "<class 'list'>\n",
      "<class 'list'>\n"
     ]
    }
   ],
   "source": [
    "#List of numbers\n",
    "nums = [1, 2, 3, 4]\n",
    "numbs = list((10, 15, 20))\n",
    "print(type(nums))\n",
    "print(type(numbs))"
   ]
  },
  {
   "cell_type": "code",
   "execution_count": 19,
   "id": "99f3dd31",
   "metadata": {},
   "outputs": [
    {
     "name": "stdout",
     "output_type": "stream",
     "text": [
      "the mixed list: ['blue', True, 1, 1.5]\n"
     ]
    }
   ],
   "source": [
    "#Multiple types in a list\n",
    "mixed_list = [\"blue\", True, 1, 1.5]\n",
    "print(\"the mixed list:\", mixed_list)"
   ]
  },
  {
   "cell_type": "code",
   "execution_count": 21,
   "id": "76b1f6f7",
   "metadata": {},
   "outputs": [
    {
     "name": "stdout",
     "output_type": "stream",
     "text": [
      "[1, 2, [3, 3.1], 4, 5]\n"
     ]
    }
   ],
   "source": [
    "# List in a list\n",
    "nums = [1, 2, [3, 3.1], 4, 5]\n",
    "print(nums)"
   ]
  },
  {
   "cell_type": "code",
   "execution_count": 22,
   "id": "d350b281",
   "metadata": {},
   "outputs": [
    {
     "name": "stdout",
     "output_type": "stream",
     "text": [
      "1\n",
      "2\n",
      "[3, 3.1]\n"
     ]
    }
   ],
   "source": [
    "# Accesing list items with the index numbers\n",
    "print(nums[0])\n",
    "print(nums[1])\n",
    "print(nums[2])"
   ]
  },
  {
   "cell_type": "code",
   "execution_count": 23,
   "id": "9aa67858",
   "metadata": {},
   "outputs": [
    {
     "data": {
      "text/plain": [
       "5"
      ]
     },
     "execution_count": 23,
     "metadata": {},
     "output_type": "execute_result"
    }
   ],
   "source": [
    "#Knowing the number of items in list\n",
    "len(nums)"
   ]
  },
  {
   "cell_type": "code",
   "execution_count": 24,
   "id": "6922f973",
   "metadata": {},
   "outputs": [
    {
     "data": {
      "text/plain": [
       "[1, 2, [3, 3.1]]"
      ]
     },
     "execution_count": 24,
     "metadata": {},
     "output_type": "execute_result"
    }
   ],
   "source": [
    "nums[0:3]"
   ]
  },
  {
   "cell_type": "code",
   "execution_count": 26,
   "id": "dab9982d",
   "metadata": {},
   "outputs": [
    {
     "data": {
      "text/plain": [
       "[1, 2, [3, 3.1]]"
      ]
     },
     "execution_count": 26,
     "metadata": {},
     "output_type": "execute_result"
    }
   ],
   "source": [
    "nums[:3]"
   ]
  },
  {
   "cell_type": "code",
   "execution_count": 27,
   "id": "963c0519",
   "metadata": {},
   "outputs": [
    {
     "data": {
      "text/plain": [
       "[4, 5]"
      ]
     },
     "execution_count": 27,
     "metadata": {},
     "output_type": "execute_result"
    }
   ],
   "source": [
    "nums[3:]"
   ]
  },
  {
   "cell_type": "code",
   "execution_count": 28,
   "id": "cd046564",
   "metadata": {},
   "outputs": [
    {
     "name": "stdout",
     "output_type": "stream",
     "text": [
      "5\n",
      "4\n"
     ]
    }
   ],
   "source": [
    "print(nums[-1])\n",
    "print(nums[-2])"
   ]
  },
  {
   "cell_type": "code",
   "execution_count": 29,
   "id": "2a743d5d",
   "metadata": {},
   "outputs": [],
   "source": [
    "colors = [\"red\", \"black\", \"white\"]\n"
   ]
  },
  {
   "cell_type": "code",
   "execution_count": 30,
   "id": "8a783dac",
   "metadata": {},
   "outputs": [
    {
     "data": {
      "text/plain": [
       "True"
      ]
     },
     "execution_count": 30,
     "metadata": {},
     "output_type": "execute_result"
    }
   ],
   "source": [
    "\"white\" in colors"
   ]
  },
  {
   "cell_type": "code",
   "execution_count": 31,
   "id": "f36051b3",
   "metadata": {},
   "outputs": [
    {
     "data": {
      "text/plain": [
       "True"
      ]
     },
     "execution_count": 31,
     "metadata": {},
     "output_type": "execute_result"
    }
   ],
   "source": [
    "\"blue\" not in \"colors\""
   ]
  },
  {
   "cell_type": "code",
   "execution_count": 32,
   "id": "58a8940f",
   "metadata": {},
   "outputs": [],
   "source": [
    "colors.append(\"yellow\")"
   ]
  },
  {
   "cell_type": "code",
   "execution_count": 33,
   "id": "4eb0cb68",
   "metadata": {},
   "outputs": [
    {
     "name": "stdout",
     "output_type": "stream",
     "text": [
      "['red', 'black', 'white', 'yellow']\n"
     ]
    }
   ],
   "source": [
    "print (colors)"
   ]
  },
  {
   "cell_type": "code",
   "execution_count": 34,
   "id": "706c6688",
   "metadata": {},
   "outputs": [],
   "source": [
    "colors.insert(2, \"green\")"
   ]
  },
  {
   "cell_type": "code",
   "execution_count": 35,
   "id": "aeb0618c",
   "metadata": {},
   "outputs": [
    {
     "data": {
      "text/plain": [
       "['red', 'black', 'green', 'white', 'yellow']"
      ]
     },
     "execution_count": 35,
     "metadata": {},
     "output_type": "execute_result"
    }
   ],
   "source": [
    "colors"
   ]
  },
  {
   "cell_type": "code",
   "execution_count": 36,
   "id": "018f892c",
   "metadata": {},
   "outputs": [
    {
     "data": {
      "text/plain": [
       "'white'"
      ]
     },
     "execution_count": 36,
     "metadata": {},
     "output_type": "execute_result"
    }
   ],
   "source": [
    "colors.pop(3)"
   ]
  },
  {
   "cell_type": "code",
   "execution_count": 37,
   "id": "35c20b58",
   "metadata": {},
   "outputs": [
    {
     "data": {
      "text/plain": [
       "['red', 'black', 'green', 'yellow']"
      ]
     },
     "execution_count": 37,
     "metadata": {},
     "output_type": "execute_result"
    }
   ],
   "source": [
    "colors"
   ]
  },
  {
   "cell_type": "code",
   "execution_count": 38,
   "id": "a92d2503",
   "metadata": {},
   "outputs": [],
   "source": [
    "colors.extend ([\"indigo\", \"orange\"])"
   ]
  },
  {
   "cell_type": "code",
   "execution_count": 39,
   "id": "b6af9202",
   "metadata": {},
   "outputs": [
    {
     "data": {
      "text/plain": [
       "['red', 'black', 'green', 'yellow', 'indigo', 'orange']"
      ]
     },
     "execution_count": 39,
     "metadata": {},
     "output_type": "execute_result"
    }
   ],
   "source": [
    "colors"
   ]
  },
  {
   "cell_type": "markdown",
   "id": "6be67096",
   "metadata": {},
   "source": [
    "# tuple data structure"
   ]
  },
  {
   "cell_type": "code",
   "execution_count": 40,
   "id": "d6e19f52",
   "metadata": {},
   "outputs": [],
   "source": [
    "nums = tuple((1, 2, 3, 4, 5))\n",
    "nums1 = (1, 2, 3, 4, 5, 6, 7, 8)"
   ]
  },
  {
   "cell_type": "code",
   "execution_count": 41,
   "id": "0d7802d6",
   "metadata": {},
   "outputs": [
    {
     "name": "stdout",
     "output_type": "stream",
     "text": [
      "<class 'tuple'>\n",
      "<class 'tuple'>\n"
     ]
    }
   ],
   "source": [
    "print(type(nums))\n",
    "print(type(nums1))"
   ]
  },
  {
   "cell_type": "code",
   "execution_count": 42,
   "id": "4bc67c4c",
   "metadata": {},
   "outputs": [
    {
     "data": {
      "text/plain": [
       "tuple"
      ]
     },
     "execution_count": 42,
     "metadata": {},
     "output_type": "execute_result"
    }
   ],
   "source": [
    "type(nums)"
   ]
  },
  {
   "cell_type": "code",
   "execution_count": 43,
   "id": "e16e3a71",
   "metadata": {},
   "outputs": [
    {
     "data": {
      "text/plain": [
       "8"
      ]
     },
     "execution_count": 43,
     "metadata": {},
     "output_type": "execute_result"
    }
   ],
   "source": [
    "len(nums1)"
   ]
  },
  {
   "cell_type": "code",
   "execution_count": 44,
   "id": "3a655a2e",
   "metadata": {},
   "outputs": [
    {
     "data": {
      "text/plain": [
       "(1, 2, 3)"
      ]
     },
     "execution_count": 44,
     "metadata": {},
     "output_type": "execute_result"
    }
   ],
   "source": [
    "nums[0:3]"
   ]
  },
  {
   "cell_type": "code",
   "execution_count": 2,
   "id": "a6ba0574",
   "metadata": {},
   "outputs": [],
   "source": [
    "news_fruits = tuple((\"orange\", \"cherry\", \"lemon\"))"
   ]
  },
  {
   "cell_type": "code",
   "execution_count": 4,
   "id": "2c8430d5",
   "metadata": {},
   "outputs": [
    {
     "data": {
      "text/plain": [
       "True"
      ]
     },
     "execution_count": 4,
     "metadata": {},
     "output_type": "execute_result"
    }
   ],
   "source": [
    "\"orange\" in news_fruits"
   ]
  },
  {
   "cell_type": "code",
   "execution_count": 5,
   "id": "279bd8b1",
   "metadata": {},
   "outputs": [
    {
     "data": {
      "text/plain": [
       "False"
      ]
     },
     "execution_count": 5,
     "metadata": {},
     "output_type": "execute_result"
    }
   ],
   "source": [
    "\"cherry\" not in news_fruits"
   ]
  },
  {
   "cell_type": "code",
   "execution_count": 6,
   "id": "71a21d78",
   "metadata": {},
   "outputs": [],
   "source": [
    "del news_fruits # Borra las variables"
   ]
  },
  {
   "cell_type": "markdown",
   "id": "3c96ae61",
   "metadata": {},
   "source": [
    "# Dictionaries Data Structure"
   ]
  },
  {
   "cell_type": "code",
   "execution_count": 21,
   "id": "3d2253ba",
   "metadata": {},
   "outputs": [],
   "source": [
    "new_D = {\"Ronaldo\": 36, \"Messi\": 34, \"Salah\": 27}\n",
    "new_D1 = dict({\"Dani\": 33, \"Sane\": 24, \"Sam\": 30})"
   ]
  },
  {
   "cell_type": "code",
   "execution_count": 22,
   "id": "d6a72d92",
   "metadata": {},
   "outputs": [
    {
     "name": "stdout",
     "output_type": "stream",
     "text": [
      "<class 'dict'>\n",
      "<class 'dict'>\n"
     ]
    }
   ],
   "source": [
    "print(type(new_D))\n",
    "print(type(new_D1))"
   ]
  },
  {
   "cell_type": "code",
   "execution_count": 23,
   "id": "cf64cc27",
   "metadata": {},
   "outputs": [],
   "source": [
    "#Sequence of tuples\n",
    "children = dict({\n",
    "    (\"Child1\", \"5\"),\n",
    "    (\"Child2\", \"6\"),\n",
    "    (\"Child3\", \"7\"),\n",
    "})"
   ]
  },
  {
   "cell_type": "code",
   "execution_count": 24,
   "id": "db85aeee",
   "metadata": {},
   "outputs": [
    {
     "data": {
      "text/plain": [
       "dict"
      ]
     },
     "execution_count": 24,
     "metadata": {},
     "output_type": "execute_result"
    }
   ],
   "source": [
    "type(children)"
   ]
  },
  {
   "cell_type": "code",
   "execution_count": 25,
   "id": "828f8d68",
   "metadata": {},
   "outputs": [
    {
     "data": {
      "text/plain": [
       "34"
      ]
     },
     "execution_count": 25,
     "metadata": {},
     "output_type": "execute_result"
    }
   ],
   "source": [
    "new_D[\"Messi\"]"
   ]
  },
  {
   "cell_type": "code",
   "execution_count": 26,
   "id": "636ce4ef",
   "metadata": {},
   "outputs": [],
   "source": [
    "new_D[\"Messi\"] = \"35\""
   ]
  },
  {
   "cell_type": "code",
   "execution_count": 27,
   "id": "16ca3b4c",
   "metadata": {},
   "outputs": [
    {
     "data": {
      "text/plain": [
       "{'Ronaldo': 36, 'Messi': '35', 'Salah': 27}"
      ]
     },
     "execution_count": 27,
     "metadata": {},
     "output_type": "execute_result"
    }
   ],
   "source": [
    "new_D"
   ]
  },
  {
   "cell_type": "code",
   "execution_count": 28,
   "id": "91fe649d",
   "metadata": {},
   "outputs": [],
   "source": [
    "del new_D[\"Messi\"]"
   ]
  },
  {
   "cell_type": "code",
   "execution_count": 29,
   "id": "64e3ea2c",
   "metadata": {},
   "outputs": [
    {
     "data": {
      "text/plain": [
       "{'Ronaldo': 36, 'Salah': 27}"
      ]
     },
     "execution_count": 29,
     "metadata": {},
     "output_type": "execute_result"
    }
   ],
   "source": [
    "new_D"
   ]
  },
  {
   "cell_type": "code",
   "execution_count": 30,
   "id": "f0a444cb",
   "metadata": {},
   "outputs": [
    {
     "data": {
      "text/plain": [
       "False"
      ]
     },
     "execution_count": 30,
     "metadata": {},
     "output_type": "execute_result"
    }
   ],
   "source": [
    "\"Messi\" in new_D"
   ]
  },
  {
   "cell_type": "markdown",
   "id": "52e11cb5",
   "metadata": {},
   "source": [
    "# Sets in python"
   ]
  },
  {
   "cell_type": "code",
   "execution_count": 2,
   "id": "c6f98f4b",
   "metadata": {},
   "outputs": [],
   "source": [
    "set_number = set((2, 4, 6, 8, 10))\n",
    "set_number1 = {1, 2, 3, 4, 5, 6}"
   ]
  },
  {
   "cell_type": "code",
   "execution_count": 5,
   "id": "27fefd3e",
   "metadata": {},
   "outputs": [
    {
     "name": "stdout",
     "output_type": "stream",
     "text": [
      "<class 'set'>\n",
      "<class 'set'>\n"
     ]
    }
   ],
   "source": [
    "print(type(set_number))\n",
    "print(type(set_number1))"
   ]
  },
  {
   "cell_type": "code",
   "execution_count": 6,
   "id": "6cde378f",
   "metadata": {},
   "outputs": [
    {
     "data": {
      "text/plain": [
       "{'P', 'h', 'n', 'o', 't', 'y'}"
      ]
     },
     "execution_count": 6,
     "metadata": {},
     "output_type": "execute_result"
    }
   ],
   "source": [
    "set(\"Python\")"
   ]
  },
  {
   "cell_type": "code",
   "execution_count": 7,
   "id": "097fcf77",
   "metadata": {},
   "outputs": [],
   "source": [
    "x = set({1: \"name\", 2: \"age\"})"
   ]
  },
  {
   "cell_type": "code",
   "execution_count": 8,
   "id": "31b77ecc",
   "metadata": {},
   "outputs": [
    {
     "data": {
      "text/plain": [
       "set"
      ]
     },
     "execution_count": 8,
     "metadata": {},
     "output_type": "execute_result"
    }
   ],
   "source": [
    "type(x)"
   ]
  },
  {
   "cell_type": "code",
   "execution_count": 9,
   "id": "5e1835df",
   "metadata": {},
   "outputs": [],
   "source": [
    "del x"
   ]
  },
  {
   "cell_type": "markdown",
   "id": "652f3337",
   "metadata": {},
   "source": [
    "# Compararing Value"
   ]
  },
  {
   "cell_type": "code",
   "execution_count": 11,
   "id": "89ca04c0",
   "metadata": {},
   "outputs": [],
   "source": [
    "x = 10\n",
    "y = 20"
   ]
  },
  {
   "cell_type": "code",
   "execution_count": 12,
   "id": "21231a3c",
   "metadata": {},
   "outputs": [
    {
     "data": {
      "text/plain": [
       "False"
      ]
     },
     "execution_count": 12,
     "metadata": {},
     "output_type": "execute_result"
    }
   ],
   "source": [
    "x > y"
   ]
  },
  {
   "cell_type": "code",
   "execution_count": 13,
   "id": "375b8629",
   "metadata": {},
   "outputs": [
    {
     "data": {
      "text/plain": [
       "True"
      ]
     },
     "execution_count": 13,
     "metadata": {},
     "output_type": "execute_result"
    }
   ],
   "source": [
    "x < y"
   ]
  },
  {
   "cell_type": "code",
   "execution_count": 14,
   "id": "188b77c1",
   "metadata": {},
   "outputs": [
    {
     "data": {
      "text/plain": [
       "False"
      ]
     },
     "execution_count": 14,
     "metadata": {},
     "output_type": "execute_result"
    }
   ],
   "source": [
    "x >= y"
   ]
  },
  {
   "cell_type": "code",
   "execution_count": 15,
   "id": "b26689fa",
   "metadata": {},
   "outputs": [
    {
     "data": {
      "text/plain": [
       "True"
      ]
     },
     "execution_count": 15,
     "metadata": {},
     "output_type": "execute_result"
    }
   ],
   "source": [
    "x <= y"
   ]
  },
  {
   "cell_type": "code",
   "execution_count": 16,
   "id": "f4a8e7ff",
   "metadata": {},
   "outputs": [
    {
     "data": {
      "text/plain": [
       "True"
      ]
     },
     "execution_count": 16,
     "metadata": {},
     "output_type": "execute_result"
    }
   ],
   "source": [
    "x != y"
   ]
  },
  {
   "cell_type": "code",
   "execution_count": 17,
   "id": "d44a7519",
   "metadata": {},
   "outputs": [
    {
     "data": {
      "text/plain": [
       "False"
      ]
     },
     "execution_count": 17,
     "metadata": {},
     "output_type": "execute_result"
    }
   ],
   "source": [
    "x == y"
   ]
  },
  {
   "cell_type": "code",
   "execution_count": 18,
   "id": "8e2a9a9d",
   "metadata": {},
   "outputs": [
    {
     "data": {
      "text/plain": [
       "bool"
      ]
     },
     "execution_count": 18,
     "metadata": {},
     "output_type": "execute_result"
    }
   ],
   "source": [
    "type(x == y)"
   ]
  },
  {
   "cell_type": "code",
   "execution_count": 19,
   "id": "a895bf88",
   "metadata": {},
   "outputs": [
    {
     "name": "stdout",
     "output_type": "stream",
     "text": [
      "<class 'bool'>\n"
     ]
    }
   ],
   "source": [
    "print(type(x < y))"
   ]
  },
  {
   "cell_type": "code",
   "execution_count": 20,
   "id": "ab20985b",
   "metadata": {},
   "outputs": [
    {
     "data": {
      "text/plain": [
       "True"
      ]
     },
     "execution_count": 20,
     "metadata": {},
     "output_type": "execute_result"
    }
   ],
   "source": [
    "\"c\" == \"c\""
   ]
  },
  {
   "cell_type": "code",
   "execution_count": 21,
   "id": "24c129fd",
   "metadata": {},
   "outputs": [
    {
     "data": {
      "text/plain": [
       "False"
      ]
     },
     "execution_count": 21,
     "metadata": {},
     "output_type": "execute_result"
    }
   ],
   "source": [
    "\"c\" == \"d\""
   ]
  },
  {
   "cell_type": "code",
   "execution_count": 22,
   "id": "a2f3273d",
   "metadata": {},
   "outputs": [
    {
     "data": {
      "text/plain": [
       "True"
      ]
     },
     "execution_count": 22,
     "metadata": {},
     "output_type": "execute_result"
    }
   ],
   "source": [
    "\"c\" < \"d\""
   ]
  },
  {
   "cell_type": "code",
   "execution_count": 23,
   "id": "002487d1",
   "metadata": {},
   "outputs": [
    {
     "data": {
      "text/plain": [
       "False"
      ]
     },
     "execution_count": 23,
     "metadata": {},
     "output_type": "execute_result"
    }
   ],
   "source": [
    "\"c\" > \"d\""
   ]
  },
  {
   "cell_type": "code",
   "execution_count": 24,
   "id": "92437965",
   "metadata": {},
   "outputs": [
    {
     "data": {
      "text/plain": [
       "bool"
      ]
     },
     "execution_count": 24,
     "metadata": {},
     "output_type": "execute_result"
    }
   ],
   "source": [
    "type (\"c\" < \"f\")"
   ]
  },
  {
   "cell_type": "markdown",
   "id": "3da6ae84",
   "metadata": {},
   "source": [
    "# Logics "
   ]
  },
  {
   "cell_type": "code",
   "execution_count": 25,
   "id": "7ca0abec",
   "metadata": {},
   "outputs": [
    {
     "data": {
      "text/plain": [
       "True"
      ]
     },
     "execution_count": 25,
     "metadata": {},
     "output_type": "execute_result"
    }
   ],
   "source": [
    "3 > 2 and 10 <= 12"
   ]
  },
  {
   "cell_type": "code",
   "execution_count": 26,
   "id": "485e3523",
   "metadata": {},
   "outputs": [
    {
     "data": {
      "text/plain": [
       "False"
      ]
     },
     "execution_count": 26,
     "metadata": {},
     "output_type": "execute_result"
    }
   ],
   "source": [
    "3 < 2 and 10 <=12"
   ]
  },
  {
   "cell_type": "code",
   "execution_count": 27,
   "id": "402a1110",
   "metadata": {},
   "outputs": [
    {
     "data": {
      "text/plain": [
       "False"
      ]
     },
     "execution_count": 27,
     "metadata": {},
     "output_type": "execute_result"
    }
   ],
   "source": [
    "3 < 2 and 10 >= 12"
   ]
  },
  {
   "cell_type": "code",
   "execution_count": 28,
   "id": "9825cfc8",
   "metadata": {},
   "outputs": [
    {
     "data": {
      "text/plain": [
       "True"
      ]
     },
     "execution_count": 28,
     "metadata": {},
     "output_type": "execute_result"
    }
   ],
   "source": [
    "True and True"
   ]
  },
  {
   "cell_type": "code",
   "execution_count": 29,
   "id": "5adbe10a",
   "metadata": {},
   "outputs": [
    {
     "data": {
      "text/plain": [
       "False"
      ]
     },
     "execution_count": 29,
     "metadata": {},
     "output_type": "execute_result"
    }
   ],
   "source": [
    "True and False"
   ]
  },
  {
   "cell_type": "code",
   "execution_count": 30,
   "id": "56f5ea44",
   "metadata": {},
   "outputs": [
    {
     "data": {
      "text/plain": [
       "False"
      ]
     },
     "execution_count": 30,
     "metadata": {},
     "output_type": "execute_result"
    }
   ],
   "source": [
    "False and False"
   ]
  },
  {
   "cell_type": "code",
   "execution_count": 31,
   "id": "2e562595",
   "metadata": {},
   "outputs": [
    {
     "data": {
      "text/plain": [
       "True"
      ]
     },
     "execution_count": 31,
     "metadata": {},
     "output_type": "execute_result"
    }
   ],
   "source": [
    "3 < 2 or 10 <=10"
   ]
  },
  {
   "cell_type": "code",
   "execution_count": 32,
   "id": "13ad6d73",
   "metadata": {},
   "outputs": [
    {
     "data": {
      "text/plain": [
       "True"
      ]
     },
     "execution_count": 32,
     "metadata": {},
     "output_type": "execute_result"
    }
   ],
   "source": [
    "3 > 2 or 10 >= 12"
   ]
  },
  {
   "cell_type": "code",
   "execution_count": 33,
   "id": "875dd646",
   "metadata": {},
   "outputs": [
    {
     "data": {
      "text/plain": [
       "False"
      ]
     },
     "execution_count": 33,
     "metadata": {},
     "output_type": "execute_result"
    }
   ],
   "source": [
    "3 < 2 or 10 >=12"
   ]
  },
  {
   "cell_type": "code",
   "execution_count": 34,
   "id": "9e859018",
   "metadata": {},
   "outputs": [
    {
     "data": {
      "text/plain": [
       "False"
      ]
     },
     "execution_count": 34,
     "metadata": {},
     "output_type": "execute_result"
    }
   ],
   "source": [
    "not True"
   ]
  },
  {
   "cell_type": "code",
   "execution_count": 35,
   "id": "34a080da",
   "metadata": {},
   "outputs": [
    {
     "data": {
      "text/plain": [
       "True"
      ]
     },
     "execution_count": 35,
     "metadata": {},
     "output_type": "execute_result"
    }
   ],
   "source": [
    "not False"
   ]
  },
  {
   "cell_type": "code",
   "execution_count": 36,
   "id": "a201e304",
   "metadata": {},
   "outputs": [
    {
     "data": {
      "text/plain": [
       "True"
      ]
     },
     "execution_count": 36,
     "metadata": {},
     "output_type": "execute_result"
    }
   ],
   "source": [
    "not True is False"
   ]
  },
  {
   "cell_type": "code",
   "execution_count": 37,
   "id": "13ab883c",
   "metadata": {},
   "outputs": [
    {
     "data": {
      "text/plain": [
       "True"
      ]
     },
     "execution_count": 37,
     "metadata": {},
     "output_type": "execute_result"
    }
   ],
   "source": [
    "not True == False"
   ]
  },
  {
   "cell_type": "code",
   "execution_count": 39,
   "id": "085ba31b",
   "metadata": {},
   "outputs": [
    {
     "data": {
      "text/plain": [
       "False"
      ]
     },
     "execution_count": 39,
     "metadata": {},
     "output_type": "execute_result"
    }
   ],
   "source": [
    "not True != False"
   ]
  },
  {
   "cell_type": "markdown",
   "id": "12e9242a",
   "metadata": {},
   "source": [
    "# Condicional Statements"
   ]
  },
  {
   "cell_type": "code",
   "execution_count": 1,
   "id": "7ac05cc7",
   "metadata": {},
   "outputs": [
    {
     "name": "stdout",
     "output_type": "stream",
     "text": [
      "This is True!\n"
     ]
    }
   ],
   "source": [
    "if True:\n",
    "    print(\"This is True!\")"
   ]
  },
  {
   "cell_type": "code",
   "execution_count": 2,
   "id": "2e140861",
   "metadata": {},
   "outputs": [
    {
     "name": "stdout",
     "output_type": "stream",
     "text": [
      "10 is equal to 5 multiplied by 2¡\n"
     ]
    }
   ],
   "source": [
    "if 10 == 5 * 2:\n",
    "    print(\"10 is equal to 5 multiplied by 2¡\")"
   ]
  },
  {
   "cell_type": "code",
   "execution_count": 3,
   "id": "4b3ec0bb",
   "metadata": {},
   "outputs": [],
   "source": [
    "if 10 == 3 * 2:\n",
    "    print(\"This is not executed\")"
   ]
  },
  {
   "cell_type": "code",
   "execution_count": 7,
   "id": "4b23fd73",
   "metadata": {},
   "outputs": [
    {
     "name": "stdout",
     "output_type": "stream",
     "text": [
      "The string will be executed¡\n",
      "Thanks for finishing the processs\n"
     ]
    }
   ],
   "source": [
    "x = 15\n",
    "\n",
    "if x >= 10:\n",
    "    print(\"The string will be executed¡\")\n",
    "print(\"Thanks for finishing the processs\")"
   ]
  },
  {
   "cell_type": "code",
   "execution_count": 9,
   "id": "f32082b0",
   "metadata": {},
   "outputs": [
    {
     "name": "stdout",
     "output_type": "stream",
     "text": [
      "Sorry, you are failed¡\n",
      "Thanks for joining us¡\n"
     ]
    }
   ],
   "source": [
    "x = 20\n",
    "\n",
    "if x >= 30:\n",
    "    print(\"You are suceeded¡\")\n",
    "else:\n",
    "    print(\"Sorry, you are failed¡\")\n",
    "    \n",
    "print(\"Thanks for joining us¡\")"
   ]
  },
  {
   "cell_type": "code",
   "execution_count": 10,
   "id": "a73a6b20",
   "metadata": {},
   "outputs": [
    {
     "name": "stdout",
     "output_type": "stream",
     "text": [
      "You are in the middle¡\n",
      "Thans for joining us¡\n"
     ]
    }
   ],
   "source": [
    "x = 30\n",
    "if x > 30:\n",
    "    print(\"You are suceeded¡\")\n",
    "elif x == 30:\n",
    "    print(\"You are in the middle¡\")\n",
    "else:\n",
    "    print(\"Sorry, you failed¡\")\n",
    "print(\"Thans for joining us¡\")"
   ]
  },
  {
   "cell_type": "markdown",
   "id": "aaff4ede",
   "metadata": {},
   "source": [
    "# The while loop"
   ]
  },
  {
   "cell_type": "code",
   "execution_count": 11,
   "id": "de9572d0",
   "metadata": {},
   "outputs": [
    {
     "name": "stdout",
     "output_type": "stream",
     "text": [
      "1\n",
      "2\n",
      "3\n",
      "4\n",
      "5\n",
      "6\n"
     ]
    }
   ],
   "source": [
    "x = 1\n",
    "\n",
    "while x < 7:\n",
    "    print(x)\n",
    "    x = x + 1"
   ]
  },
  {
   "cell_type": "markdown",
   "id": "2389252e",
   "metadata": {},
   "source": [
    "# The for loop"
   ]
  },
  {
   "cell_type": "code",
   "execution_count": 13,
   "id": "4e3f563e",
   "metadata": {},
   "outputs": [
    {
     "name": "stdout",
     "output_type": "stream",
     "text": [
      "P\n",
      "r\n",
      "o\n",
      "g\n",
      "r\n",
      "a\n",
      "m\n",
      "i\n",
      "n\n",
      "g\n"
     ]
    }
   ],
   "source": [
    "for chars in \"Programing\":\n",
    "    print(chars)"
   ]
  },
  {
   "cell_type": "code",
   "execution_count": 14,
   "id": "14283b8d",
   "metadata": {},
   "outputs": [
    {
     "name": "stdout",
     "output_type": "stream",
     "text": [
      "Programing\n",
      "Programing\n",
      "Programing\n",
      "Programing\n",
      "Programing\n"
     ]
    }
   ],
   "source": [
    "for i in range(5):\n",
    "    print(\"Programing\")"
   ]
  },
  {
   "cell_type": "code",
   "execution_count": 16,
   "id": "99364a18",
   "metadata": {},
   "outputs": [
    {
     "name": "stdout",
     "output_type": "stream",
     "text": [
      "10\n",
      "12\n",
      "14\n",
      "16\n",
      "18\n",
      "20\n",
      "22\n",
      "24\n",
      "26\n",
      "28\n"
     ]
    }
   ],
   "source": [
    "for i in range(5, 15):\n",
    "    print(i + i)\n"
   ]
  },
  {
   "cell_type": "markdown",
   "id": "f6094a34",
   "metadata": {},
   "source": [
    "# Built-in Functions"
   ]
  },
  {
   "cell_type": "code",
   "execution_count": 17,
   "id": "c1ae92e6",
   "metadata": {},
   "outputs": [
    {
     "data": {
      "text/plain": [
       "11"
      ]
     },
     "execution_count": 17,
     "metadata": {},
     "output_type": "execute_result"
    }
   ],
   "source": [
    "abs(11)"
   ]
  },
  {
   "cell_type": "code",
   "execution_count": 18,
   "id": "fd2cffe8",
   "metadata": {},
   "outputs": [
    {
     "data": {
      "text/plain": [
       "12.43"
      ]
     },
     "execution_count": 18,
     "metadata": {},
     "output_type": "execute_result"
    }
   ],
   "source": [
    "abs(-12.43)"
   ]
  },
  {
   "cell_type": "code",
   "execution_count": 19,
   "id": "412f7ae4",
   "metadata": {},
   "outputs": [
    {
     "data": {
      "text/plain": [
       "True"
      ]
     },
     "execution_count": 19,
     "metadata": {},
     "output_type": "execute_result"
    }
   ],
   "source": [
    "bool(1)"
   ]
  },
  {
   "cell_type": "code",
   "execution_count": 20,
   "id": "7e70193e",
   "metadata": {},
   "outputs": [
    {
     "data": {
      "text/plain": [
       "False"
      ]
     },
     "execution_count": 20,
     "metadata": {},
     "output_type": "execute_result"
    }
   ],
   "source": [
    "bool(0)"
   ]
  },
  {
   "cell_type": "code",
   "execution_count": 22,
   "id": "ea1de684",
   "metadata": {},
   "outputs": [
    {
     "data": {
      "text/plain": [
       "(3+4j)"
      ]
     },
     "execution_count": 22,
     "metadata": {},
     "output_type": "execute_result"
    }
   ],
   "source": [
    "complex(3, 4)"
   ]
  },
  {
   "cell_type": "code",
   "execution_count": 23,
   "id": "488ba7f5",
   "metadata": {},
   "outputs": [],
   "source": [
    "x = dict(name = \"Antonio\", age = 30)\n"
   ]
  },
  {
   "cell_type": "code",
   "execution_count": 24,
   "id": "69261f14",
   "metadata": {},
   "outputs": [
    {
     "data": {
      "text/plain": [
       "{'name': 'Antonio', 'age': 30}"
      ]
     },
     "execution_count": 24,
     "metadata": {},
     "output_type": "execute_result"
    }
   ],
   "source": [
    "x"
   ]
  },
  {
   "cell_type": "code",
   "execution_count": 25,
   "id": "e0065699",
   "metadata": {},
   "outputs": [
    {
     "data": {
      "text/plain": [
       "['__class__',\n",
       " '__class_getitem__',\n",
       " '__contains__',\n",
       " '__delattr__',\n",
       " '__delitem__',\n",
       " '__dir__',\n",
       " '__doc__',\n",
       " '__eq__',\n",
       " '__format__',\n",
       " '__ge__',\n",
       " '__getattribute__',\n",
       " '__getitem__',\n",
       " '__gt__',\n",
       " '__hash__',\n",
       " '__init__',\n",
       " '__init_subclass__',\n",
       " '__ior__',\n",
       " '__iter__',\n",
       " '__le__',\n",
       " '__len__',\n",
       " '__lt__',\n",
       " '__ne__',\n",
       " '__new__',\n",
       " '__or__',\n",
       " '__reduce__',\n",
       " '__reduce_ex__',\n",
       " '__repr__',\n",
       " '__reversed__',\n",
       " '__ror__',\n",
       " '__setattr__',\n",
       " '__setitem__',\n",
       " '__sizeof__',\n",
       " '__str__',\n",
       " '__subclasshook__',\n",
       " 'clear',\n",
       " 'copy',\n",
       " 'fromkeys',\n",
       " 'get',\n",
       " 'items',\n",
       " 'keys',\n",
       " 'pop',\n",
       " 'popitem',\n",
       " 'setdefault',\n",
       " 'update',\n",
       " 'values']"
      ]
     },
     "execution_count": 25,
     "metadata": {},
     "output_type": "execute_result"
    }
   ],
   "source": [
    "dir(x)"
   ]
  },
  {
   "cell_type": "code",
   "execution_count": 26,
   "id": "24dc6af5",
   "metadata": {},
   "outputs": [
    {
     "name": "stdout",
     "output_type": "stream",
     "text": [
      "Entered name: Antonio\n"
     ]
    }
   ],
   "source": [
    "x = input(\"Entered name: \")"
   ]
  },
  {
   "cell_type": "code",
   "execution_count": 27,
   "id": "5010f7f6",
   "metadata": {},
   "outputs": [
    {
     "name": "stdout",
     "output_type": "stream",
     "text": [
      "Hi, Functions¡\n"
     ]
    }
   ],
   "source": [
    "print(\"Hi, Functions¡\")"
   ]
  },
  {
   "cell_type": "code",
   "execution_count": 28,
   "id": "7c4aae90",
   "metadata": {},
   "outputs": [
    {
     "data": {
      "text/plain": [
       "6"
      ]
     },
     "execution_count": 28,
     "metadata": {},
     "output_type": "execute_result"
    }
   ],
   "source": [
    "sum([1, 2, 3])"
   ]
  },
  {
   "cell_type": "code",
   "execution_count": 29,
   "id": "594dc3e4",
   "metadata": {},
   "outputs": [
    {
     "name": "stdout",
     "output_type": "stream",
     "text": [
      "[(1, 4), (2, 5), (3, 6)]\n"
     ]
    }
   ],
   "source": [
    "x = [1, 2, 3]\n",
    "y = [4, 5, 6]\n",
    "\n",
    "z = zip(x ,y)\n",
    "print(list(z))"
   ]
  },
  {
   "cell_type": "markdown",
   "id": "5d3926e8",
   "metadata": {},
   "source": [
    "# User-Defined Functions"
   ]
  },
  {
   "cell_type": "code",
   "execution_count": 30,
   "id": "24a62995",
   "metadata": {},
   "outputs": [],
   "source": [
    "def addition (x, y):\n",
    "    \"Return the sum of x and y back to the caller\"\n",
    "    add = x + y\n",
    "    return add"
   ]
  },
  {
   "cell_type": "code",
   "execution_count": 31,
   "id": "c5edd265",
   "metadata": {},
   "outputs": [
    {
     "data": {
      "text/plain": [
       "14"
      ]
     },
     "execution_count": 31,
     "metadata": {},
     "output_type": "execute_result"
    }
   ],
   "source": [
    "addition(10, 4)"
   ]
  },
  {
   "cell_type": "code",
   "execution_count": 32,
   "id": "d9a5127c",
   "metadata": {},
   "outputs": [
    {
     "name": "stdout",
     "output_type": "stream",
     "text": [
      "50\n"
     ]
    }
   ],
   "source": [
    "print(addition(20, 30))"
   ]
  },
  {
   "cell_type": "code",
   "execution_count": 33,
   "id": "fc78c4fb",
   "metadata": {},
   "outputs": [
    {
     "name": "stdout",
     "output_type": "stream",
     "text": [
      "Help on function addition in module __main__:\n",
      "\n",
      "addition(x, y)\n",
      "    Return the sum of x and y back to the caller\n",
      "\n"
     ]
    }
   ],
   "source": [
    "help(addition)"
   ]
  },
  {
   "cell_type": "code",
   "execution_count": 44,
   "id": "3140507b",
   "metadata": {},
   "outputs": [],
   "source": [
    "x = 20\n",
    "def new():\n",
    "    global x\n",
    "    x = 5\n",
    "    print(x)"
   ]
  },
  {
   "cell_type": "code",
   "execution_count": 45,
   "id": "0c145b93",
   "metadata": {},
   "outputs": [
    {
     "name": "stdout",
     "output_type": "stream",
     "text": [
      "5\n"
     ]
    }
   ],
   "source": [
    "new()"
   ]
  },
  {
   "cell_type": "code",
   "execution_count": 46,
   "id": "ab50f172",
   "metadata": {},
   "outputs": [
    {
     "name": "stdout",
     "output_type": "stream",
     "text": [
      "5\n"
     ]
    }
   ],
   "source": [
    "print(x)"
   ]
  },
  {
   "cell_type": "markdown",
   "id": "d4ca1954",
   "metadata": {},
   "source": [
    "# Lambda"
   ]
  },
  {
   "cell_type": "code",
   "execution_count": 49,
   "id": "a5b78f87",
   "metadata": {},
   "outputs": [],
   "source": [
    "multiply = lambda x: x * 20"
   ]
  },
  {
   "cell_type": "code",
   "execution_count": 50,
   "id": "07d2b85a",
   "metadata": {},
   "outputs": [
    {
     "name": "stdout",
     "output_type": "stream",
     "text": [
      "40\n"
     ]
    }
   ],
   "source": [
    "print(multiply(2))"
   ]
  },
  {
   "cell_type": "code",
   "execution_count": 51,
   "id": "2b129f9b",
   "metadata": {},
   "outputs": [
    {
     "name": "stdout",
     "output_type": "stream",
     "text": [
      "60\n"
     ]
    }
   ],
   "source": [
    "print(multiply(3))"
   ]
  },
  {
   "cell_type": "code",
   "execution_count": 53,
   "id": "e03a7b52",
   "metadata": {},
   "outputs": [],
   "source": [
    "remaind = lambda n: n % 2"
   ]
  },
  {
   "cell_type": "code",
   "execution_count": 55,
   "id": "5e535f1e",
   "metadata": {},
   "outputs": [
    {
     "name": "stdout",
     "output_type": "stream",
     "text": [
      "1\n"
     ]
    }
   ],
   "source": [
    "print(remaind(11))"
   ]
  },
  {
   "cell_type": "code",
   "execution_count": 56,
   "id": "a7de6e84",
   "metadata": {},
   "outputs": [
    {
     "name": "stdout",
     "output_type": "stream",
     "text": [
      "0\n"
     ]
    }
   ],
   "source": [
    "print(remaind(20))"
   ]
  },
  {
   "cell_type": "code",
   "execution_count": 60,
   "id": "bf5828d4",
   "metadata": {},
   "outputs": [],
   "source": [
    "def testing(n):\n",
    "    return lambda i: i * n"
   ]
  },
  {
   "cell_type": "code",
   "execution_count": 66,
   "id": "de6618b3",
   "metadata": {},
   "outputs": [],
   "source": [
    "r1 = testing(120)\n",
    "r2 = testing(200)"
   ]
  },
  {
   "cell_type": "code",
   "execution_count": 67,
   "id": "8b4a5ce6",
   "metadata": {},
   "outputs": [
    {
     "name": "stdout",
     "output_type": "stream",
     "text": [
      "600\n"
     ]
    }
   ],
   "source": [
    "print(r1(5))"
   ]
  },
  {
   "cell_type": "code",
   "execution_count": 68,
   "id": "548f2ab3",
   "metadata": {},
   "outputs": [
    {
     "name": "stdout",
     "output_type": "stream",
     "text": [
      "2000\n"
     ]
    }
   ],
   "source": [
    "print(r2(10))"
   ]
  },
  {
   "cell_type": "markdown",
   "id": "36e180a6",
   "metadata": {},
   "source": [
    "# Using break statement"
   ]
  },
  {
   "cell_type": "code",
   "execution_count": 2,
   "id": "9336213f",
   "metadata": {},
   "outputs": [
    {
     "name": "stdout",
     "output_type": "stream",
     "text": [
      "0\n",
      "1\n",
      "2\n",
      "The last number in the loop is 3\n"
     ]
    }
   ],
   "source": [
    "for x in range(0, 5):\n",
    "    if x ==3:\n",
    "        break\n",
    "    print(x)\n",
    "print(f\"The last number in the loop is {x}\")"
   ]
  },
  {
   "cell_type": "markdown",
   "id": "87e5bed4",
   "metadata": {},
   "source": [
    "# Using continue stament"
   ]
  },
  {
   "cell_type": "code",
   "execution_count": 5,
   "id": "84ea94a2",
   "metadata": {},
   "outputs": [
    {
     "name": "stdout",
     "output_type": "stream",
     "text": [
      "0\n",
      "1\n",
      "2\n",
      "4\n",
      "5\n",
      "6\n",
      "The last number  in loop is x = 6\n"
     ]
    }
   ],
   "source": [
    "for x in range(0, 7):\n",
    "    if x ==3:\n",
    "        continue\n",
    "    print(x)\n",
    "print(f\"The last number  in loop is x = {x}\")"
   ]
  },
  {
   "cell_type": "markdown",
   "id": "cd012351",
   "metadata": {},
   "source": [
    "# Using for ....else"
   ]
  },
  {
   "cell_type": "code",
   "execution_count": 6,
   "id": "fcc904ad",
   "metadata": {},
   "outputs": [
    {
     "name": "stdout",
     "output_type": "stream",
     "text": [
      "There is no V¡\n"
     ]
    }
   ],
   "source": [
    "message = \"Python is so simple¡\"\n",
    "for item in message:\n",
    "    if item == \"V\":\n",
    "        break\n",
    "        \n",
    "else:\n",
    "    print(\"There is no V¡\")"
   ]
  },
  {
   "cell_type": "markdown",
   "id": "24df95ae",
   "metadata": {},
   "source": [
    "# The password cheching example"
   ]
  },
  {
   "cell_type": "code",
   "execution_count": 8,
   "id": "4085d82e",
   "metadata": {},
   "outputs": [
    {
     "name": "stdout",
     "output_type": "stream",
     "text": [
      "Enter Pass: lol\n",
      "Error, This is not correct... Try again\n",
      "Enter Pass: 145\n",
      "Error, This is not correct... Try again\n",
      "Enter Pass: 8\n",
      "Error, This is not correct... Try again\n",
      "Enter Pass: 5\n",
      "Error, This is not correct... Try again\n",
      "The process is complete. Thanks¡\n"
     ]
    }
   ],
   "source": [
    "for x in range(4):\n",
    "    password = input(\"Enter Pass: \")\n",
    "    if password == \"12345@\":\n",
    "        break\n",
    "    print(\"Error, This is not correct... Try again\")\n",
    "else:\n",
    "    print(\"The process is complete. Thanks¡\")"
   ]
  },
  {
   "cell_type": "markdown",
   "id": "3298f37b",
   "metadata": {},
   "source": [
    "# Class in Python"
   ]
  },
  {
   "cell_type": "code",
   "execution_count": 14,
   "id": "04a83b36",
   "metadata": {},
   "outputs": [],
   "source": [
    "class car:\n",
    "    pass"
   ]
  },
  {
   "cell_type": "code",
   "execution_count": 15,
   "id": "b24eab09",
   "metadata": {},
   "outputs": [],
   "source": [
    "model1 = car()"
   ]
  },
  {
   "cell_type": "code",
   "execution_count": 16,
   "id": "970757bd",
   "metadata": {},
   "outputs": [],
   "source": [
    "class car:\n",
    "    color = \"Black\"\n",
    "    "
   ]
  },
  {
   "cell_type": "code",
   "execution_count": 17,
   "id": "eaa9911f",
   "metadata": {},
   "outputs": [],
   "source": [
    "model1 = car()"
   ]
  },
  {
   "cell_type": "code",
   "execution_count": 18,
   "id": "ac42e46b",
   "metadata": {},
   "outputs": [
    {
     "name": "stdout",
     "output_type": "stream",
     "text": [
      "Black\n"
     ]
    }
   ],
   "source": [
    "print(model1.color)"
   ]
  },
  {
   "cell_type": "code",
   "execution_count": 19,
   "id": "daf287c2",
   "metadata": {},
   "outputs": [],
   "source": [
    "class car:\n",
    "    def __init__(self, name, color):\n",
    "        self.name = name\n",
    "        self.color = color"
   ]
  },
  {
   "cell_type": "code",
   "execution_count": 20,
   "id": "117d80d0",
   "metadata": {},
   "outputs": [],
   "source": [
    "model1 = car(\"A1\", \"Black\")"
   ]
  },
  {
   "cell_type": "code",
   "execution_count": 21,
   "id": "9ca132ea",
   "metadata": {},
   "outputs": [
    {
     "name": "stdout",
     "output_type": "stream",
     "text": [
      "A1\n",
      "Black\n"
     ]
    }
   ],
   "source": [
    "print(model1.name)\n",
    "print(model1.color)"
   ]
  },
  {
   "cell_type": "code",
   "execution_count": 22,
   "id": "d1f5710b",
   "metadata": {},
   "outputs": [],
   "source": [
    "class car:\n",
    "    def __init__(self, name, color):\n",
    "        self.name = name\n",
    "        self.color = color\n",
    "    def message(self):\n",
    "        print(\"The car name is \" + self.name)"
   ]
  },
  {
   "cell_type": "code",
   "execution_count": 23,
   "id": "db36f436",
   "metadata": {},
   "outputs": [],
   "source": [
    "model1 = car(\"A1\", \"White\")"
   ]
  },
  {
   "cell_type": "code",
   "execution_count": 24,
   "id": "fa741f35",
   "metadata": {},
   "outputs": [
    {
     "name": "stdout",
     "output_type": "stream",
     "text": [
      "The car name is A1\n"
     ]
    }
   ],
   "source": [
    "model1.message()"
   ]
  },
  {
   "cell_type": "code",
   "execution_count": 25,
   "id": "be156378",
   "metadata": {},
   "outputs": [],
   "source": [
    "model1.color = \"Red\""
   ]
  },
  {
   "cell_type": "code",
   "execution_count": 26,
   "id": "3cddc525",
   "metadata": {},
   "outputs": [
    {
     "name": "stdout",
     "output_type": "stream",
     "text": [
      "Red\n"
     ]
    }
   ],
   "source": [
    "print(model1.color)"
   ]
  },
  {
   "cell_type": "code",
   "execution_count": 27,
   "id": "18164414",
   "metadata": {},
   "outputs": [],
   "source": [
    "# del model1.color"
   ]
  },
  {
   "cell_type": "code",
   "execution_count": 1,
   "id": "0ebad232",
   "metadata": {},
   "outputs": [],
   "source": [
    "# del model1"
   ]
  },
  {
   "cell_type": "code",
   "execution_count": 12,
   "id": "97d297ea",
   "metadata": {},
   "outputs": [],
   "source": [
    "class car:\n",
    "    def __init__(self, name, color):\n",
    "        self.name = name\n",
    "        self.color = color\n",
    "    def message(self):\n",
    "        print(self.name, self.color)"
   ]
  },
  {
   "cell_type": "code",
   "execution_count": 13,
   "id": "ac1b9c5c",
   "metadata": {},
   "outputs": [],
   "source": [
    "model1 = car(\"X1\", \"White\")"
   ]
  },
  {
   "cell_type": "code",
   "execution_count": 14,
   "id": "69fd5b07",
   "metadata": {},
   "outputs": [
    {
     "name": "stdout",
     "output_type": "stream",
     "text": [
      "X1 White\n"
     ]
    }
   ],
   "source": [
    "model1.message()"
   ]
  },
  {
   "cell_type": "code",
   "execution_count": 15,
   "id": "fdd853fb",
   "metadata": {},
   "outputs": [],
   "source": [
    "class car1(car):\n",
    "    pass"
   ]
  },
  {
   "cell_type": "code",
   "execution_count": 16,
   "id": "b4946ed0",
   "metadata": {},
   "outputs": [],
   "source": [
    "model1 = car1(\"B1\", \"Blue\")"
   ]
  },
  {
   "cell_type": "code",
   "execution_count": 17,
   "id": "35dfa335",
   "metadata": {},
   "outputs": [
    {
     "name": "stdout",
     "output_type": "stream",
     "text": [
      "B1 Blue\n"
     ]
    }
   ],
   "source": [
    "model1.message()"
   ]
  },
  {
   "cell_type": "code",
   "execution_count": 23,
   "id": "1953490a",
   "metadata": {},
   "outputs": [],
   "source": [
    "class car1(car):\n",
    "    def __init__(self, name, color):\n",
    "        super().__init__(name, color)"
   ]
  },
  {
   "cell_type": "code",
   "execution_count": 24,
   "id": "7402c557",
   "metadata": {},
   "outputs": [],
   "source": [
    "model2 = car1(\"X2\", \"Yellow\")"
   ]
  },
  {
   "cell_type": "code",
   "execution_count": 25,
   "id": "b48d0f37",
   "metadata": {},
   "outputs": [
    {
     "name": "stdout",
     "output_type": "stream",
     "text": [
      "X2 Yellow\n"
     ]
    }
   ],
   "source": [
    "model2.message()"
   ]
  },
  {
   "cell_type": "code",
   "execution_count": 26,
   "id": "0678a4df",
   "metadata": {},
   "outputs": [],
   "source": [
    "model3 = car1(\"X3\", \"Green\")"
   ]
  },
  {
   "cell_type": "code",
   "execution_count": 27,
   "id": "485572d9",
   "metadata": {},
   "outputs": [
    {
     "name": "stdout",
     "output_type": "stream",
     "text": [
      "X3 Green\n"
     ]
    }
   ],
   "source": [
    "model3.message()"
   ]
  },
  {
   "cell_type": "markdown",
   "id": "af019dfd",
   "metadata": {},
   "source": [
    "# List Comprehensions in Python"
   ]
  },
  {
   "cell_type": "code",
   "execution_count": 1,
   "id": "8bf56a55",
   "metadata": {},
   "outputs": [],
   "source": [
    "x = range(6)"
   ]
  },
  {
   "cell_type": "code",
   "execution_count": 5,
   "id": "f520ee41",
   "metadata": {},
   "outputs": [],
   "source": [
    "evens = [n for n in x if n % 2 == 0]"
   ]
  },
  {
   "cell_type": "code",
   "execution_count": 6,
   "id": "c29a6934",
   "metadata": {},
   "outputs": [
    {
     "data": {
      "text/plain": [
       "[0, 2, 4]"
      ]
     },
     "execution_count": 6,
     "metadata": {},
     "output_type": "execute_result"
    }
   ],
   "source": [
    "evens\n"
   ]
  },
  {
   "cell_type": "code",
   "execution_count": 7,
   "id": "f37b7e7d",
   "metadata": {},
   "outputs": [],
   "source": [
    "square_nums = [n * n for n in x]"
   ]
  },
  {
   "cell_type": "code",
   "execution_count": 8,
   "id": "499fd711",
   "metadata": {},
   "outputs": [
    {
     "data": {
      "text/plain": [
       "[0, 1, 4, 9, 16, 25]"
      ]
     },
     "execution_count": 8,
     "metadata": {},
     "output_type": "execute_result"
    }
   ],
   "source": [
    "square_nums"
   ]
  },
  {
   "cell_type": "code",
   "execution_count": 9,
   "id": "2e637268",
   "metadata": {},
   "outputs": [],
   "source": [
    "set_of_squares = {n * n for n in x}"
   ]
  },
  {
   "cell_type": "code",
   "execution_count": 10,
   "id": "c44627fd",
   "metadata": {},
   "outputs": [
    {
     "data": {
      "text/plain": [
       "{0, 1, 4, 9, 16, 25}"
      ]
     },
     "execution_count": 10,
     "metadata": {},
     "output_type": "execute_result"
    }
   ],
   "source": [
    "set_of_squares"
   ]
  },
  {
   "cell_type": "markdown",
   "id": "091b5136",
   "metadata": {},
   "source": [
    "# Built-in Modules"
   ]
  },
  {
   "cell_type": "code",
   "execution_count": 12,
   "id": "c9cee836",
   "metadata": {},
   "outputs": [],
   "source": [
    "import random"
   ]
  },
  {
   "cell_type": "code",
   "execution_count": 14,
   "id": "3cd46e83",
   "metadata": {},
   "outputs": [],
   "source": [
    "new_randint = random.randint"
   ]
  },
  {
   "cell_type": "code",
   "execution_count": 16,
   "id": "014dfaa7",
   "metadata": {},
   "outputs": [
    {
     "name": "stdout",
     "output_type": "stream",
     "text": [
      "32\n"
     ]
    }
   ],
   "source": [
    "print(new_randint(2, 70))"
   ]
  },
  {
   "cell_type": "code",
   "execution_count": 17,
   "id": "6176d2fc",
   "metadata": {},
   "outputs": [],
   "source": [
    "from random import randint"
   ]
  },
  {
   "cell_type": "code",
   "execution_count": 18,
   "id": "09d40ed6",
   "metadata": {},
   "outputs": [
    {
     "name": "stdout",
     "output_type": "stream",
     "text": [
      "6\n"
     ]
    }
   ],
   "source": [
    "print(randint(2, 70))"
   ]
  },
  {
   "cell_type": "code",
   "execution_count": 19,
   "id": "609e12b3",
   "metadata": {},
   "outputs": [],
   "source": [
    "from random import randint, choice"
   ]
  },
  {
   "cell_type": "code",
   "execution_count": 20,
   "id": "f1c4de15",
   "metadata": {},
   "outputs": [
    {
     "name": "stdout",
     "output_type": "stream",
     "text": [
      "8\n"
     ]
    }
   ],
   "source": [
    "print(randint(2, 40))"
   ]
  },
  {
   "cell_type": "code",
   "execution_count": 21,
   "id": "6f294719",
   "metadata": {},
   "outputs": [
    {
     "name": "stdout",
     "output_type": "stream",
     "text": [
      "42\n"
     ]
    }
   ],
   "source": [
    "print(choice([11, 31, 42, 45, 70]))"
   ]
  },
  {
   "cell_type": "markdown",
   "id": "534907b4",
   "metadata": {},
   "source": [
    "# Math"
   ]
  },
  {
   "cell_type": "code",
   "execution_count": 22,
   "id": "e10cde17",
   "metadata": {},
   "outputs": [],
   "source": [
    "import math"
   ]
  },
  {
   "cell_type": "code",
   "execution_count": 23,
   "id": "93dfd16f",
   "metadata": {},
   "outputs": [
    {
     "data": {
      "text/plain": [
       "2.23606797749979"
      ]
     },
     "execution_count": 23,
     "metadata": {},
     "output_type": "execute_result"
    }
   ],
   "source": [
    "math.sqrt(5)"
   ]
  },
  {
   "cell_type": "code",
   "execution_count": 24,
   "id": "c9b528aa",
   "metadata": {},
   "outputs": [
    {
     "data": {
      "text/plain": [
       "6.0"
      ]
     },
     "execution_count": 24,
     "metadata": {},
     "output_type": "execute_result"
    }
   ],
   "source": [
    "math.sqrt(36)"
   ]
  },
  {
   "cell_type": "code",
   "execution_count": 25,
   "id": "1b4cf677",
   "metadata": {},
   "outputs": [
    {
     "data": {
      "text/plain": [
       "3.141592653589793"
      ]
     },
     "execution_count": 25,
     "metadata": {},
     "output_type": "execute_result"
    }
   ],
   "source": [
    "math.pi"
   ]
  },
  {
   "cell_type": "code",
   "execution_count": 26,
   "id": "43c16cb4",
   "metadata": {},
   "outputs": [
    {
     "data": {
      "text/plain": [
       "2.718281828459045"
      ]
     },
     "execution_count": 26,
     "metadata": {},
     "output_type": "execute_result"
    }
   ],
   "source": [
    "math.e"
   ]
  },
  {
   "cell_type": "code",
   "execution_count": 27,
   "id": "21a8209c",
   "metadata": {},
   "outputs": [
    {
     "data": {
      "text/plain": [
       "1.5707963267948966"
      ]
     },
     "execution_count": 27,
     "metadata": {},
     "output_type": "execute_result"
    }
   ],
   "source": [
    "math.radians(90)"
   ]
  },
  {
   "cell_type": "code",
   "execution_count": 28,
   "id": "81d0e12b",
   "metadata": {},
   "outputs": [
    {
     "data": {
      "text/plain": [
       "29.999999999999996"
      ]
     },
     "execution_count": 28,
     "metadata": {},
     "output_type": "execute_result"
    }
   ],
   "source": [
    "math.degrees(math.pi/6)"
   ]
  },
  {
   "cell_type": "code",
   "execution_count": 33,
   "id": "b43f23a3",
   "metadata": {},
   "outputs": [],
   "source": [
    "from math import sin, cos, tan, log"
   ]
  },
  {
   "cell_type": "code",
   "execution_count": 30,
   "id": "31476fad",
   "metadata": {},
   "outputs": [
    {
     "data": {
      "text/plain": [
       "0.479425538604203"
      ]
     },
     "execution_count": 30,
     "metadata": {},
     "output_type": "execute_result"
    }
   ],
   "source": [
    "math.sin(0.5)"
   ]
  },
  {
   "cell_type": "code",
   "execution_count": 31,
   "id": "4353b6e3",
   "metadata": {},
   "outputs": [
    {
     "data": {
      "text/plain": [
       "0.8775825618903728"
      ]
     },
     "execution_count": 31,
     "metadata": {},
     "output_type": "execute_result"
    }
   ],
   "source": [
    "math.cos(0.5)"
   ]
  },
  {
   "cell_type": "code",
   "execution_count": 32,
   "id": "5578c250",
   "metadata": {},
   "outputs": [
    {
     "data": {
      "text/plain": [
       "0.5463024898437905"
      ]
     },
     "execution_count": 32,
     "metadata": {},
     "output_type": "execute_result"
    }
   ],
   "source": [
    "math.tan(0.5)"
   ]
  },
  {
   "cell_type": "code",
   "execution_count": 35,
   "id": "4622e3b0",
   "metadata": {},
   "outputs": [
    {
     "data": {
      "text/plain": [
       "2.995732273553991"
      ]
     },
     "execution_count": 35,
     "metadata": {},
     "output_type": "execute_result"
    }
   ],
   "source": [
    "math.log(20)"
   ]
  },
  {
   "cell_type": "markdown",
   "id": "4fdb09cc",
   "metadata": {},
   "source": [
    "# Statistics"
   ]
  },
  {
   "cell_type": "code",
   "execution_count": 36,
   "id": "364846ca",
   "metadata": {},
   "outputs": [],
   "source": [
    "import statistics"
   ]
  },
  {
   "cell_type": "code",
   "execution_count": 37,
   "id": "0d8ce2f8",
   "metadata": {},
   "outputs": [
    {
     "data": {
      "text/plain": [
       "50"
      ]
     },
     "execution_count": 37,
     "metadata": {},
     "output_type": "execute_result"
    }
   ],
   "source": [
    "statistics.mean([10, 30, 50, 90, 70])"
   ]
  },
  {
   "cell_type": "code",
   "execution_count": 39,
   "id": "5196a106",
   "metadata": {},
   "outputs": [
    {
     "data": {
      "text/plain": [
       "22"
      ]
     },
     "execution_count": 39,
     "metadata": {},
     "output_type": "execute_result"
    }
   ],
   "source": [
    "statistics.median([11, 21, 31, 41, 22])"
   ]
  },
  {
   "cell_type": "code",
   "execution_count": 40,
   "id": "959f42be",
   "metadata": {},
   "outputs": [
    {
     "data": {
      "text/plain": [
       "3"
      ]
     },
     "execution_count": 40,
     "metadata": {},
     "output_type": "execute_result"
    }
   ],
   "source": [
    "statistics.mode([23, 3, 45, 7, 11, 12, 44, 3])"
   ]
  },
  {
   "cell_type": "code",
   "execution_count": 42,
   "id": "73176b7c",
   "metadata": {},
   "outputs": [
    {
     "data": {
      "text/plain": [
       "1.0801234497346435"
      ]
     },
     "execution_count": 42,
     "metadata": {},
     "output_type": "execute_result"
    }
   ],
   "source": [
    "statistics.stdev([2, 2.5, 3, 3.5, 4, 4.5, 5])"
   ]
  },
  {
   "cell_type": "markdown",
   "id": "7e644324",
   "metadata": {},
   "source": [
    "# Errors and Exceptions Handling"
   ]
  },
  {
   "cell_type": "code",
   "execution_count": 43,
   "id": "3b983c6c",
   "metadata": {},
   "outputs": [
    {
     "ename": "SyntaxError",
     "evalue": "invalid syntax (2022508957.py, line 1)",
     "output_type": "error",
     "traceback": [
      "\u001b[1;36m  Input \u001b[1;32mIn [43]\u001b[1;36m\u001b[0m\n\u001b[1;33m    print\"py\"\u001b[0m\n\u001b[1;37m         ^\u001b[0m\n\u001b[1;31mSyntaxError\u001b[0m\u001b[1;31m:\u001b[0m invalid syntax\n"
     ]
    }
   ],
   "source": [
    "print\"py\""
   ]
  },
  {
   "cell_type": "code",
   "execution_count": 44,
   "id": "dafb9332",
   "metadata": {},
   "outputs": [],
   "source": [
    "x = [0, 1, 2]"
   ]
  },
  {
   "cell_type": "code",
   "execution_count": 45,
   "id": "b4d394b3",
   "metadata": {},
   "outputs": [
    {
     "ename": "IndexError",
     "evalue": "list index out of range",
     "output_type": "error",
     "traceback": [
      "\u001b[1;31m---------------------------------------------------------------------------\u001b[0m",
      "\u001b[1;31mIndexError\u001b[0m                                Traceback (most recent call last)",
      "Input \u001b[1;32mIn [45]\u001b[0m, in \u001b[0;36m<cell line: 1>\u001b[1;34m()\u001b[0m\n\u001b[1;32m----> 1\u001b[0m \u001b[43mx\u001b[49m\u001b[43m[\u001b[49m\u001b[38;5;241;43m5\u001b[39;49m\u001b[43m]\u001b[49m\n",
      "\u001b[1;31mIndexError\u001b[0m: list index out of range"
     ]
    }
   ],
   "source": [
    "x[5]"
   ]
  },
  {
   "cell_type": "code",
   "execution_count": 46,
   "id": "82d9abcc",
   "metadata": {},
   "outputs": [
    {
     "ename": "ModuleNotFoundError",
     "evalue": "No module named 'discovery'",
     "output_type": "error",
     "traceback": [
      "\u001b[1;31m---------------------------------------------------------------------------\u001b[0m",
      "\u001b[1;31mModuleNotFoundError\u001b[0m                       Traceback (most recent call last)",
      "Input \u001b[1;32mIn [46]\u001b[0m, in \u001b[0;36m<cell line: 1>\u001b[1;34m()\u001b[0m\n\u001b[1;32m----> 1\u001b[0m \u001b[38;5;28;01mimport\u001b[39;00m \u001b[38;5;21;01mdiscovery\u001b[39;00m\n",
      "\u001b[1;31mModuleNotFoundError\u001b[0m: No module named 'discovery'"
     ]
    }
   ],
   "source": [
    "import discovery"
   ]
  },
  {
   "cell_type": "code",
   "execution_count": 47,
   "id": "e1d86f7f",
   "metadata": {},
   "outputs": [
    {
     "ename": "TypeError",
     "evalue": "can only concatenate str (not \"int\") to str",
     "output_type": "error",
     "traceback": [
      "\u001b[1;31m---------------------------------------------------------------------------\u001b[0m",
      "\u001b[1;31mTypeError\u001b[0m                                 Traceback (most recent call last)",
      "Input \u001b[1;32mIn [47]\u001b[0m, in \u001b[0;36m<cell line: 1>\u001b[1;34m()\u001b[0m\n\u001b[1;32m----> 1\u001b[0m \u001b[38;5;124;43m\"\u001b[39;49m\u001b[38;5;124;43m3\u001b[39;49m\u001b[38;5;124;43m\"\u001b[39;49m\u001b[43m \u001b[49m\u001b[38;5;241;43m+\u001b[39;49m\u001b[43m \u001b[49m\u001b[38;5;241;43m4\u001b[39;49m\n",
      "\u001b[1;31mTypeError\u001b[0m: can only concatenate str (not \"int\") to str"
     ]
    }
   ],
   "source": [
    "\"3\" + 4"
   ]
  },
  {
   "cell_type": "code",
   "execution_count": 48,
   "id": "de8cd364",
   "metadata": {},
   "outputs": [
    {
     "ename": "NameError",
     "evalue": "name 'hi' is not defined",
     "output_type": "error",
     "traceback": [
      "\u001b[1;31m---------------------------------------------------------------------------\u001b[0m",
      "\u001b[1;31mNameError\u001b[0m                                 Traceback (most recent call last)",
      "Input \u001b[1;32mIn [48]\u001b[0m, in \u001b[0;36m<cell line: 1>\u001b[1;34m()\u001b[0m\n\u001b[1;32m----> 1\u001b[0m \u001b[43mhi\u001b[49m\n",
      "\u001b[1;31mNameError\u001b[0m: name 'hi' is not defined"
     ]
    }
   ],
   "source": [
    "hi\n"
   ]
  },
  {
   "cell_type": "code",
   "execution_count": 49,
   "id": "0deaab15",
   "metadata": {},
   "outputs": [
    {
     "ename": "ZeroDivisionError",
     "evalue": "division by zero",
     "output_type": "error",
     "traceback": [
      "\u001b[1;31m---------------------------------------------------------------------------\u001b[0m",
      "\u001b[1;31mZeroDivisionError\u001b[0m                         Traceback (most recent call last)",
      "Input \u001b[1;32mIn [49]\u001b[0m, in \u001b[0;36m<cell line: 1>\u001b[1;34m()\u001b[0m\n\u001b[1;32m----> 1\u001b[0m \u001b[38;5;241;43m59\u001b[39;49m\u001b[38;5;241;43m/\u001b[39;49m\u001b[38;5;241;43m0\u001b[39;49m\n",
      "\u001b[1;31mZeroDivisionError\u001b[0m: division by zero"
     ]
    }
   ],
   "source": [
    "59/0"
   ]
  },
  {
   "cell_type": "markdown",
   "id": "17b8ba0c",
   "metadata": {},
   "source": [
    "# Exceptions"
   ]
  },
  {
   "cell_type": "code",
   "execution_count": 52,
   "id": "6baae7e5",
   "metadata": {},
   "outputs": [
    {
     "name": "stdout",
     "output_type": "stream",
     "text": [
      "4.0\n",
      "The operation is completed¡\n"
     ]
    }
   ],
   "source": [
    "try:\n",
    "    x = 4\n",
    "    y = 1\n",
    "    print(x/y)\n",
    "except:\n",
    "    print(\"There is an error here¡\")\n",
    "print(\"The operation is completed¡\")"
   ]
  },
  {
   "cell_type": "code",
   "execution_count": 56,
   "id": "97356a18",
   "metadata": {},
   "outputs": [
    {
     "name": "stdout",
     "output_type": "stream",
     "text": [
      "You cant divide the number with zero\n",
      "The operation is completed¡\n"
     ]
    }
   ],
   "source": [
    "try:\n",
    "    x = 4\n",
    "    y = 0\n",
    "    print(x/y)\n",
    "except TypeError:\n",
    "    print(\"There is an error here¡\")\n",
    "except ZeroDivisionError:\n",
    "    print(\"You cant divide the number with zero\")\n",
    "print(\"The operation is completed¡\")"
   ]
  },
  {
   "cell_type": "markdown",
   "id": "d6f905ce",
   "metadata": {},
   "source": [
    "# The io Module"
   ]
  },
  {
   "cell_type": "code",
   "execution_count": 57,
   "id": "2391360b",
   "metadata": {},
   "outputs": [],
   "source": [
    "import io"
   ]
  },
  {
   "cell_type": "code",
   "execution_count": 83,
   "id": "c72f2896",
   "metadata": {},
   "outputs": [],
   "source": [
    "new_text = \"Learning python and data analysis \""
   ]
  },
  {
   "cell_type": "code",
   "execution_count": 84,
   "id": "973b3736",
   "metadata": {},
   "outputs": [],
   "source": [
    "file = io.StringIO(new_text)"
   ]
  },
  {
   "cell_type": "code",
   "execution_count": 85,
   "id": "0c406412",
   "metadata": {},
   "outputs": [
    {
     "data": {
      "text/plain": [
       "'Learning python and data analysis '"
      ]
     },
     "execution_count": 85,
     "metadata": {},
     "output_type": "execute_result"
    }
   ],
   "source": [
    "file.read()"
   ]
  },
  {
   "cell_type": "code",
   "execution_count": 86,
   "id": "52d5dc2e",
   "metadata": {},
   "outputs": [
    {
     "data": {
      "text/plain": [
       "34"
      ]
     },
     "execution_count": 86,
     "metadata": {},
     "output_type": "execute_result"
    }
   ],
   "source": [
    "file.write(\" Master the Data handling concepts\")"
   ]
  },
  {
   "cell_type": "code",
   "execution_count": 87,
   "id": "6407c87d",
   "metadata": {},
   "outputs": [
    {
     "data": {
      "text/plain": [
       "0"
      ]
     },
     "execution_count": 87,
     "metadata": {},
     "output_type": "execute_result"
    }
   ],
   "source": [
    "file.seek(0)"
   ]
  },
  {
   "cell_type": "code",
   "execution_count": 88,
   "id": "8eb89631",
   "metadata": {},
   "outputs": [
    {
     "data": {
      "text/plain": [
       "'Learning python and data analysis  Master the Data handling concepts'"
      ]
     },
     "execution_count": 88,
     "metadata": {},
     "output_type": "execute_result"
    }
   ],
   "source": [
    "file.read()"
   ]
  },
  {
   "cell_type": "markdown",
   "id": "e4c1ffe6",
   "metadata": {},
   "source": [
    "# The os Module"
   ]
  },
  {
   "cell_type": "code",
   "execution_count": 89,
   "id": "c74eaaa6",
   "metadata": {},
   "outputs": [],
   "source": [
    "import os"
   ]
  },
  {
   "cell_type": "code",
   "execution_count": 91,
   "id": "7f55e9b5",
   "metadata": {},
   "outputs": [
    {
     "data": {
      "text/plain": [
       "'C:\\\\Users\\\\Gato\\\\Desktop\\\\bootcamp data analysis'"
      ]
     },
     "execution_count": 91,
     "metadata": {},
     "output_type": "execute_result"
    }
   ],
   "source": [
    "os.getcwd()"
   ]
  },
  {
   "cell_type": "code",
   "execution_count": 94,
   "id": "f5223714",
   "metadata": {},
   "outputs": [
    {
     "data": {
      "text/plain": [
       "['.ipynb_checkpoints',\n",
       " 'Data_Science_Full_Bootcamp_2022.ipynb',\n",
       " 'Untitled.ipynb']"
      ]
     },
     "execution_count": 94,
     "metadata": {},
     "output_type": "execute_result"
    }
   ],
   "source": [
    "os.listdir()"
   ]
  },
  {
   "cell_type": "markdown",
   "id": "90dbe6f9",
   "metadata": {},
   "source": [
    "# The shutil module"
   ]
  },
  {
   "cell_type": "code",
   "execution_count": 100,
   "id": "f4ee0bd9",
   "metadata": {},
   "outputs": [],
   "source": [
    "import shutil"
   ]
  },
  {
   "cell_type": "code",
   "execution_count": 101,
   "id": "e6225a3a",
   "metadata": {},
   "outputs": [],
   "source": [
    "# shutil.move('main.txt', .'\\Demo')\n"
   ]
  },
  {
   "cell_type": "code",
   "execution_count": 102,
   "id": "32463233",
   "metadata": {},
   "outputs": [],
   "source": [
    "# os.listdir('.\\Demo')\n"
   ]
  },
  {
   "cell_type": "code",
   "execution_count": 103,
   "id": "45603983",
   "metadata": {},
   "outputs": [],
   "source": [
    "# shutil.move('.\\Demo\\main.txt, os.getcwd()')"
   ]
  },
  {
   "cell_type": "code",
   "execution_count": 104,
   "id": "702a4275",
   "metadata": {},
   "outputs": [],
   "source": [
    "# os.listdir()"
   ]
  },
  {
   "cell_type": "markdown",
   "id": "b72cdcc7",
   "metadata": {},
   "source": [
    "# The Send2trash Module"
   ]
  },
  {
   "cell_type": "code",
   "execution_count": 105,
   "id": "3929571a",
   "metadata": {},
   "outputs": [
    {
     "name": "stdout",
     "output_type": "stream",
     "text": [
      "Requirement already satisfied: send2trash in c:\\users\\gato\\anaconda3\\lib\\site-packages (1.8.0)\n"
     ]
    }
   ],
   "source": [
    "!pip install send2trash"
   ]
  },
  {
   "cell_type": "code",
   "execution_count": 107,
   "id": "11d59843",
   "metadata": {},
   "outputs": [],
   "source": [
    "import send2trash"
   ]
  },
  {
   "cell_type": "code",
   "execution_count": 108,
   "id": "837c4d8b",
   "metadata": {},
   "outputs": [
    {
     "data": {
      "text/plain": [
       "['.ipynb_checkpoints',\n",
       " 'Data_Science_Full_Bootcamp_2022.ipynb',\n",
       " 'Untitled.ipynb']"
      ]
     },
     "execution_count": 108,
     "metadata": {},
     "output_type": "execute_result"
    }
   ],
   "source": [
    "os.listdir()"
   ]
  },
  {
   "cell_type": "code",
   "execution_count": 109,
   "id": "609b9148",
   "metadata": {},
   "outputs": [],
   "source": [
    "# sendtrash.send2trash(\"main.txt\")"
   ]
  },
  {
   "cell_type": "markdown",
   "id": "0c2169e2",
   "metadata": {},
   "source": [
    "# The zipfile library"
   ]
  },
  {
   "cell_type": "code",
   "execution_count": 110,
   "id": "65367633",
   "metadata": {},
   "outputs": [],
   "source": [
    "new_file = open(\"demo.txt\", \"w+\")"
   ]
  },
  {
   "cell_type": "code",
   "execution_count": 111,
   "id": "b0b44b97",
   "metadata": {},
   "outputs": [],
   "source": [
    "# new_file.write(\"This is demo 1\")"
   ]
  },
  {
   "cell_type": "code",
   "execution_count": 112,
   "id": "dd0b46f8",
   "metadata": {},
   "outputs": [],
   "source": [
    "# new_file.write(\"This is demo 2\")"
   ]
  },
  {
   "cell_type": "code",
   "execution_count": 113,
   "id": "1fa22309",
   "metadata": {},
   "outputs": [],
   "source": [
    "# new_file.close()"
   ]
  },
  {
   "cell_type": "code",
   "execution_count": 114,
   "id": "87c4d21a",
   "metadata": {},
   "outputs": [],
   "source": [
    "import zipfile"
   ]
  },
  {
   "cell_type": "code",
   "execution_count": 115,
   "id": "d7123baa",
   "metadata": {},
   "outputs": [],
   "source": [
    "# new_comp = zipfile.ZipFile(\"new_comp.zip\", \"w\")"
   ]
  },
  {
   "cell_type": "code",
   "execution_count": 116,
   "id": "fda611b3",
   "metadata": {},
   "outputs": [],
   "source": [
    "# mew_comp.write(\"demo1.txt\", compress_type = zipfile.ZIP_DEFLATED)"
   ]
  },
  {
   "cell_type": "code",
   "execution_count": 117,
   "id": "2872426d",
   "metadata": {},
   "outputs": [],
   "source": [
    "# mew_comp.write(\"demo2.txt\", compress_type = zipfile.ZIP_DEFLATED)"
   ]
  },
  {
   "cell_type": "code",
   "execution_count": 118,
   "id": "ec16b67c",
   "metadata": {},
   "outputs": [],
   "source": [
    "# new_comp.close()"
   ]
  },
  {
   "cell_type": "code",
   "execution_count": 119,
   "id": "3ec5a475",
   "metadata": {},
   "outputs": [],
   "source": [
    "# new_extract = zipfile.ZipFile(\"new_comp.zip\", \"r\")"
   ]
  },
  {
   "cell_type": "code",
   "execution_count": 120,
   "id": "41287040",
   "metadata": {},
   "outputs": [],
   "source": [
    "# new_extract.extractall(\"This is your extracted content¡\")"
   ]
  },
  {
   "cell_type": "markdown",
   "id": "b1f4844d",
   "metadata": {},
   "source": [
    "# Numpy Library"
   ]
  },
  {
   "cell_type": "code",
   "execution_count": 121,
   "id": "75476687",
   "metadata": {},
   "outputs": [],
   "source": [
    "import numpy as np"
   ]
  },
  {
   "cell_type": "code",
   "execution_count": 122,
   "id": "ca4c1b22",
   "metadata": {},
   "outputs": [],
   "source": [
    "x = np.array([1, 2, 3, 4])"
   ]
  },
  {
   "cell_type": "code",
   "execution_count": 123,
   "id": "02e47059",
   "metadata": {},
   "outputs": [
    {
     "data": {
      "text/plain": [
       "array([1, 2, 3, 4])"
      ]
     },
     "execution_count": 123,
     "metadata": {},
     "output_type": "execute_result"
    }
   ],
   "source": [
    "x"
   ]
  },
  {
   "cell_type": "code",
   "execution_count": 124,
   "id": "71af66d4",
   "metadata": {},
   "outputs": [
    {
     "data": {
      "text/plain": [
       "array([0., 0., 0., 0., 0.])"
      ]
     },
     "execution_count": 124,
     "metadata": {},
     "output_type": "execute_result"
    }
   ],
   "source": [
    "np.zeros(5)"
   ]
  },
  {
   "cell_type": "code",
   "execution_count": 125,
   "id": "d7c00245",
   "metadata": {},
   "outputs": [
    {
     "data": {
      "text/plain": [
       "array([1., 1., 1., 1., 1.])"
      ]
     },
     "execution_count": 125,
     "metadata": {},
     "output_type": "execute_result"
    }
   ],
   "source": [
    "np.ones(5)"
   ]
  },
  {
   "cell_type": "code",
   "execution_count": 127,
   "id": "71bc38e4",
   "metadata": {},
   "outputs": [
    {
     "data": {
      "text/plain": [
       "array([0.29792759, 0.30114767, 0.99963772, 0.76714681, 0.00570184])"
      ]
     },
     "execution_count": 127,
     "metadata": {},
     "output_type": "execute_result"
    }
   ],
   "source": [
    "np.random.random(5)"
   ]
  },
  {
   "cell_type": "code",
   "execution_count": 129,
   "id": "9db6de62",
   "metadata": {},
   "outputs": [],
   "source": [
    "new_math = np.array([1, 2, 3])"
   ]
  },
  {
   "cell_type": "code",
   "execution_count": 130,
   "id": "e34dae08",
   "metadata": {},
   "outputs": [],
   "source": [
    "new_ones = np.ones(3)"
   ]
  },
  {
   "cell_type": "code",
   "execution_count": 131,
   "id": "64a6695e",
   "metadata": {},
   "outputs": [
    {
     "data": {
      "text/plain": [
       "array([2., 3., 4.])"
      ]
     },
     "execution_count": 131,
     "metadata": {},
     "output_type": "execute_result"
    }
   ],
   "source": [
    "new_math + new_ones"
   ]
  },
  {
   "cell_type": "code",
   "execution_count": 132,
   "id": "dff096e1",
   "metadata": {},
   "outputs": [
    {
     "data": {
      "text/plain": [
       "array([2, 4, 6])"
      ]
     },
     "execution_count": 132,
     "metadata": {},
     "output_type": "execute_result"
    }
   ],
   "source": [
    "new_math * 2"
   ]
  },
  {
   "cell_type": "code",
   "execution_count": 133,
   "id": "86fcacfb",
   "metadata": {},
   "outputs": [
    {
     "data": {
      "text/plain": [
       "array([3., 3., 3.])"
      ]
     },
     "execution_count": 133,
     "metadata": {},
     "output_type": "execute_result"
    }
   ],
   "source": [
    "new_ones * 3"
   ]
  },
  {
   "cell_type": "code",
   "execution_count": 134,
   "id": "89f9e465",
   "metadata": {},
   "outputs": [
    {
     "data": {
      "text/plain": [
       "1"
      ]
     },
     "execution_count": 134,
     "metadata": {},
     "output_type": "execute_result"
    }
   ],
   "source": [
    "new_math[0]"
   ]
  },
  {
   "cell_type": "code",
   "execution_count": 135,
   "id": "0c4a00bf",
   "metadata": {},
   "outputs": [
    {
     "data": {
      "text/plain": [
       "3"
      ]
     },
     "execution_count": 135,
     "metadata": {},
     "output_type": "execute_result"
    }
   ],
   "source": [
    "new_math[2]"
   ]
  },
  {
   "cell_type": "code",
   "execution_count": 136,
   "id": "c8cb5b01",
   "metadata": {},
   "outputs": [
    {
     "data": {
      "text/plain": [
       "2"
      ]
     },
     "execution_count": 136,
     "metadata": {},
     "output_type": "execute_result"
    }
   ],
   "source": [
    "new_math[1]"
   ]
  },
  {
   "cell_type": "code",
   "execution_count": 137,
   "id": "216ec0da",
   "metadata": {},
   "outputs": [
    {
     "data": {
      "text/plain": [
       "3"
      ]
     },
     "execution_count": 137,
     "metadata": {},
     "output_type": "execute_result"
    }
   ],
   "source": [
    "new_math.max()"
   ]
  },
  {
   "cell_type": "code",
   "execution_count": 138,
   "id": "f29deecc",
   "metadata": {},
   "outputs": [
    {
     "data": {
      "text/plain": [
       "1"
      ]
     },
     "execution_count": 138,
     "metadata": {},
     "output_type": "execute_result"
    }
   ],
   "source": [
    "new_math.min()"
   ]
  },
  {
   "cell_type": "code",
   "execution_count": 139,
   "id": "341778fe",
   "metadata": {},
   "outputs": [
    {
     "data": {
      "text/plain": [
       "6"
      ]
     },
     "execution_count": 139,
     "metadata": {},
     "output_type": "execute_result"
    }
   ],
   "source": [
    "new_math.sum()"
   ]
  },
  {
   "cell_type": "code",
   "execution_count": 142,
   "id": "80e67abd",
   "metadata": {},
   "outputs": [],
   "source": [
    "x = np.array([[10, 20], [30, 40]])"
   ]
  },
  {
   "cell_type": "code",
   "execution_count": 143,
   "id": "da5f94ef",
   "metadata": {},
   "outputs": [
    {
     "data": {
      "text/plain": [
       "array([[10, 20],\n",
       "       [30, 40]])"
      ]
     },
     "execution_count": 143,
     "metadata": {},
     "output_type": "execute_result"
    }
   ],
   "source": [
    "x"
   ]
  },
  {
   "cell_type": "code",
   "execution_count": 144,
   "id": "0465f682",
   "metadata": {},
   "outputs": [
    {
     "data": {
      "text/plain": [
       "array([[1., 1., 1., 1.],\n",
       "       [1., 1., 1., 1.],\n",
       "       [1., 1., 1., 1.]])"
      ]
     },
     "execution_count": 144,
     "metadata": {},
     "output_type": "execute_result"
    }
   ],
   "source": [
    "np.ones((3, 4))"
   ]
  },
  {
   "cell_type": "code",
   "execution_count": 145,
   "id": "55694061",
   "metadata": {},
   "outputs": [
    {
     "data": {
      "text/plain": [
       "array([[0., 0., 0., 0.],\n",
       "       [0., 0., 0., 0.],\n",
       "       [0., 0., 0., 0.]])"
      ]
     },
     "execution_count": 145,
     "metadata": {},
     "output_type": "execute_result"
    }
   ],
   "source": [
    "np.zeros((3, 4))"
   ]
  },
  {
   "cell_type": "code",
   "execution_count": 146,
   "id": "b2462644",
   "metadata": {},
   "outputs": [
    {
     "data": {
      "text/plain": [
       "array([[0.06958673, 0.70434049, 0.43922236, 0.3619463 ],\n",
       "       [0.08890925, 0.15427478, 0.83008663, 0.34812873],\n",
       "       [0.67696797, 0.67444762, 0.21774577, 0.23129147]])"
      ]
     },
     "execution_count": 146,
     "metadata": {},
     "output_type": "execute_result"
    }
   ],
   "source": [
    "np.random.random((3, 4))"
   ]
  },
  {
   "cell_type": "code",
   "execution_count": 148,
   "id": "4eb40cdb",
   "metadata": {},
   "outputs": [],
   "source": [
    "y = np.array([[2, 4], [5, 6]])"
   ]
  },
  {
   "cell_type": "code",
   "execution_count": 149,
   "id": "85dece1d",
   "metadata": {},
   "outputs": [
    {
     "data": {
      "text/plain": [
       "array([[12, 24],\n",
       "       [35, 46]])"
      ]
     },
     "execution_count": 149,
     "metadata": {},
     "output_type": "execute_result"
    }
   ],
   "source": [
    "x + y"
   ]
  },
  {
   "cell_type": "code",
   "execution_count": 150,
   "id": "3a8a105c",
   "metadata": {},
   "outputs": [
    {
     "data": {
      "text/plain": [
       "array([[120, 160],\n",
       "       [260, 360]])"
      ]
     },
     "execution_count": 150,
     "metadata": {},
     "output_type": "execute_result"
    }
   ],
   "source": [
    "x.dot(y)"
   ]
  },
  {
   "cell_type": "code",
   "execution_count": 151,
   "id": "e8eabc31",
   "metadata": {},
   "outputs": [
    {
     "data": {
      "text/plain": [
       "array([[2, 4],\n",
       "       [5, 6]])"
      ]
     },
     "execution_count": 151,
     "metadata": {},
     "output_type": "execute_result"
    }
   ],
   "source": [
    "y\n"
   ]
  },
  {
   "cell_type": "code",
   "execution_count": 152,
   "id": "e1356883",
   "metadata": {},
   "outputs": [
    {
     "data": {
      "text/plain": [
       "6"
      ]
     },
     "execution_count": 152,
     "metadata": {},
     "output_type": "execute_result"
    }
   ],
   "source": [
    "y.max()"
   ]
  },
  {
   "cell_type": "code",
   "execution_count": 153,
   "id": "0e33a6bd",
   "metadata": {},
   "outputs": [
    {
     "data": {
      "text/plain": [
       "2"
      ]
     },
     "execution_count": 153,
     "metadata": {},
     "output_type": "execute_result"
    }
   ],
   "source": [
    "y.min()"
   ]
  },
  {
   "cell_type": "code",
   "execution_count": 155,
   "id": "7b172dfd",
   "metadata": {},
   "outputs": [
    {
     "data": {
      "text/plain": [
       "4"
      ]
     },
     "execution_count": 155,
     "metadata": {},
     "output_type": "execute_result"
    }
   ],
   "source": [
    "y[0, 1]"
   ]
  },
  {
   "cell_type": "code",
   "execution_count": 156,
   "id": "54b34c52",
   "metadata": {},
   "outputs": [
    {
     "data": {
      "text/plain": [
       "5"
      ]
     },
     "execution_count": 156,
     "metadata": {},
     "output_type": "execute_result"
    }
   ],
   "source": [
    "y[1, 0]"
   ]
  },
  {
   "cell_type": "code",
   "execution_count": 157,
   "id": "86b3f79e",
   "metadata": {},
   "outputs": [
    {
     "data": {
      "text/plain": [
       "array([4, 6])"
      ]
     },
     "execution_count": 157,
     "metadata": {},
     "output_type": "execute_result"
    }
   ],
   "source": [
    "y[0:2, 1]"
   ]
  },
  {
   "cell_type": "code",
   "execution_count": 159,
   "id": "02c4ea04",
   "metadata": {},
   "outputs": [],
   "source": [
    "new_data = np.array([1 , 2, 3, 4, 5, 6])"
   ]
  },
  {
   "cell_type": "code",
   "execution_count": 160,
   "id": "87ee0e5f",
   "metadata": {},
   "outputs": [
    {
     "data": {
      "text/plain": [
       "array([[1, 2, 3],\n",
       "       [4, 5, 6]])"
      ]
     },
     "execution_count": 160,
     "metadata": {},
     "output_type": "execute_result"
    }
   ],
   "source": [
    "new_data.reshape(2, 3)"
   ]
  },
  {
   "cell_type": "code",
   "execution_count": 161,
   "id": "b3c8b214",
   "metadata": {},
   "outputs": [
    {
     "data": {
      "text/plain": [
       "array([[1, 2],\n",
       "       [3, 4],\n",
       "       [5, 6]])"
      ]
     },
     "execution_count": 161,
     "metadata": {},
     "output_type": "execute_result"
    }
   ],
   "source": [
    "new_data.reshape(3, 2)"
   ]
  },
  {
   "cell_type": "code",
   "execution_count": 164,
   "id": "d4ba542a",
   "metadata": {},
   "outputs": [],
   "source": [
    "x = np.array([[[10, 20], [3, 40]], [[50, 60], [70, 80]]])"
   ]
  },
  {
   "cell_type": "code",
   "execution_count": 165,
   "id": "86328231",
   "metadata": {},
   "outputs": [
    {
     "data": {
      "text/plain": [
       "array([[[10, 20],\n",
       "        [ 3, 40]],\n",
       "\n",
       "       [[50, 60],\n",
       "        [70, 80]]])"
      ]
     },
     "execution_count": 165,
     "metadata": {},
     "output_type": "execute_result"
    }
   ],
   "source": [
    "x"
   ]
  },
  {
   "cell_type": "code",
   "execution_count": 166,
   "id": "852109f4",
   "metadata": {},
   "outputs": [
    {
     "data": {
      "text/plain": [
       "array([[[1., 1., 1.],\n",
       "        [1., 1., 1.],\n",
       "        [1., 1., 1.]],\n",
       "\n",
       "       [[1., 1., 1.],\n",
       "        [1., 1., 1.],\n",
       "        [1., 1., 1.]],\n",
       "\n",
       "       [[1., 1., 1.],\n",
       "        [1., 1., 1.],\n",
       "        [1., 1., 1.]],\n",
       "\n",
       "       [[1., 1., 1.],\n",
       "        [1., 1., 1.],\n",
       "        [1., 1., 1.]],\n",
       "\n",
       "       [[1., 1., 1.],\n",
       "        [1., 1., 1.],\n",
       "        [1., 1., 1.]]])"
      ]
     },
     "execution_count": 166,
     "metadata": {},
     "output_type": "execute_result"
    }
   ],
   "source": [
    "np.ones((5, 3, 3))"
   ]
  },
  {
   "cell_type": "code",
   "execution_count": 167,
   "id": "b6146ff8",
   "metadata": {},
   "outputs": [
    {
     "data": {
      "text/plain": [
       "array([[[0.],\n",
       "        [0.],\n",
       "        [0.],\n",
       "        [0.],\n",
       "        [0.]],\n",
       "\n",
       "       [[0.],\n",
       "        [0.],\n",
       "        [0.],\n",
       "        [0.],\n",
       "        [0.]],\n",
       "\n",
       "       [[0.],\n",
       "        [0.],\n",
       "        [0.],\n",
       "        [0.],\n",
       "        [0.]],\n",
       "\n",
       "       [[0.],\n",
       "        [0.],\n",
       "        [0.],\n",
       "        [0.],\n",
       "        [0.]]])"
      ]
     },
     "execution_count": 167,
     "metadata": {},
     "output_type": "execute_result"
    }
   ],
   "source": [
    "np.zeros((4, 5, 1))"
   ]
  },
  {
   "cell_type": "markdown",
   "id": "c04e725d",
   "metadata": {},
   "source": [
    "# Pandas Data Analysis"
   ]
  },
  {
   "cell_type": "code",
   "execution_count": 3,
   "id": "e9370081",
   "metadata": {},
   "outputs": [],
   "source": [
    "import pandas as pd"
   ]
  },
  {
   "cell_type": "code",
   "execution_count": 4,
   "id": "5687b7d7",
   "metadata": {},
   "outputs": [],
   "source": [
    "new_s = pd.Series([10, 20, 30, 40])"
   ]
  },
  {
   "cell_type": "code",
   "execution_count": 5,
   "id": "d3363c17",
   "metadata": {},
   "outputs": [
    {
     "data": {
      "text/plain": [
       "0    10\n",
       "1    20\n",
       "2    30\n",
       "3    40\n",
       "dtype: int64"
      ]
     },
     "execution_count": 5,
     "metadata": {},
     "output_type": "execute_result"
    }
   ],
   "source": [
    "new_s"
   ]
  },
  {
   "cell_type": "code",
   "execution_count": 6,
   "id": "d3057fa7",
   "metadata": {},
   "outputs": [],
   "source": [
    "put_index = pd.Series([10, 20, 30, 40], index=[\"a\", \"b\", \"c\", \"d\"])"
   ]
  },
  {
   "cell_type": "code",
   "execution_count": 7,
   "id": "99a5e430",
   "metadata": {},
   "outputs": [
    {
     "data": {
      "text/plain": [
       "a    10\n",
       "b    20\n",
       "c    30\n",
       "d    40\n",
       "dtype: int64"
      ]
     },
     "execution_count": 7,
     "metadata": {},
     "output_type": "execute_result"
    }
   ],
   "source": [
    "put_index"
   ]
  },
  {
   "cell_type": "code",
   "execution_count": 8,
   "id": "a1a55332",
   "metadata": {},
   "outputs": [],
   "source": [
    "colors = [\"red\", \"orange\", \"yellow\", \"white\"]\n",
    "degrees = [30, 40, 50, 60]\n",
    "numbers = [11, 12, 13, 14]\n",
    "\n",
    "new_df = pd.DataFrame({\"colors\": colors, \"degrees\": degrees, \"numbers\": numbers},\n",
    "                     columns = [\"colors\", \"degrees\", \"numbers\"],\n",
    "                     index=range(1, 5))"
   ]
  },
  {
   "cell_type": "code",
   "execution_count": 9,
   "id": "fa7ccbb6",
   "metadata": {},
   "outputs": [
    {
     "data": {
      "text/html": [
       "<div>\n",
       "<style scoped>\n",
       "    .dataframe tbody tr th:only-of-type {\n",
       "        vertical-align: middle;\n",
       "    }\n",
       "\n",
       "    .dataframe tbody tr th {\n",
       "        vertical-align: top;\n",
       "    }\n",
       "\n",
       "    .dataframe thead th {\n",
       "        text-align: right;\n",
       "    }\n",
       "</style>\n",
       "<table border=\"1\" class=\"dataframe\">\n",
       "  <thead>\n",
       "    <tr style=\"text-align: right;\">\n",
       "      <th></th>\n",
       "      <th>colors</th>\n",
       "      <th>degrees</th>\n",
       "      <th>numbers</th>\n",
       "    </tr>\n",
       "  </thead>\n",
       "  <tbody>\n",
       "    <tr>\n",
       "      <th>1</th>\n",
       "      <td>red</td>\n",
       "      <td>30</td>\n",
       "      <td>11</td>\n",
       "    </tr>\n",
       "    <tr>\n",
       "      <th>2</th>\n",
       "      <td>orange</td>\n",
       "      <td>40</td>\n",
       "      <td>12</td>\n",
       "    </tr>\n",
       "    <tr>\n",
       "      <th>3</th>\n",
       "      <td>yellow</td>\n",
       "      <td>50</td>\n",
       "      <td>13</td>\n",
       "    </tr>\n",
       "    <tr>\n",
       "      <th>4</th>\n",
       "      <td>white</td>\n",
       "      <td>60</td>\n",
       "      <td>14</td>\n",
       "    </tr>\n",
       "  </tbody>\n",
       "</table>\n",
       "</div>"
      ],
      "text/plain": [
       "   colors  degrees  numbers\n",
       "1     red       30       11\n",
       "2  orange       40       12\n",
       "3  yellow       50       13\n",
       "4   white       60       14"
      ]
     },
     "execution_count": 9,
     "metadata": {},
     "output_type": "execute_result"
    }
   ],
   "source": [
    "new_df"
   ]
  },
  {
   "cell_type": "code",
   "execution_count": 10,
   "id": "f0f201b0",
   "metadata": {},
   "outputs": [],
   "source": [
    "# df_csv = pd.read_csv(\"sample10.csv\", low_memory=False)"
   ]
  },
  {
   "cell_type": "code",
   "execution_count": 11,
   "id": "df9cd8a9",
   "metadata": {},
   "outputs": [
    {
     "data": {
      "text/html": [
       "<div>\n",
       "<style scoped>\n",
       "    .dataframe tbody tr th:only-of-type {\n",
       "        vertical-align: middle;\n",
       "    }\n",
       "\n",
       "    .dataframe tbody tr th {\n",
       "        vertical-align: top;\n",
       "    }\n",
       "\n",
       "    .dataframe thead th {\n",
       "        text-align: right;\n",
       "    }\n",
       "</style>\n",
       "<table border=\"1\" class=\"dataframe\">\n",
       "  <thead>\n",
       "    <tr style=\"text-align: right;\">\n",
       "      <th></th>\n",
       "      <th>colors</th>\n",
       "      <th>degrees</th>\n",
       "      <th>numbers</th>\n",
       "    </tr>\n",
       "  </thead>\n",
       "  <tbody>\n",
       "    <tr>\n",
       "      <th>1</th>\n",
       "      <td>red</td>\n",
       "      <td>30</td>\n",
       "      <td>11</td>\n",
       "    </tr>\n",
       "    <tr>\n",
       "      <th>2</th>\n",
       "      <td>orange</td>\n",
       "      <td>40</td>\n",
       "      <td>12</td>\n",
       "    </tr>\n",
       "  </tbody>\n",
       "</table>\n",
       "</div>"
      ],
      "text/plain": [
       "   colors  degrees  numbers\n",
       "1     red       30       11\n",
       "2  orange       40       12"
      ]
     },
     "execution_count": 11,
     "metadata": {},
     "output_type": "execute_result"
    }
   ],
   "source": [
    "new_df.head(2)"
   ]
  },
  {
   "cell_type": "code",
   "execution_count": 12,
   "id": "a398de9b",
   "metadata": {},
   "outputs": [],
   "source": [
    "new_url = \"https://en.wikipedia.org/wiki/Academy_Awards\""
   ]
  },
  {
   "cell_type": "code",
   "execution_count": 13,
   "id": "a2f0bdfb",
   "metadata": {},
   "outputs": [],
   "source": [
    "new_html = pd.read_html(new_url, header=0, index_col=0)[3]"
   ]
  },
  {
   "cell_type": "code",
   "execution_count": 14,
   "id": "a2054f59",
   "metadata": {},
   "outputs": [
    {
     "data": {
      "text/html": [
       "<div>\n",
       "<style scoped>\n",
       "    .dataframe tbody tr th:only-of-type {\n",
       "        vertical-align: middle;\n",
       "    }\n",
       "\n",
       "    .dataframe tbody tr th {\n",
       "        vertical-align: top;\n",
       "    }\n",
       "\n",
       "    .dataframe thead th {\n",
       "        text-align: right;\n",
       "    }\n",
       "</style>\n",
       "<table border=\"1\" class=\"dataframe\">\n",
       "  <thead>\n",
       "    <tr style=\"text-align: right;\">\n",
       "      <th></th>\n",
       "      <th>Unnamed: 1</th>\n",
       "      <th>Unnamed: 2</th>\n",
       "    </tr>\n",
       "  </thead>\n",
       "  <tbody>\n",
       "    <tr>\n",
       "      <th>Award</th>\n",
       "      <td>Best Actor</td>\n",
       "      <td>Best Actress</td>\n",
       "    </tr>\n",
       "    <tr>\n",
       "      <th>Winner</th>\n",
       "      <td>Will Smith(King Richard)</td>\n",
       "      <td>Jessica Chastain(The Eyes of Tammy Faye)</td>\n",
       "    </tr>\n",
       "    <tr>\n",
       "      <th>NaN</th>\n",
       "      <td>NaN</td>\n",
       "      <td>NaN</td>\n",
       "    </tr>\n",
       "    <tr>\n",
       "      <th>Award</th>\n",
       "      <td>Best Supporting Actor</td>\n",
       "      <td>Best Supporting Actress</td>\n",
       "    </tr>\n",
       "    <tr>\n",
       "      <th>Winner</th>\n",
       "      <td>Troy Kotsur(CODA)</td>\n",
       "      <td>Ariana DeBose(West Side Story)</td>\n",
       "    </tr>\n",
       "  </tbody>\n",
       "</table>\n",
       "</div>"
      ],
      "text/plain": [
       "                      Unnamed: 1                                Unnamed: 2\n",
       "Award                 Best Actor                              Best Actress\n",
       "Winner  Will Smith(King Richard)  Jessica Chastain(The Eyes of Tammy Faye)\n",
       "NaN                          NaN                                       NaN\n",
       "Award      Best Supporting Actor                   Best Supporting Actress\n",
       "Winner         Troy Kotsur(CODA)            Ariana DeBose(West Side Story)"
      ]
     },
     "execution_count": 14,
     "metadata": {},
     "output_type": "execute_result"
    }
   ],
   "source": [
    "new_html.head(5)"
   ]
  },
  {
   "cell_type": "code",
   "execution_count": 15,
   "id": "d9d28bb1",
   "metadata": {},
   "outputs": [
    {
     "data": {
      "text/plain": [
       "(4, 3)"
      ]
     },
     "execution_count": 15,
     "metadata": {},
     "output_type": "execute_result"
    }
   ],
   "source": [
    "new_df.shape"
   ]
  },
  {
   "cell_type": "code",
   "execution_count": 16,
   "id": "26c35836",
   "metadata": {},
   "outputs": [
    {
     "data": {
      "text/plain": [
       "<bound method DataFrame.info of    colors  degrees  numbers\n",
       "1     red       30       11\n",
       "2  orange       40       12\n",
       "3  yellow       50       13\n",
       "4   white       60       14>"
      ]
     },
     "execution_count": 16,
     "metadata": {},
     "output_type": "execute_result"
    }
   ],
   "source": [
    "new_df.info"
   ]
  },
  {
   "cell_type": "code",
   "execution_count": 17,
   "id": "5a402fcd",
   "metadata": {},
   "outputs": [
    {
     "data": {
      "text/html": [
       "<div>\n",
       "<style scoped>\n",
       "    .dataframe tbody tr th:only-of-type {\n",
       "        vertical-align: middle;\n",
       "    }\n",
       "\n",
       "    .dataframe tbody tr th {\n",
       "        vertical-align: top;\n",
       "    }\n",
       "\n",
       "    .dataframe thead th {\n",
       "        text-align: right;\n",
       "    }\n",
       "</style>\n",
       "<table border=\"1\" class=\"dataframe\">\n",
       "  <thead>\n",
       "    <tr style=\"text-align: right;\">\n",
       "      <th></th>\n",
       "      <th>degrees</th>\n",
       "      <th>numbers</th>\n",
       "    </tr>\n",
       "  </thead>\n",
       "  <tbody>\n",
       "    <tr>\n",
       "      <th>count</th>\n",
       "      <td>4.000000</td>\n",
       "      <td>4.000000</td>\n",
       "    </tr>\n",
       "    <tr>\n",
       "      <th>mean</th>\n",
       "      <td>45.000000</td>\n",
       "      <td>12.500000</td>\n",
       "    </tr>\n",
       "    <tr>\n",
       "      <th>std</th>\n",
       "      <td>12.909944</td>\n",
       "      <td>1.290994</td>\n",
       "    </tr>\n",
       "    <tr>\n",
       "      <th>min</th>\n",
       "      <td>30.000000</td>\n",
       "      <td>11.000000</td>\n",
       "    </tr>\n",
       "    <tr>\n",
       "      <th>25%</th>\n",
       "      <td>37.500000</td>\n",
       "      <td>11.750000</td>\n",
       "    </tr>\n",
       "    <tr>\n",
       "      <th>50%</th>\n",
       "      <td>45.000000</td>\n",
       "      <td>12.500000</td>\n",
       "    </tr>\n",
       "    <tr>\n",
       "      <th>75%</th>\n",
       "      <td>52.500000</td>\n",
       "      <td>13.250000</td>\n",
       "    </tr>\n",
       "    <tr>\n",
       "      <th>max</th>\n",
       "      <td>60.000000</td>\n",
       "      <td>14.000000</td>\n",
       "    </tr>\n",
       "  </tbody>\n",
       "</table>\n",
       "</div>"
      ],
      "text/plain": [
       "         degrees    numbers\n",
       "count   4.000000   4.000000\n",
       "mean   45.000000  12.500000\n",
       "std    12.909944   1.290994\n",
       "min    30.000000  11.000000\n",
       "25%    37.500000  11.750000\n",
       "50%    45.000000  12.500000\n",
       "75%    52.500000  13.250000\n",
       "max    60.000000  14.000000"
      ]
     },
     "execution_count": 17,
     "metadata": {},
     "output_type": "execute_result"
    }
   ],
   "source": [
    "new_df.describe()"
   ]
  },
  {
   "cell_type": "code",
   "execution_count": 20,
   "id": "ffa04d71",
   "metadata": {},
   "outputs": [
    {
     "data": {
      "text/plain": [
       "degrees    50\n",
       "Name: 3, dtype: object"
      ]
     },
     "execution_count": 20,
     "metadata": {},
     "output_type": "execute_result"
    }
   ],
   "source": [
    "new_df.loc[new_df[\"numbers\"].argmax()][[\"degrees\"]]"
   ]
  },
  {
   "cell_type": "markdown",
   "id": "57fc8598",
   "metadata": {},
   "source": [
    "# Working with with Excel sheets"
   ]
  },
  {
   "cell_type": "code",
   "execution_count": 21,
   "id": "24554fb9",
   "metadata": {},
   "outputs": [],
   "source": [
    "import pandas as pd"
   ]
  },
  {
   "cell_type": "code",
   "execution_count": 23,
   "id": "2840af39",
   "metadata": {},
   "outputs": [
    {
     "name": "stdout",
     "output_type": "stream",
     "text": [
      "   colors  degrees  numbers\n",
      "1     red       30       11\n",
      "2  orange       40       12\n",
      "3  yellow       50       13\n",
      "4   white       60       14\n"
     ]
    }
   ],
   "source": [
    "# new_df = pd.read_excel(\"REGISTRO DE FACTURAS DE COMPRAS MENSUALES 2022.xlsx\")\n",
    "print(new_df)"
   ]
  },
  {
   "cell_type": "markdown",
   "id": "745dbfab",
   "metadata": {},
   "source": [
    "# Matplotlib Data Visualization"
   ]
  },
  {
   "cell_type": "code",
   "execution_count": 1,
   "id": "c5dcee98",
   "metadata": {},
   "outputs": [
    {
     "name": "stderr",
     "output_type": "stream",
     "text": [
      "Matplotlib is building the font cache; this may take a moment.\n"
     ]
    }
   ],
   "source": [
    "import matplotlib.pyplot as plt\n",
    "import numpy as np"
   ]
  },
  {
   "cell_type": "code",
   "execution_count": 2,
   "id": "4c377de3",
   "metadata": {},
   "outputs": [],
   "source": [
    "new_data = np.arange(9)"
   ]
  },
  {
   "cell_type": "code",
   "execution_count": 3,
   "id": "8404b451",
   "metadata": {},
   "outputs": [],
   "source": [
    "%matplotlib notebook"
   ]
  },
  {
   "cell_type": "code",
   "execution_count": 4,
   "id": "bafc17ee",
   "metadata": {},
   "outputs": [],
   "source": [
    "# %matplotlib inline"
   ]
  },
  {
   "cell_type": "code",
   "execution_count": 5,
   "id": "ba385585",
   "metadata": {
    "scrolled": true
   },
   "outputs": [
    {
     "data": {
      "application/javascript": [
       "/* Put everything inside the global mpl namespace */\n",
       "/* global mpl */\n",
       "window.mpl = {};\n",
       "\n",
       "mpl.get_websocket_type = function () {\n",
       "    if (typeof WebSocket !== 'undefined') {\n",
       "        return WebSocket;\n",
       "    } else if (typeof MozWebSocket !== 'undefined') {\n",
       "        return MozWebSocket;\n",
       "    } else {\n",
       "        alert(\n",
       "            'Your browser does not have WebSocket support. ' +\n",
       "                'Please try Chrome, Safari or Firefox ≥ 6. ' +\n",
       "                'Firefox 4 and 5 are also supported but you ' +\n",
       "                'have to enable WebSockets in about:config.'\n",
       "        );\n",
       "    }\n",
       "};\n",
       "\n",
       "mpl.figure = function (figure_id, websocket, ondownload, parent_element) {\n",
       "    this.id = figure_id;\n",
       "\n",
       "    this.ws = websocket;\n",
       "\n",
       "    this.supports_binary = this.ws.binaryType !== undefined;\n",
       "\n",
       "    if (!this.supports_binary) {\n",
       "        var warnings = document.getElementById('mpl-warnings');\n",
       "        if (warnings) {\n",
       "            warnings.style.display = 'block';\n",
       "            warnings.textContent =\n",
       "                'This browser does not support binary websocket messages. ' +\n",
       "                'Performance may be slow.';\n",
       "        }\n",
       "    }\n",
       "\n",
       "    this.imageObj = new Image();\n",
       "\n",
       "    this.context = undefined;\n",
       "    this.message = undefined;\n",
       "    this.canvas = undefined;\n",
       "    this.rubberband_canvas = undefined;\n",
       "    this.rubberband_context = undefined;\n",
       "    this.format_dropdown = undefined;\n",
       "\n",
       "    this.image_mode = 'full';\n",
       "\n",
       "    this.root = document.createElement('div');\n",
       "    this.root.setAttribute('style', 'display: inline-block');\n",
       "    this._root_extra_style(this.root);\n",
       "\n",
       "    parent_element.appendChild(this.root);\n",
       "\n",
       "    this._init_header(this);\n",
       "    this._init_canvas(this);\n",
       "    this._init_toolbar(this);\n",
       "\n",
       "    var fig = this;\n",
       "\n",
       "    this.waiting = false;\n",
       "\n",
       "    this.ws.onopen = function () {\n",
       "        fig.send_message('supports_binary', { value: fig.supports_binary });\n",
       "        fig.send_message('send_image_mode', {});\n",
       "        if (fig.ratio !== 1) {\n",
       "            fig.send_message('set_device_pixel_ratio', {\n",
       "                device_pixel_ratio: fig.ratio,\n",
       "            });\n",
       "        }\n",
       "        fig.send_message('refresh', {});\n",
       "    };\n",
       "\n",
       "    this.imageObj.onload = function () {\n",
       "        if (fig.image_mode === 'full') {\n",
       "            // Full images could contain transparency (where diff images\n",
       "            // almost always do), so we need to clear the canvas so that\n",
       "            // there is no ghosting.\n",
       "            fig.context.clearRect(0, 0, fig.canvas.width, fig.canvas.height);\n",
       "        }\n",
       "        fig.context.drawImage(fig.imageObj, 0, 0);\n",
       "    };\n",
       "\n",
       "    this.imageObj.onunload = function () {\n",
       "        fig.ws.close();\n",
       "    };\n",
       "\n",
       "    this.ws.onmessage = this._make_on_message_function(this);\n",
       "\n",
       "    this.ondownload = ondownload;\n",
       "};\n",
       "\n",
       "mpl.figure.prototype._init_header = function () {\n",
       "    var titlebar = document.createElement('div');\n",
       "    titlebar.classList =\n",
       "        'ui-dialog-titlebar ui-widget-header ui-corner-all ui-helper-clearfix';\n",
       "    var titletext = document.createElement('div');\n",
       "    titletext.classList = 'ui-dialog-title';\n",
       "    titletext.setAttribute(\n",
       "        'style',\n",
       "        'width: 100%; text-align: center; padding: 3px;'\n",
       "    );\n",
       "    titlebar.appendChild(titletext);\n",
       "    this.root.appendChild(titlebar);\n",
       "    this.header = titletext;\n",
       "};\n",
       "\n",
       "mpl.figure.prototype._canvas_extra_style = function (_canvas_div) {};\n",
       "\n",
       "mpl.figure.prototype._root_extra_style = function (_canvas_div) {};\n",
       "\n",
       "mpl.figure.prototype._init_canvas = function () {\n",
       "    var fig = this;\n",
       "\n",
       "    var canvas_div = (this.canvas_div = document.createElement('div'));\n",
       "    canvas_div.setAttribute(\n",
       "        'style',\n",
       "        'border: 1px solid #ddd;' +\n",
       "            'box-sizing: content-box;' +\n",
       "            'clear: both;' +\n",
       "            'min-height: 1px;' +\n",
       "            'min-width: 1px;' +\n",
       "            'outline: 0;' +\n",
       "            'overflow: hidden;' +\n",
       "            'position: relative;' +\n",
       "            'resize: both;'\n",
       "    );\n",
       "\n",
       "    function on_keyboard_event_closure(name) {\n",
       "        return function (event) {\n",
       "            return fig.key_event(event, name);\n",
       "        };\n",
       "    }\n",
       "\n",
       "    canvas_div.addEventListener(\n",
       "        'keydown',\n",
       "        on_keyboard_event_closure('key_press')\n",
       "    );\n",
       "    canvas_div.addEventListener(\n",
       "        'keyup',\n",
       "        on_keyboard_event_closure('key_release')\n",
       "    );\n",
       "\n",
       "    this._canvas_extra_style(canvas_div);\n",
       "    this.root.appendChild(canvas_div);\n",
       "\n",
       "    var canvas = (this.canvas = document.createElement('canvas'));\n",
       "    canvas.classList.add('mpl-canvas');\n",
       "    canvas.setAttribute('style', 'box-sizing: content-box;');\n",
       "\n",
       "    this.context = canvas.getContext('2d');\n",
       "\n",
       "    var backingStore =\n",
       "        this.context.backingStorePixelRatio ||\n",
       "        this.context.webkitBackingStorePixelRatio ||\n",
       "        this.context.mozBackingStorePixelRatio ||\n",
       "        this.context.msBackingStorePixelRatio ||\n",
       "        this.context.oBackingStorePixelRatio ||\n",
       "        this.context.backingStorePixelRatio ||\n",
       "        1;\n",
       "\n",
       "    this.ratio = (window.devicePixelRatio || 1) / backingStore;\n",
       "\n",
       "    var rubberband_canvas = (this.rubberband_canvas = document.createElement(\n",
       "        'canvas'\n",
       "    ));\n",
       "    rubberband_canvas.setAttribute(\n",
       "        'style',\n",
       "        'box-sizing: content-box; position: absolute; left: 0; top: 0; z-index: 1;'\n",
       "    );\n",
       "\n",
       "    // Apply a ponyfill if ResizeObserver is not implemented by browser.\n",
       "    if (this.ResizeObserver === undefined) {\n",
       "        if (window.ResizeObserver !== undefined) {\n",
       "            this.ResizeObserver = window.ResizeObserver;\n",
       "        } else {\n",
       "            var obs = _JSXTOOLS_RESIZE_OBSERVER({});\n",
       "            this.ResizeObserver = obs.ResizeObserver;\n",
       "        }\n",
       "    }\n",
       "\n",
       "    this.resizeObserverInstance = new this.ResizeObserver(function (entries) {\n",
       "        var nentries = entries.length;\n",
       "        for (var i = 0; i < nentries; i++) {\n",
       "            var entry = entries[i];\n",
       "            var width, height;\n",
       "            if (entry.contentBoxSize) {\n",
       "                if (entry.contentBoxSize instanceof Array) {\n",
       "                    // Chrome 84 implements new version of spec.\n",
       "                    width = entry.contentBoxSize[0].inlineSize;\n",
       "                    height = entry.contentBoxSize[0].blockSize;\n",
       "                } else {\n",
       "                    // Firefox implements old version of spec.\n",
       "                    width = entry.contentBoxSize.inlineSize;\n",
       "                    height = entry.contentBoxSize.blockSize;\n",
       "                }\n",
       "            } else {\n",
       "                // Chrome <84 implements even older version of spec.\n",
       "                width = entry.contentRect.width;\n",
       "                height = entry.contentRect.height;\n",
       "            }\n",
       "\n",
       "            // Keep the size of the canvas and rubber band canvas in sync with\n",
       "            // the canvas container.\n",
       "            if (entry.devicePixelContentBoxSize) {\n",
       "                // Chrome 84 implements new version of spec.\n",
       "                canvas.setAttribute(\n",
       "                    'width',\n",
       "                    entry.devicePixelContentBoxSize[0].inlineSize\n",
       "                );\n",
       "                canvas.setAttribute(\n",
       "                    'height',\n",
       "                    entry.devicePixelContentBoxSize[0].blockSize\n",
       "                );\n",
       "            } else {\n",
       "                canvas.setAttribute('width', width * fig.ratio);\n",
       "                canvas.setAttribute('height', height * fig.ratio);\n",
       "            }\n",
       "            canvas.setAttribute(\n",
       "                'style',\n",
       "                'width: ' + width + 'px; height: ' + height + 'px;'\n",
       "            );\n",
       "\n",
       "            rubberband_canvas.setAttribute('width', width);\n",
       "            rubberband_canvas.setAttribute('height', height);\n",
       "\n",
       "            // And update the size in Python. We ignore the initial 0/0 size\n",
       "            // that occurs as the element is placed into the DOM, which should\n",
       "            // otherwise not happen due to the minimum size styling.\n",
       "            if (fig.ws.readyState == 1 && width != 0 && height != 0) {\n",
       "                fig.request_resize(width, height);\n",
       "            }\n",
       "        }\n",
       "    });\n",
       "    this.resizeObserverInstance.observe(canvas_div);\n",
       "\n",
       "    function on_mouse_event_closure(name) {\n",
       "        return function (event) {\n",
       "            return fig.mouse_event(event, name);\n",
       "        };\n",
       "    }\n",
       "\n",
       "    rubberband_canvas.addEventListener(\n",
       "        'mousedown',\n",
       "        on_mouse_event_closure('button_press')\n",
       "    );\n",
       "    rubberband_canvas.addEventListener(\n",
       "        'mouseup',\n",
       "        on_mouse_event_closure('button_release')\n",
       "    );\n",
       "    rubberband_canvas.addEventListener(\n",
       "        'dblclick',\n",
       "        on_mouse_event_closure('dblclick')\n",
       "    );\n",
       "    // Throttle sequential mouse events to 1 every 20ms.\n",
       "    rubberband_canvas.addEventListener(\n",
       "        'mousemove',\n",
       "        on_mouse_event_closure('motion_notify')\n",
       "    );\n",
       "\n",
       "    rubberband_canvas.addEventListener(\n",
       "        'mouseenter',\n",
       "        on_mouse_event_closure('figure_enter')\n",
       "    );\n",
       "    rubberband_canvas.addEventListener(\n",
       "        'mouseleave',\n",
       "        on_mouse_event_closure('figure_leave')\n",
       "    );\n",
       "\n",
       "    canvas_div.addEventListener('wheel', function (event) {\n",
       "        if (event.deltaY < 0) {\n",
       "            event.step = 1;\n",
       "        } else {\n",
       "            event.step = -1;\n",
       "        }\n",
       "        on_mouse_event_closure('scroll')(event);\n",
       "    });\n",
       "\n",
       "    canvas_div.appendChild(canvas);\n",
       "    canvas_div.appendChild(rubberband_canvas);\n",
       "\n",
       "    this.rubberband_context = rubberband_canvas.getContext('2d');\n",
       "    this.rubberband_context.strokeStyle = '#000000';\n",
       "\n",
       "    this._resize_canvas = function (width, height, forward) {\n",
       "        if (forward) {\n",
       "            canvas_div.style.width = width + 'px';\n",
       "            canvas_div.style.height = height + 'px';\n",
       "        }\n",
       "    };\n",
       "\n",
       "    // Disable right mouse context menu.\n",
       "    this.rubberband_canvas.addEventListener('contextmenu', function (_e) {\n",
       "        event.preventDefault();\n",
       "        return false;\n",
       "    });\n",
       "\n",
       "    function set_focus() {\n",
       "        canvas.focus();\n",
       "        canvas_div.focus();\n",
       "    }\n",
       "\n",
       "    window.setTimeout(set_focus, 100);\n",
       "};\n",
       "\n",
       "mpl.figure.prototype._init_toolbar = function () {\n",
       "    var fig = this;\n",
       "\n",
       "    var toolbar = document.createElement('div');\n",
       "    toolbar.classList = 'mpl-toolbar';\n",
       "    this.root.appendChild(toolbar);\n",
       "\n",
       "    function on_click_closure(name) {\n",
       "        return function (_event) {\n",
       "            return fig.toolbar_button_onclick(name);\n",
       "        };\n",
       "    }\n",
       "\n",
       "    function on_mouseover_closure(tooltip) {\n",
       "        return function (event) {\n",
       "            if (!event.currentTarget.disabled) {\n",
       "                return fig.toolbar_button_onmouseover(tooltip);\n",
       "            }\n",
       "        };\n",
       "    }\n",
       "\n",
       "    fig.buttons = {};\n",
       "    var buttonGroup = document.createElement('div');\n",
       "    buttonGroup.classList = 'mpl-button-group';\n",
       "    for (var toolbar_ind in mpl.toolbar_items) {\n",
       "        var name = mpl.toolbar_items[toolbar_ind][0];\n",
       "        var tooltip = mpl.toolbar_items[toolbar_ind][1];\n",
       "        var image = mpl.toolbar_items[toolbar_ind][2];\n",
       "        var method_name = mpl.toolbar_items[toolbar_ind][3];\n",
       "\n",
       "        if (!name) {\n",
       "            /* Instead of a spacer, we start a new button group. */\n",
       "            if (buttonGroup.hasChildNodes()) {\n",
       "                toolbar.appendChild(buttonGroup);\n",
       "            }\n",
       "            buttonGroup = document.createElement('div');\n",
       "            buttonGroup.classList = 'mpl-button-group';\n",
       "            continue;\n",
       "        }\n",
       "\n",
       "        var button = (fig.buttons[name] = document.createElement('button'));\n",
       "        button.classList = 'mpl-widget';\n",
       "        button.setAttribute('role', 'button');\n",
       "        button.setAttribute('aria-disabled', 'false');\n",
       "        button.addEventListener('click', on_click_closure(method_name));\n",
       "        button.addEventListener('mouseover', on_mouseover_closure(tooltip));\n",
       "\n",
       "        var icon_img = document.createElement('img');\n",
       "        icon_img.src = '_images/' + image + '.png';\n",
       "        icon_img.srcset = '_images/' + image + '_large.png 2x';\n",
       "        icon_img.alt = tooltip;\n",
       "        button.appendChild(icon_img);\n",
       "\n",
       "        buttonGroup.appendChild(button);\n",
       "    }\n",
       "\n",
       "    if (buttonGroup.hasChildNodes()) {\n",
       "        toolbar.appendChild(buttonGroup);\n",
       "    }\n",
       "\n",
       "    var fmt_picker = document.createElement('select');\n",
       "    fmt_picker.classList = 'mpl-widget';\n",
       "    toolbar.appendChild(fmt_picker);\n",
       "    this.format_dropdown = fmt_picker;\n",
       "\n",
       "    for (var ind in mpl.extensions) {\n",
       "        var fmt = mpl.extensions[ind];\n",
       "        var option = document.createElement('option');\n",
       "        option.selected = fmt === mpl.default_extension;\n",
       "        option.innerHTML = fmt;\n",
       "        fmt_picker.appendChild(option);\n",
       "    }\n",
       "\n",
       "    var status_bar = document.createElement('span');\n",
       "    status_bar.classList = 'mpl-message';\n",
       "    toolbar.appendChild(status_bar);\n",
       "    this.message = status_bar;\n",
       "};\n",
       "\n",
       "mpl.figure.prototype.request_resize = function (x_pixels, y_pixels) {\n",
       "    // Request matplotlib to resize the figure. Matplotlib will then trigger a resize in the client,\n",
       "    // which will in turn request a refresh of the image.\n",
       "    this.send_message('resize', { width: x_pixels, height: y_pixels });\n",
       "};\n",
       "\n",
       "mpl.figure.prototype.send_message = function (type, properties) {\n",
       "    properties['type'] = type;\n",
       "    properties['figure_id'] = this.id;\n",
       "    this.ws.send(JSON.stringify(properties));\n",
       "};\n",
       "\n",
       "mpl.figure.prototype.send_draw_message = function () {\n",
       "    if (!this.waiting) {\n",
       "        this.waiting = true;\n",
       "        this.ws.send(JSON.stringify({ type: 'draw', figure_id: this.id }));\n",
       "    }\n",
       "};\n",
       "\n",
       "mpl.figure.prototype.handle_save = function (fig, _msg) {\n",
       "    var format_dropdown = fig.format_dropdown;\n",
       "    var format = format_dropdown.options[format_dropdown.selectedIndex].value;\n",
       "    fig.ondownload(fig, format);\n",
       "};\n",
       "\n",
       "mpl.figure.prototype.handle_resize = function (fig, msg) {\n",
       "    var size = msg['size'];\n",
       "    if (size[0] !== fig.canvas.width || size[1] !== fig.canvas.height) {\n",
       "        fig._resize_canvas(size[0], size[1], msg['forward']);\n",
       "        fig.send_message('refresh', {});\n",
       "    }\n",
       "};\n",
       "\n",
       "mpl.figure.prototype.handle_rubberband = function (fig, msg) {\n",
       "    var x0 = msg['x0'] / fig.ratio;\n",
       "    var y0 = (fig.canvas.height - msg['y0']) / fig.ratio;\n",
       "    var x1 = msg['x1'] / fig.ratio;\n",
       "    var y1 = (fig.canvas.height - msg['y1']) / fig.ratio;\n",
       "    x0 = Math.floor(x0) + 0.5;\n",
       "    y0 = Math.floor(y0) + 0.5;\n",
       "    x1 = Math.floor(x1) + 0.5;\n",
       "    y1 = Math.floor(y1) + 0.5;\n",
       "    var min_x = Math.min(x0, x1);\n",
       "    var min_y = Math.min(y0, y1);\n",
       "    var width = Math.abs(x1 - x0);\n",
       "    var height = Math.abs(y1 - y0);\n",
       "\n",
       "    fig.rubberband_context.clearRect(\n",
       "        0,\n",
       "        0,\n",
       "        fig.canvas.width / fig.ratio,\n",
       "        fig.canvas.height / fig.ratio\n",
       "    );\n",
       "\n",
       "    fig.rubberband_context.strokeRect(min_x, min_y, width, height);\n",
       "};\n",
       "\n",
       "mpl.figure.prototype.handle_figure_label = function (fig, msg) {\n",
       "    // Updates the figure title.\n",
       "    fig.header.textContent = msg['label'];\n",
       "};\n",
       "\n",
       "mpl.figure.prototype.handle_cursor = function (fig, msg) {\n",
       "    fig.rubberband_canvas.style.cursor = msg['cursor'];\n",
       "};\n",
       "\n",
       "mpl.figure.prototype.handle_message = function (fig, msg) {\n",
       "    fig.message.textContent = msg['message'];\n",
       "};\n",
       "\n",
       "mpl.figure.prototype.handle_draw = function (fig, _msg) {\n",
       "    // Request the server to send over a new figure.\n",
       "    fig.send_draw_message();\n",
       "};\n",
       "\n",
       "mpl.figure.prototype.handle_image_mode = function (fig, msg) {\n",
       "    fig.image_mode = msg['mode'];\n",
       "};\n",
       "\n",
       "mpl.figure.prototype.handle_history_buttons = function (fig, msg) {\n",
       "    for (var key in msg) {\n",
       "        if (!(key in fig.buttons)) {\n",
       "            continue;\n",
       "        }\n",
       "        fig.buttons[key].disabled = !msg[key];\n",
       "        fig.buttons[key].setAttribute('aria-disabled', !msg[key]);\n",
       "    }\n",
       "};\n",
       "\n",
       "mpl.figure.prototype.handle_navigate_mode = function (fig, msg) {\n",
       "    if (msg['mode'] === 'PAN') {\n",
       "        fig.buttons['Pan'].classList.add('active');\n",
       "        fig.buttons['Zoom'].classList.remove('active');\n",
       "    } else if (msg['mode'] === 'ZOOM') {\n",
       "        fig.buttons['Pan'].classList.remove('active');\n",
       "        fig.buttons['Zoom'].classList.add('active');\n",
       "    } else {\n",
       "        fig.buttons['Pan'].classList.remove('active');\n",
       "        fig.buttons['Zoom'].classList.remove('active');\n",
       "    }\n",
       "};\n",
       "\n",
       "mpl.figure.prototype.updated_canvas_event = function () {\n",
       "    // Called whenever the canvas gets updated.\n",
       "    this.send_message('ack', {});\n",
       "};\n",
       "\n",
       "// A function to construct a web socket function for onmessage handling.\n",
       "// Called in the figure constructor.\n",
       "mpl.figure.prototype._make_on_message_function = function (fig) {\n",
       "    return function socket_on_message(evt) {\n",
       "        if (evt.data instanceof Blob) {\n",
       "            var img = evt.data;\n",
       "            if (img.type !== 'image/png') {\n",
       "                /* FIXME: We get \"Resource interpreted as Image but\n",
       "                 * transferred with MIME type text/plain:\" errors on\n",
       "                 * Chrome.  But how to set the MIME type?  It doesn't seem\n",
       "                 * to be part of the websocket stream */\n",
       "                img.type = 'image/png';\n",
       "            }\n",
       "\n",
       "            /* Free the memory for the previous frames */\n",
       "            if (fig.imageObj.src) {\n",
       "                (window.URL || window.webkitURL).revokeObjectURL(\n",
       "                    fig.imageObj.src\n",
       "                );\n",
       "            }\n",
       "\n",
       "            fig.imageObj.src = (window.URL || window.webkitURL).createObjectURL(\n",
       "                img\n",
       "            );\n",
       "            fig.updated_canvas_event();\n",
       "            fig.waiting = false;\n",
       "            return;\n",
       "        } else if (\n",
       "            typeof evt.data === 'string' &&\n",
       "            evt.data.slice(0, 21) === 'data:image/png;base64'\n",
       "        ) {\n",
       "            fig.imageObj.src = evt.data;\n",
       "            fig.updated_canvas_event();\n",
       "            fig.waiting = false;\n",
       "            return;\n",
       "        }\n",
       "\n",
       "        var msg = JSON.parse(evt.data);\n",
       "        var msg_type = msg['type'];\n",
       "\n",
       "        // Call the  \"handle_{type}\" callback, which takes\n",
       "        // the figure and JSON message as its only arguments.\n",
       "        try {\n",
       "            var callback = fig['handle_' + msg_type];\n",
       "        } catch (e) {\n",
       "            console.log(\n",
       "                \"No handler for the '\" + msg_type + \"' message type: \",\n",
       "                msg\n",
       "            );\n",
       "            return;\n",
       "        }\n",
       "\n",
       "        if (callback) {\n",
       "            try {\n",
       "                // console.log(\"Handling '\" + msg_type + \"' message: \", msg);\n",
       "                callback(fig, msg);\n",
       "            } catch (e) {\n",
       "                console.log(\n",
       "                    \"Exception inside the 'handler_\" + msg_type + \"' callback:\",\n",
       "                    e,\n",
       "                    e.stack,\n",
       "                    msg\n",
       "                );\n",
       "            }\n",
       "        }\n",
       "    };\n",
       "};\n",
       "\n",
       "// from https://stackoverflow.com/questions/1114465/getting-mouse-location-in-canvas\n",
       "mpl.findpos = function (e) {\n",
       "    //this section is from http://www.quirksmode.org/js/events_properties.html\n",
       "    var targ;\n",
       "    if (!e) {\n",
       "        e = window.event;\n",
       "    }\n",
       "    if (e.target) {\n",
       "        targ = e.target;\n",
       "    } else if (e.srcElement) {\n",
       "        targ = e.srcElement;\n",
       "    }\n",
       "    if (targ.nodeType === 3) {\n",
       "        // defeat Safari bug\n",
       "        targ = targ.parentNode;\n",
       "    }\n",
       "\n",
       "    // pageX,Y are the mouse positions relative to the document\n",
       "    var boundingRect = targ.getBoundingClientRect();\n",
       "    var x = e.pageX - (boundingRect.left + document.body.scrollLeft);\n",
       "    var y = e.pageY - (boundingRect.top + document.body.scrollTop);\n",
       "\n",
       "    return { x: x, y: y };\n",
       "};\n",
       "\n",
       "/*\n",
       " * return a copy of an object with only non-object keys\n",
       " * we need this to avoid circular references\n",
       " * https://stackoverflow.com/a/24161582/3208463\n",
       " */\n",
       "function simpleKeys(original) {\n",
       "    return Object.keys(original).reduce(function (obj, key) {\n",
       "        if (typeof original[key] !== 'object') {\n",
       "            obj[key] = original[key];\n",
       "        }\n",
       "        return obj;\n",
       "    }, {});\n",
       "}\n",
       "\n",
       "mpl.figure.prototype.mouse_event = function (event, name) {\n",
       "    var canvas_pos = mpl.findpos(event);\n",
       "\n",
       "    if (name === 'button_press') {\n",
       "        this.canvas.focus();\n",
       "        this.canvas_div.focus();\n",
       "    }\n",
       "\n",
       "    var x = canvas_pos.x * this.ratio;\n",
       "    var y = canvas_pos.y * this.ratio;\n",
       "\n",
       "    this.send_message(name, {\n",
       "        x: x,\n",
       "        y: y,\n",
       "        button: event.button,\n",
       "        step: event.step,\n",
       "        guiEvent: simpleKeys(event),\n",
       "    });\n",
       "\n",
       "    /* This prevents the web browser from automatically changing to\n",
       "     * the text insertion cursor when the button is pressed.  We want\n",
       "     * to control all of the cursor setting manually through the\n",
       "     * 'cursor' event from matplotlib */\n",
       "    event.preventDefault();\n",
       "    return false;\n",
       "};\n",
       "\n",
       "mpl.figure.prototype._key_event_extra = function (_event, _name) {\n",
       "    // Handle any extra behaviour associated with a key event\n",
       "};\n",
       "\n",
       "mpl.figure.prototype.key_event = function (event, name) {\n",
       "    // Prevent repeat events\n",
       "    if (name === 'key_press') {\n",
       "        if (event.key === this._key) {\n",
       "            return;\n",
       "        } else {\n",
       "            this._key = event.key;\n",
       "        }\n",
       "    }\n",
       "    if (name === 'key_release') {\n",
       "        this._key = null;\n",
       "    }\n",
       "\n",
       "    var value = '';\n",
       "    if (event.ctrlKey && event.key !== 'Control') {\n",
       "        value += 'ctrl+';\n",
       "    }\n",
       "    else if (event.altKey && event.key !== 'Alt') {\n",
       "        value += 'alt+';\n",
       "    }\n",
       "    else if (event.shiftKey && event.key !== 'Shift') {\n",
       "        value += 'shift+';\n",
       "    }\n",
       "\n",
       "    value += 'k' + event.key;\n",
       "\n",
       "    this._key_event_extra(event, name);\n",
       "\n",
       "    this.send_message(name, { key: value, guiEvent: simpleKeys(event) });\n",
       "    return false;\n",
       "};\n",
       "\n",
       "mpl.figure.prototype.toolbar_button_onclick = function (name) {\n",
       "    if (name === 'download') {\n",
       "        this.handle_save(this, null);\n",
       "    } else {\n",
       "        this.send_message('toolbar_button', { name: name });\n",
       "    }\n",
       "};\n",
       "\n",
       "mpl.figure.prototype.toolbar_button_onmouseover = function (tooltip) {\n",
       "    this.message.textContent = tooltip;\n",
       "};\n",
       "\n",
       "///////////////// REMAINING CONTENT GENERATED BY embed_js.py /////////////////\n",
       "// prettier-ignore\n",
       "var _JSXTOOLS_RESIZE_OBSERVER=function(A){var t,i=new WeakMap,n=new WeakMap,a=new WeakMap,r=new WeakMap,o=new Set;function s(e){if(!(this instanceof s))throw new TypeError(\"Constructor requires 'new' operator\");i.set(this,e)}function h(){throw new TypeError(\"Function is not a constructor\")}function c(e,t,i,n){e=0 in arguments?Number(arguments[0]):0,t=1 in arguments?Number(arguments[1]):0,i=2 in arguments?Number(arguments[2]):0,n=3 in arguments?Number(arguments[3]):0,this.right=(this.x=this.left=e)+(this.width=i),this.bottom=(this.y=this.top=t)+(this.height=n),Object.freeze(this)}function d(){t=requestAnimationFrame(d);var s=new WeakMap,p=new Set;o.forEach((function(t){r.get(t).forEach((function(i){var r=t instanceof window.SVGElement,o=a.get(t),d=r?0:parseFloat(o.paddingTop),f=r?0:parseFloat(o.paddingRight),l=r?0:parseFloat(o.paddingBottom),u=r?0:parseFloat(o.paddingLeft),g=r?0:parseFloat(o.borderTopWidth),m=r?0:parseFloat(o.borderRightWidth),w=r?0:parseFloat(o.borderBottomWidth),b=u+f,F=d+l,v=(r?0:parseFloat(o.borderLeftWidth))+m,W=g+w,y=r?0:t.offsetHeight-W-t.clientHeight,E=r?0:t.offsetWidth-v-t.clientWidth,R=b+v,z=F+W,M=r?t.width:parseFloat(o.width)-R-E,O=r?t.height:parseFloat(o.height)-z-y;if(n.has(t)){var k=n.get(t);if(k[0]===M&&k[1]===O)return}n.set(t,[M,O]);var S=Object.create(h.prototype);S.target=t,S.contentRect=new c(u,d,M,O),s.has(i)||(s.set(i,[]),p.add(i)),s.get(i).push(S)}))})),p.forEach((function(e){i.get(e).call(e,s.get(e),e)}))}return s.prototype.observe=function(i){if(i instanceof window.Element){r.has(i)||(r.set(i,new Set),o.add(i),a.set(i,window.getComputedStyle(i)));var n=r.get(i);n.has(this)||n.add(this),cancelAnimationFrame(t),t=requestAnimationFrame(d)}},s.prototype.unobserve=function(i){if(i instanceof window.Element&&r.has(i)){var n=r.get(i);n.has(this)&&(n.delete(this),n.size||(r.delete(i),o.delete(i))),n.size||r.delete(i),o.size||cancelAnimationFrame(t)}},A.DOMRectReadOnly=c,A.ResizeObserver=s,A.ResizeObserverEntry=h,A}; // eslint-disable-line\n",
       "mpl.toolbar_items = [[\"Home\", \"Reset original view\", \"fa fa-home icon-home\", \"home\"], [\"Back\", \"Back to previous view\", \"fa fa-arrow-left icon-arrow-left\", \"back\"], [\"Forward\", \"Forward to next view\", \"fa fa-arrow-right icon-arrow-right\", \"forward\"], [\"\", \"\", \"\", \"\"], [\"Pan\", \"Left button pans, Right button zooms\\nx/y fixes axis, CTRL fixes aspect\", \"fa fa-arrows icon-move\", \"pan\"], [\"Zoom\", \"Zoom to rectangle\\nx/y fixes axis\", \"fa fa-square-o icon-check-empty\", \"zoom\"], [\"\", \"\", \"\", \"\"], [\"Download\", \"Download plot\", \"fa fa-floppy-o icon-save\", \"download\"]];\n",
       "\n",
       "mpl.extensions = [\"eps\", \"jpeg\", \"pgf\", \"pdf\", \"png\", \"ps\", \"raw\", \"svg\", \"tif\"];\n",
       "\n",
       "mpl.default_extension = \"png\";/* global mpl */\n",
       "\n",
       "var comm_websocket_adapter = function (comm) {\n",
       "    // Create a \"websocket\"-like object which calls the given IPython comm\n",
       "    // object with the appropriate methods. Currently this is a non binary\n",
       "    // socket, so there is still some room for performance tuning.\n",
       "    var ws = {};\n",
       "\n",
       "    ws.binaryType = comm.kernel.ws.binaryType;\n",
       "    ws.readyState = comm.kernel.ws.readyState;\n",
       "    function updateReadyState(_event) {\n",
       "        if (comm.kernel.ws) {\n",
       "            ws.readyState = comm.kernel.ws.readyState;\n",
       "        } else {\n",
       "            ws.readyState = 3; // Closed state.\n",
       "        }\n",
       "    }\n",
       "    comm.kernel.ws.addEventListener('open', updateReadyState);\n",
       "    comm.kernel.ws.addEventListener('close', updateReadyState);\n",
       "    comm.kernel.ws.addEventListener('error', updateReadyState);\n",
       "\n",
       "    ws.close = function () {\n",
       "        comm.close();\n",
       "    };\n",
       "    ws.send = function (m) {\n",
       "        //console.log('sending', m);\n",
       "        comm.send(m);\n",
       "    };\n",
       "    // Register the callback with on_msg.\n",
       "    comm.on_msg(function (msg) {\n",
       "        //console.log('receiving', msg['content']['data'], msg);\n",
       "        var data = msg['content']['data'];\n",
       "        if (data['blob'] !== undefined) {\n",
       "            data = {\n",
       "                data: new Blob(msg['buffers'], { type: data['blob'] }),\n",
       "            };\n",
       "        }\n",
       "        // Pass the mpl event to the overridden (by mpl) onmessage function.\n",
       "        ws.onmessage(data);\n",
       "    });\n",
       "    return ws;\n",
       "};\n",
       "\n",
       "mpl.mpl_figure_comm = function (comm, msg) {\n",
       "    // This is the function which gets called when the mpl process\n",
       "    // starts-up an IPython Comm through the \"matplotlib\" channel.\n",
       "\n",
       "    var id = msg.content.data.id;\n",
       "    // Get hold of the div created by the display call when the Comm\n",
       "    // socket was opened in Python.\n",
       "    var element = document.getElementById(id);\n",
       "    var ws_proxy = comm_websocket_adapter(comm);\n",
       "\n",
       "    function ondownload(figure, _format) {\n",
       "        window.open(figure.canvas.toDataURL());\n",
       "    }\n",
       "\n",
       "    var fig = new mpl.figure(id, ws_proxy, ondownload, element);\n",
       "\n",
       "    // Call onopen now - mpl needs it, as it is assuming we've passed it a real\n",
       "    // web socket which is closed, not our websocket->open comm proxy.\n",
       "    ws_proxy.onopen();\n",
       "\n",
       "    fig.parent_element = element;\n",
       "    fig.cell_info = mpl.find_output_cell(\"<div id='\" + id + \"'></div>\");\n",
       "    if (!fig.cell_info) {\n",
       "        console.error('Failed to find cell for figure', id, fig);\n",
       "        return;\n",
       "    }\n",
       "    fig.cell_info[0].output_area.element.on(\n",
       "        'cleared',\n",
       "        { fig: fig },\n",
       "        fig._remove_fig_handler\n",
       "    );\n",
       "};\n",
       "\n",
       "mpl.figure.prototype.handle_close = function (fig, msg) {\n",
       "    var width = fig.canvas.width / fig.ratio;\n",
       "    fig.cell_info[0].output_area.element.off(\n",
       "        'cleared',\n",
       "        fig._remove_fig_handler\n",
       "    );\n",
       "    fig.resizeObserverInstance.unobserve(fig.canvas_div);\n",
       "\n",
       "    // Update the output cell to use the data from the current canvas.\n",
       "    fig.push_to_output();\n",
       "    var dataURL = fig.canvas.toDataURL();\n",
       "    // Re-enable the keyboard manager in IPython - without this line, in FF,\n",
       "    // the notebook keyboard shortcuts fail.\n",
       "    IPython.keyboard_manager.enable();\n",
       "    fig.parent_element.innerHTML =\n",
       "        '<img src=\"' + dataURL + '\" width=\"' + width + '\">';\n",
       "    fig.close_ws(fig, msg);\n",
       "};\n",
       "\n",
       "mpl.figure.prototype.close_ws = function (fig, msg) {\n",
       "    fig.send_message('closing', msg);\n",
       "    // fig.ws.close()\n",
       "};\n",
       "\n",
       "mpl.figure.prototype.push_to_output = function (_remove_interactive) {\n",
       "    // Turn the data on the canvas into data in the output cell.\n",
       "    var width = this.canvas.width / this.ratio;\n",
       "    var dataURL = this.canvas.toDataURL();\n",
       "    this.cell_info[1]['text/html'] =\n",
       "        '<img src=\"' + dataURL + '\" width=\"' + width + '\">';\n",
       "};\n",
       "\n",
       "mpl.figure.prototype.updated_canvas_event = function () {\n",
       "    // Tell IPython that the notebook contents must change.\n",
       "    IPython.notebook.set_dirty(true);\n",
       "    this.send_message('ack', {});\n",
       "    var fig = this;\n",
       "    // Wait a second, then push the new image to the DOM so\n",
       "    // that it is saved nicely (might be nice to debounce this).\n",
       "    setTimeout(function () {\n",
       "        fig.push_to_output();\n",
       "    }, 1000);\n",
       "};\n",
       "\n",
       "mpl.figure.prototype._init_toolbar = function () {\n",
       "    var fig = this;\n",
       "\n",
       "    var toolbar = document.createElement('div');\n",
       "    toolbar.classList = 'btn-toolbar';\n",
       "    this.root.appendChild(toolbar);\n",
       "\n",
       "    function on_click_closure(name) {\n",
       "        return function (_event) {\n",
       "            return fig.toolbar_button_onclick(name);\n",
       "        };\n",
       "    }\n",
       "\n",
       "    function on_mouseover_closure(tooltip) {\n",
       "        return function (event) {\n",
       "            if (!event.currentTarget.disabled) {\n",
       "                return fig.toolbar_button_onmouseover(tooltip);\n",
       "            }\n",
       "        };\n",
       "    }\n",
       "\n",
       "    fig.buttons = {};\n",
       "    var buttonGroup = document.createElement('div');\n",
       "    buttonGroup.classList = 'btn-group';\n",
       "    var button;\n",
       "    for (var toolbar_ind in mpl.toolbar_items) {\n",
       "        var name = mpl.toolbar_items[toolbar_ind][0];\n",
       "        var tooltip = mpl.toolbar_items[toolbar_ind][1];\n",
       "        var image = mpl.toolbar_items[toolbar_ind][2];\n",
       "        var method_name = mpl.toolbar_items[toolbar_ind][3];\n",
       "\n",
       "        if (!name) {\n",
       "            /* Instead of a spacer, we start a new button group. */\n",
       "            if (buttonGroup.hasChildNodes()) {\n",
       "                toolbar.appendChild(buttonGroup);\n",
       "            }\n",
       "            buttonGroup = document.createElement('div');\n",
       "            buttonGroup.classList = 'btn-group';\n",
       "            continue;\n",
       "        }\n",
       "\n",
       "        button = fig.buttons[name] = document.createElement('button');\n",
       "        button.classList = 'btn btn-default';\n",
       "        button.href = '#';\n",
       "        button.title = name;\n",
       "        button.innerHTML = '<i class=\"fa ' + image + ' fa-lg\"></i>';\n",
       "        button.addEventListener('click', on_click_closure(method_name));\n",
       "        button.addEventListener('mouseover', on_mouseover_closure(tooltip));\n",
       "        buttonGroup.appendChild(button);\n",
       "    }\n",
       "\n",
       "    if (buttonGroup.hasChildNodes()) {\n",
       "        toolbar.appendChild(buttonGroup);\n",
       "    }\n",
       "\n",
       "    // Add the status bar.\n",
       "    var status_bar = document.createElement('span');\n",
       "    status_bar.classList = 'mpl-message pull-right';\n",
       "    toolbar.appendChild(status_bar);\n",
       "    this.message = status_bar;\n",
       "\n",
       "    // Add the close button to the window.\n",
       "    var buttongrp = document.createElement('div');\n",
       "    buttongrp.classList = 'btn-group inline pull-right';\n",
       "    button = document.createElement('button');\n",
       "    button.classList = 'btn btn-mini btn-primary';\n",
       "    button.href = '#';\n",
       "    button.title = 'Stop Interaction';\n",
       "    button.innerHTML = '<i class=\"fa fa-power-off icon-remove icon-large\"></i>';\n",
       "    button.addEventListener('click', function (_evt) {\n",
       "        fig.handle_close(fig, {});\n",
       "    });\n",
       "    button.addEventListener(\n",
       "        'mouseover',\n",
       "        on_mouseover_closure('Stop Interaction')\n",
       "    );\n",
       "    buttongrp.appendChild(button);\n",
       "    var titlebar = this.root.querySelector('.ui-dialog-titlebar');\n",
       "    titlebar.insertBefore(buttongrp, titlebar.firstChild);\n",
       "};\n",
       "\n",
       "mpl.figure.prototype._remove_fig_handler = function (event) {\n",
       "    var fig = event.data.fig;\n",
       "    if (event.target !== this) {\n",
       "        // Ignore bubbled events from children.\n",
       "        return;\n",
       "    }\n",
       "    fig.close_ws(fig, {});\n",
       "};\n",
       "\n",
       "mpl.figure.prototype._root_extra_style = function (el) {\n",
       "    el.style.boxSizing = 'content-box'; // override notebook setting of border-box.\n",
       "};\n",
       "\n",
       "mpl.figure.prototype._canvas_extra_style = function (el) {\n",
       "    // this is important to make the div 'focusable\n",
       "    el.setAttribute('tabindex', 0);\n",
       "    // reach out to IPython and tell the keyboard manager to turn it's self\n",
       "    // off when our div gets focus\n",
       "\n",
       "    // location in version 3\n",
       "    if (IPython.notebook.keyboard_manager) {\n",
       "        IPython.notebook.keyboard_manager.register_events(el);\n",
       "    } else {\n",
       "        // location in version 2\n",
       "        IPython.keyboard_manager.register_events(el);\n",
       "    }\n",
       "};\n",
       "\n",
       "mpl.figure.prototype._key_event_extra = function (event, _name) {\n",
       "    // Check for shift+enter\n",
       "    if (event.shiftKey && event.which === 13) {\n",
       "        this.canvas_div.blur();\n",
       "        // select the cell after this one\n",
       "        var index = IPython.notebook.find_cell_index(this.cell_info[0]);\n",
       "        IPython.notebook.select(index + 1);\n",
       "    }\n",
       "};\n",
       "\n",
       "mpl.figure.prototype.handle_save = function (fig, _msg) {\n",
       "    fig.ondownload(fig, null);\n",
       "};\n",
       "\n",
       "mpl.find_output_cell = function (html_output) {\n",
       "    // Return the cell and output element which can be found *uniquely* in the notebook.\n",
       "    // Note - this is a bit hacky, but it is done because the \"notebook_saving.Notebook\"\n",
       "    // IPython event is triggered only after the cells have been serialised, which for\n",
       "    // our purposes (turning an active figure into a static one), is too late.\n",
       "    var cells = IPython.notebook.get_cells();\n",
       "    var ncells = cells.length;\n",
       "    for (var i = 0; i < ncells; i++) {\n",
       "        var cell = cells[i];\n",
       "        if (cell.cell_type === 'code') {\n",
       "            for (var j = 0; j < cell.output_area.outputs.length; j++) {\n",
       "                var data = cell.output_area.outputs[j];\n",
       "                if (data.data) {\n",
       "                    // IPython >= 3 moved mimebundle to data attribute of output\n",
       "                    data = data.data;\n",
       "                }\n",
       "                if (data['text/html'] === html_output) {\n",
       "                    return [cell, data, j];\n",
       "                }\n",
       "            }\n",
       "        }\n",
       "    }\n",
       "};\n",
       "\n",
       "// Register the function which deals with the matplotlib target/channel.\n",
       "// The kernel may be null if the page has been refreshed.\n",
       "if (IPython.notebook.kernel !== null) {\n",
       "    IPython.notebook.kernel.comm_manager.register_target(\n",
       "        'matplotlib',\n",
       "        mpl.mpl_figure_comm\n",
       "    );\n",
       "}\n"
      ],
      "text/plain": [
       "<IPython.core.display.Javascript object>"
      ]
     },
     "metadata": {},
     "output_type": "display_data"
    },
    {
     "data": {
      "text/html": [
       "<img src=\"data:image/png;base64,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\" width=\"640\">"
      ],
      "text/plain": [
       "<IPython.core.display.HTML object>"
      ]
     },
     "metadata": {},
     "output_type": "display_data"
    },
    {
     "data": {
      "text/plain": [
       "[<matplotlib.lines.Line2D at 0x206cd7ace50>]"
      ]
     },
     "execution_count": 5,
     "metadata": {},
     "output_type": "execute_result"
    }
   ],
   "source": [
    "plt.plot(new_data)"
   ]
  },
  {
   "cell_type": "code",
   "execution_count": 6,
   "id": "55b807b2",
   "metadata": {},
   "outputs": [
    {
     "data": {
      "text/plain": [
       "Text(0.5, 1.0, 'The new data graph')"
      ]
     },
     "execution_count": 6,
     "metadata": {},
     "output_type": "execute_result"
    }
   ],
   "source": [
    "plt.title(\"The new data graph\")"
   ]
  },
  {
   "cell_type": "code",
   "execution_count": 7,
   "id": "28bd7c87",
   "metadata": {},
   "outputs": [
    {
     "data": {
      "text/plain": [
       "Text(0.5, 23.52222222222222, 'x label name')"
      ]
     },
     "execution_count": 7,
     "metadata": {},
     "output_type": "execute_result"
    }
   ],
   "source": [
    "plt.xlabel(\"x label name\")\n"
   ]
  },
  {
   "cell_type": "code",
   "execution_count": 8,
   "id": "cfcc0015",
   "metadata": {},
   "outputs": [
    {
     "data": {
      "text/plain": [
       "Text(55.847222222222214, 0.5, 'y label name')"
      ]
     },
     "execution_count": 8,
     "metadata": {},
     "output_type": "execute_result"
    }
   ],
   "source": [
    "plt.ylabel(\"y label name\")"
   ]
  },
  {
   "cell_type": "code",
   "execution_count": 9,
   "id": "005364b2",
   "metadata": {},
   "outputs": [],
   "source": [
    "x = [1, 2, 3, 4, 5, 6, 7]\n",
    "y = [1, 4, 9, 16, 25, 36, 49]"
   ]
  },
  {
   "cell_type": "code",
   "execution_count": 10,
   "id": "55968257",
   "metadata": {},
   "outputs": [
    {
     "data": {
      "text/plain": [
       "[<matplotlib.lines.Line2D at 0x206cdac6a90>]"
      ]
     },
     "execution_count": 10,
     "metadata": {},
     "output_type": "execute_result"
    }
   ],
   "source": [
    "plt.plot(x, y)"
   ]
  },
  {
   "cell_type": "code",
   "execution_count": 15,
   "id": "189e2cbf",
   "metadata": {},
   "outputs": [],
   "source": [
    "data1 = np.arange(2, 7, 0.3)"
   ]
  },
  {
   "cell_type": "code",
   "execution_count": 16,
   "id": "2a6f3123",
   "metadata": {},
   "outputs": [
    {
     "data": {
      "text/plain": [
       "[<matplotlib.lines.Line2D at 0x206cd7511c0>,\n",
       " <matplotlib.lines.Line2D at 0x206cd70a790>,\n",
       " <matplotlib.lines.Line2D at 0x206cdb9ca90>]"
      ]
     },
     "execution_count": 16,
     "metadata": {},
     "output_type": "execute_result"
    }
   ],
   "source": [
    "plt.plot(data1, data1, \"r--\", data1, data1**2, \"bs\", data1, data1**3, \"g^\")"
   ]
  },
  {
   "cell_type": "code",
   "execution_count": 17,
   "id": "fe10607a",
   "metadata": {},
   "outputs": [],
   "source": [
    "# plt.savefig(\"newvisualize.png\")"
   ]
  },
  {
   "cell_type": "code",
   "execution_count": 18,
   "id": "27304d04",
   "metadata": {},
   "outputs": [],
   "source": [
    "new_films = [\"film1\", \"film2\", \"film3\", \"film4\"]\n",
    "awards = [3, 9, 1, 5]"
   ]
  },
  {
   "cell_type": "code",
   "execution_count": 21,
   "id": "d83b311d",
   "metadata": {},
   "outputs": [
    {
     "data": {
      "text/plain": [
       "<BarContainer object of 4 artists>"
      ]
     },
     "execution_count": 21,
     "metadata": {},
     "output_type": "execute_result"
    }
   ],
   "source": [
    "plt.bar(range(len(new_films)), awards)"
   ]
  },
  {
   "cell_type": "code",
   "execution_count": 22,
   "id": "ae060ebe",
   "metadata": {},
   "outputs": [
    {
     "data": {
      "text/plain": [
       "Text(0.5, 1.0, 'The top films')"
      ]
     },
     "execution_count": 22,
     "metadata": {},
     "output_type": "execute_result"
    }
   ],
   "source": [
    "plt.title(\"The top films\")"
   ]
  },
  {
   "cell_type": "code",
   "execution_count": 23,
   "id": "2be2a509",
   "metadata": {},
   "outputs": [
    {
     "data": {
      "text/plain": [
       "Text(38.097222222222214, 0.5, 'No, of awards')"
      ]
     },
     "execution_count": 23,
     "metadata": {},
     "output_type": "execute_result"
    }
   ],
   "source": [
    "plt.ylabel(\"No, of awards\")"
   ]
  },
  {
   "cell_type": "code",
   "execution_count": 24,
   "id": "bacc319e",
   "metadata": {},
   "outputs": [
    {
     "data": {
      "text/plain": [
       "([<matplotlib.axis.XTick at 0x206cd76ab80>,\n",
       "  <matplotlib.axis.XTick at 0x206cd76ab50>,\n",
       "  <matplotlib.axis.XTick at 0x206cd7bd1f0>,\n",
       "  <matplotlib.axis.XTick at 0x206cd7bd640>],\n",
       " [Text(0, 0, 'film1'),\n",
       "  Text(1, 0, 'film2'),\n",
       "  Text(2, 0, 'film3'),\n",
       "  Text(3, 0, 'film4')])"
      ]
     },
     "execution_count": 24,
     "metadata": {},
     "output_type": "execute_result"
    }
   ],
   "source": [
    "plt.xticks(range(len(new_films)), new_films)"
   ]
  },
  {
   "cell_type": "code",
   "execution_count": 25,
   "id": "564f362a",
   "metadata": {},
   "outputs": [],
   "source": [
    "plt.show()"
   ]
  },
  {
   "cell_type": "markdown",
   "id": "0704ba43",
   "metadata": {},
   "source": [
    "# Histograms "
   ]
  },
  {
   "cell_type": "code",
   "execution_count": 26,
   "id": "4c7684dd",
   "metadata": {},
   "outputs": [],
   "source": [
    "import matplotlib.pyplot as plt\n",
    "import numpy as np"
   ]
  },
  {
   "cell_type": "code",
   "execution_count": 27,
   "id": "a73dc778",
   "metadata": {},
   "outputs": [],
   "source": [
    "new_h = np.random.normal(150, 15, 230)"
   ]
  },
  {
   "cell_type": "code",
   "execution_count": 28,
   "id": "74dd1eae",
   "metadata": {},
   "outputs": [],
   "source": [
    "plt.hist(new_h)\n",
    "plt.show()"
   ]
  },
  {
   "cell_type": "markdown",
   "id": "85cca2c9",
   "metadata": {},
   "source": [
    "# Pie Charts"
   ]
  },
  {
   "cell_type": "code",
   "execution_count": 32,
   "id": "250b91ae",
   "metadata": {},
   "outputs": [],
   "source": [
    "import matplotlib.pyplot as plt\n",
    "import numpy as np\n",
    "\n",
    "x = np.array([37, 27, 27, 17])\n",
    "ch_labels = [\"first\", \"second\", \"thrid\", \"fourth\"]\n",
    "\n",
    "plt.pie(x, labels = ch_labels)\n",
    "plt.show()"
   ]
  },
  {
   "cell_type": "code",
   "execution_count": 62,
   "id": "3019e93d",
   "metadata": {},
   "outputs": [],
   "source": [
    "import matplotlib.pyplot as plt\n",
    "import numpy as np\n",
    "import pandas as pd\n",
    "import seaborn as sns\n",
    "import seaborn as sb"
   ]
  },
  {
   "cell_type": "code",
   "execution_count": 34,
   "id": "b70a4f95",
   "metadata": {},
   "outputs": [],
   "source": [
    "%matplotlib inline\n",
    "sns.set()"
   ]
  },
  {
   "cell_type": "code",
   "execution_count": 35,
   "id": "6e31d78c",
   "metadata": {},
   "outputs": [],
   "source": [
    "new_iris = sns.load_dataset('iris')"
   ]
  },
  {
   "cell_type": "code",
   "execution_count": 36,
   "id": "910a9d4e",
   "metadata": {},
   "outputs": [
    {
     "data": {
      "text/html": [
       "<div>\n",
       "<style scoped>\n",
       "    .dataframe tbody tr th:only-of-type {\n",
       "        vertical-align: middle;\n",
       "    }\n",
       "\n",
       "    .dataframe tbody tr th {\n",
       "        vertical-align: top;\n",
       "    }\n",
       "\n",
       "    .dataframe thead th {\n",
       "        text-align: right;\n",
       "    }\n",
       "</style>\n",
       "<table border=\"1\" class=\"dataframe\">\n",
       "  <thead>\n",
       "    <tr style=\"text-align: right;\">\n",
       "      <th></th>\n",
       "      <th>sepal_length</th>\n",
       "      <th>sepal_width</th>\n",
       "      <th>petal_length</th>\n",
       "      <th>petal_width</th>\n",
       "      <th>species</th>\n",
       "    </tr>\n",
       "  </thead>\n",
       "  <tbody>\n",
       "    <tr>\n",
       "      <th>0</th>\n",
       "      <td>5.1</td>\n",
       "      <td>3.5</td>\n",
       "      <td>1.4</td>\n",
       "      <td>0.2</td>\n",
       "      <td>setosa</td>\n",
       "    </tr>\n",
       "    <tr>\n",
       "      <th>1</th>\n",
       "      <td>4.9</td>\n",
       "      <td>3.0</td>\n",
       "      <td>1.4</td>\n",
       "      <td>0.2</td>\n",
       "      <td>setosa</td>\n",
       "    </tr>\n",
       "    <tr>\n",
       "      <th>2</th>\n",
       "      <td>4.7</td>\n",
       "      <td>3.2</td>\n",
       "      <td>1.3</td>\n",
       "      <td>0.2</td>\n",
       "      <td>setosa</td>\n",
       "    </tr>\n",
       "    <tr>\n",
       "      <th>3</th>\n",
       "      <td>4.6</td>\n",
       "      <td>3.1</td>\n",
       "      <td>1.5</td>\n",
       "      <td>0.2</td>\n",
       "      <td>setosa</td>\n",
       "    </tr>\n",
       "    <tr>\n",
       "      <th>4</th>\n",
       "      <td>5.0</td>\n",
       "      <td>3.6</td>\n",
       "      <td>1.4</td>\n",
       "      <td>0.2</td>\n",
       "      <td>setosa</td>\n",
       "    </tr>\n",
       "  </tbody>\n",
       "</table>\n",
       "</div>"
      ],
      "text/plain": [
       "   sepal_length  sepal_width  petal_length  petal_width species\n",
       "0           5.1          3.5           1.4          0.2  setosa\n",
       "1           4.9          3.0           1.4          0.2  setosa\n",
       "2           4.7          3.2           1.3          0.2  setosa\n",
       "3           4.6          3.1           1.5          0.2  setosa\n",
       "4           5.0          3.6           1.4          0.2  setosa"
      ]
     },
     "execution_count": 36,
     "metadata": {},
     "output_type": "execute_result"
    }
   ],
   "source": [
    "new_iris.head()"
   ]
  },
  {
   "cell_type": "code",
   "execution_count": 37,
   "id": "bffd376a",
   "metadata": {},
   "outputs": [
    {
     "data": {
      "text/html": [
       "<div>\n",
       "<style scoped>\n",
       "    .dataframe tbody tr th:only-of-type {\n",
       "        vertical-align: middle;\n",
       "    }\n",
       "\n",
       "    .dataframe tbody tr th {\n",
       "        vertical-align: top;\n",
       "    }\n",
       "\n",
       "    .dataframe thead th {\n",
       "        text-align: right;\n",
       "    }\n",
       "</style>\n",
       "<table border=\"1\" class=\"dataframe\">\n",
       "  <thead>\n",
       "    <tr style=\"text-align: right;\">\n",
       "      <th></th>\n",
       "      <th>sepal_length</th>\n",
       "      <th>sepal_width</th>\n",
       "      <th>petal_length</th>\n",
       "      <th>petal_width</th>\n",
       "      <th>species</th>\n",
       "    </tr>\n",
       "  </thead>\n",
       "  <tbody>\n",
       "    <tr>\n",
       "      <th>0</th>\n",
       "      <td>5.1</td>\n",
       "      <td>3.5</td>\n",
       "      <td>1.4</td>\n",
       "      <td>0.2</td>\n",
       "      <td>setosa</td>\n",
       "    </tr>\n",
       "    <tr>\n",
       "      <th>1</th>\n",
       "      <td>4.9</td>\n",
       "      <td>3.0</td>\n",
       "      <td>1.4</td>\n",
       "      <td>0.2</td>\n",
       "      <td>setosa</td>\n",
       "    </tr>\n",
       "    <tr>\n",
       "      <th>2</th>\n",
       "      <td>4.7</td>\n",
       "      <td>3.2</td>\n",
       "      <td>1.3</td>\n",
       "      <td>0.2</td>\n",
       "      <td>setosa</td>\n",
       "    </tr>\n",
       "  </tbody>\n",
       "</table>\n",
       "</div>"
      ],
      "text/plain": [
       "   sepal_length  sepal_width  petal_length  petal_width species\n",
       "0           5.1          3.5           1.4          0.2  setosa\n",
       "1           4.9          3.0           1.4          0.2  setosa\n",
       "2           4.7          3.2           1.3          0.2  setosa"
      ]
     },
     "execution_count": 37,
     "metadata": {},
     "output_type": "execute_result"
    }
   ],
   "source": [
    "new_iris.head(3)"
   ]
  },
  {
   "cell_type": "code",
   "execution_count": 39,
   "id": "ee12cbe2",
   "metadata": {},
   "outputs": [
    {
     "data": {
      "text/plain": [
       "<AxesSubplot:>"
      ]
     },
     "execution_count": 39,
     "metadata": {},
     "output_type": "execute_result"
    },
    {
     "data": {
      "image/png": "[encoded data removed]",
      "text/plain": [
       "<Figure size 432x288 with 1 Axes>"
      ]
     },
     "metadata": {},
     "output_type": "display_data"
    }
   ],
   "source": [
    "new_iris.petal_length.plot()"
   ]
  },
  {
   "cell_type": "code",
   "execution_count": 40,
   "id": "2a59cbb2",
   "metadata": {},
   "outputs": [
    {
     "data": {
      "text/plain": [
       "<AxesSubplot:>"
      ]
     },
     "execution_count": 40,
     "metadata": {},
     "output_type": "execute_result"
    },
    {
     "data": {
      "image/png": "[encoded data removed]",
      "text/plain": [
       "<Figure size 432x288 with 1 Axes>"
      ]
     },
     "metadata": {},
     "output_type": "display_data"
    }
   ],
   "source": [
    "new_iris.plot()"
   ]
  },
  {
   "cell_type": "code",
   "execution_count": 42,
   "id": "9d02e812",
   "metadata": {},
   "outputs": [],
   "source": [
    "new_d = pd.Series(np.random.rand(7), index=list('ABCDEFG'))"
   ]
  },
  {
   "cell_type": "code",
   "execution_count": 43,
   "id": "467d5853",
   "metadata": {},
   "outputs": [
    {
     "data": {
      "text/plain": [
       "A    0.870724\n",
       "B    0.118330\n",
       "C    0.663673\n",
       "D    0.017402\n",
       "E    0.860908\n",
       "F    0.972079\n",
       "G    0.264091\n",
       "dtype: float64"
      ]
     },
     "execution_count": 43,
     "metadata": {},
     "output_type": "execute_result"
    }
   ],
   "source": [
    "new_d"
   ]
  },
  {
   "cell_type": "code",
   "execution_count": 49,
   "id": "cbe688c6",
   "metadata": {},
   "outputs": [
    {
     "data": {
      "text/plain": [
       "<AxesSubplot:>"
      ]
     },
     "execution_count": 49,
     "metadata": {},
     "output_type": "execute_result"
    },
    {
     "data": {
      "image/png": "[encoded data removed]",
      "text/plain": [
       "<Figure size 432x288 with 1 Axes>"
      ]
     },
     "metadata": {},
     "output_type": "display_data"
    }
   ],
   "source": [
    "new_d.plot.bar(color = 'r', alpha=1) # puedo cambiar el alpha a menos de 1....0.5...0.2 etc"
   ]
  },
  {
   "cell_type": "code",
   "execution_count": 50,
   "id": "d4d8206f",
   "metadata": {},
   "outputs": [
    {
     "data": {
      "text/plain": [
       "<AxesSubplot:>"
      ]
     },
     "execution_count": 50,
     "metadata": {},
     "output_type": "execute_result"
    },
    {
     "data": {
      "image/png": "[encoded data removed]",
      "text/plain": [
       "<Figure size 432x288 with 1 Axes>"
      ]
     },
     "metadata": {},
     "output_type": "display_data"
    }
   ],
   "source": [
    "new_d.plot.barh(color=\"y\", alpha=0.7)"
   ]
  },
  {
   "cell_type": "code",
   "execution_count": 51,
   "id": "54ce315b",
   "metadata": {},
   "outputs": [],
   "source": [
    "new_loading = sns.load_dataset('tips')"
   ]
  },
  {
   "cell_type": "code",
   "execution_count": 52,
   "id": "b84d80a1",
   "metadata": {},
   "outputs": [
    {
     "data": {
      "text/html": [
       "<div>\n",
       "<style scoped>\n",
       "    .dataframe tbody tr th:only-of-type {\n",
       "        vertical-align: middle;\n",
       "    }\n",
       "\n",
       "    .dataframe tbody tr th {\n",
       "        vertical-align: top;\n",
       "    }\n",
       "\n",
       "    .dataframe thead th {\n",
       "        text-align: right;\n",
       "    }\n",
       "</style>\n",
       "<table border=\"1\" class=\"dataframe\">\n",
       "  <thead>\n",
       "    <tr style=\"text-align: right;\">\n",
       "      <th></th>\n",
       "      <th>total_bill</th>\n",
       "      <th>tip</th>\n",
       "      <th>sex</th>\n",
       "      <th>smoker</th>\n",
       "      <th>day</th>\n",
       "      <th>time</th>\n",
       "      <th>size</th>\n",
       "    </tr>\n",
       "  </thead>\n",
       "  <tbody>\n",
       "    <tr>\n",
       "      <th>0</th>\n",
       "      <td>16.99</td>\n",
       "      <td>1.01</td>\n",
       "      <td>Female</td>\n",
       "      <td>No</td>\n",
       "      <td>Sun</td>\n",
       "      <td>Dinner</td>\n",
       "      <td>2</td>\n",
       "    </tr>\n",
       "    <tr>\n",
       "      <th>1</th>\n",
       "      <td>10.34</td>\n",
       "      <td>1.66</td>\n",
       "      <td>Male</td>\n",
       "      <td>No</td>\n",
       "      <td>Sun</td>\n",
       "      <td>Dinner</td>\n",
       "      <td>3</td>\n",
       "    </tr>\n",
       "    <tr>\n",
       "      <th>2</th>\n",
       "      <td>21.01</td>\n",
       "      <td>3.50</td>\n",
       "      <td>Male</td>\n",
       "      <td>No</td>\n",
       "      <td>Sun</td>\n",
       "      <td>Dinner</td>\n",
       "      <td>3</td>\n",
       "    </tr>\n",
       "    <tr>\n",
       "      <th>3</th>\n",
       "      <td>23.68</td>\n",
       "      <td>3.31</td>\n",
       "      <td>Male</td>\n",
       "      <td>No</td>\n",
       "      <td>Sun</td>\n",
       "      <td>Dinner</td>\n",
       "      <td>2</td>\n",
       "    </tr>\n",
       "  </tbody>\n",
       "</table>\n",
       "</div>"
      ],
      "text/plain": [
       "   total_bill   tip     sex smoker  day    time  size\n",
       "0       16.99  1.01  Female     No  Sun  Dinner     2\n",
       "1       10.34  1.66    Male     No  Sun  Dinner     3\n",
       "2       21.01  3.50    Male     No  Sun  Dinner     3\n",
       "3       23.68  3.31    Male     No  Sun  Dinner     2"
      ]
     },
     "execution_count": 52,
     "metadata": {},
     "output_type": "execute_result"
    }
   ],
   "source": [
    "new_loading.head(4)"
   ]
  },
  {
   "cell_type": "code",
   "execution_count": 55,
   "id": "d8bd0d1c",
   "metadata": {},
   "outputs": [],
   "source": [
    "size_of_day = pd.crosstab(new_loading[\"day\"], new_loading[\"size\"])"
   ]
  },
  {
   "cell_type": "code",
   "execution_count": 56,
   "id": "cbb1784f",
   "metadata": {},
   "outputs": [
    {
     "data": {
      "text/html": [
       "<div>\n",
       "<style scoped>\n",
       "    .dataframe tbody tr th:only-of-type {\n",
       "        vertical-align: middle;\n",
       "    }\n",
       "\n",
       "    .dataframe tbody tr th {\n",
       "        vertical-align: top;\n",
       "    }\n",
       "\n",
       "    .dataframe thead th {\n",
       "        text-align: right;\n",
       "    }\n",
       "</style>\n",
       "<table border=\"1\" class=\"dataframe\">\n",
       "  <thead>\n",
       "    <tr style=\"text-align: right;\">\n",
       "      <th>size</th>\n",
       "      <th>1</th>\n",
       "      <th>2</th>\n",
       "      <th>3</th>\n",
       "      <th>4</th>\n",
       "      <th>5</th>\n",
       "      <th>6</th>\n",
       "    </tr>\n",
       "    <tr>\n",
       "      <th>day</th>\n",
       "      <th></th>\n",
       "      <th></th>\n",
       "      <th></th>\n",
       "      <th></th>\n",
       "      <th></th>\n",
       "      <th></th>\n",
       "    </tr>\n",
       "  </thead>\n",
       "  <tbody>\n",
       "    <tr>\n",
       "      <th>Thur</th>\n",
       "      <td>1</td>\n",
       "      <td>48</td>\n",
       "      <td>4</td>\n",
       "      <td>5</td>\n",
       "      <td>1</td>\n",
       "      <td>3</td>\n",
       "    </tr>\n",
       "    <tr>\n",
       "      <th>Fri</th>\n",
       "      <td>1</td>\n",
       "      <td>16</td>\n",
       "      <td>1</td>\n",
       "      <td>1</td>\n",
       "      <td>0</td>\n",
       "      <td>0</td>\n",
       "    </tr>\n",
       "    <tr>\n",
       "      <th>Sat</th>\n",
       "      <td>2</td>\n",
       "      <td>53</td>\n",
       "      <td>18</td>\n",
       "      <td>13</td>\n",
       "      <td>1</td>\n",
       "      <td>0</td>\n",
       "    </tr>\n",
       "    <tr>\n",
       "      <th>Sun</th>\n",
       "      <td>0</td>\n",
       "      <td>39</td>\n",
       "      <td>15</td>\n",
       "      <td>18</td>\n",
       "      <td>3</td>\n",
       "      <td>1</td>\n",
       "    </tr>\n",
       "  </tbody>\n",
       "</table>\n",
       "</div>"
      ],
      "text/plain": [
       "size  1   2   3   4  5  6\n",
       "day                      \n",
       "Thur  1  48   4   5  1  3\n",
       "Fri   1  16   1   1  0  0\n",
       "Sat   2  53  18  13  1  0\n",
       "Sun   0  39  15  18  3  1"
      ]
     },
     "execution_count": 56,
     "metadata": {},
     "output_type": "execute_result"
    }
   ],
   "source": [
    "size_of_day"
   ]
  },
  {
   "cell_type": "code",
   "execution_count": 57,
   "id": "a3178bc9",
   "metadata": {},
   "outputs": [
    {
     "data": {
      "text/plain": [
       "<AxesSubplot:ylabel='day'>"
      ]
     },
     "execution_count": 57,
     "metadata": {},
     "output_type": "execute_result"
    },
    {
     "data": {
      "image/png": "[encoded data removed]",
      "text/plain": [
       "<Figure size 432x288 with 1 Axes>"
      ]
     },
     "metadata": {},
     "output_type": "display_data"
    }
   ],
   "source": [
    "size_of_day.plot.barh()"
   ]
  },
  {
   "cell_type": "code",
   "execution_count": 58,
   "id": "9451f2c9",
   "metadata": {},
   "outputs": [
    {
     "data": {
      "text/plain": [
       "<AxesSubplot:ylabel='Frequency'>"
      ]
     },
     "execution_count": 58,
     "metadata": {},
     "output_type": "execute_result"
    },
    {
     "data": {
      "image/png": "[encoded data removed]",
      "text/plain": [
       "<Figure size 432x288 with 1 Axes>"
      ]
     },
     "metadata": {},
     "output_type": "display_data"
    }
   ],
   "source": [
    "size_of_day.plot.hist()"
   ]
  },
  {
   "cell_type": "code",
   "execution_count": 59,
   "id": "1df047a7",
   "metadata": {},
   "outputs": [
    {
     "data": {
      "text/plain": [
       "<AxesSubplot:xlabel='day'>"
      ]
     },
     "execution_count": 59,
     "metadata": {},
     "output_type": "execute_result"
    },
    {
     "data": {
      "image/png": "[encoded data removed]",
      "text/plain": [
       "<Figure size 432x288 with 1 Axes>"
      ]
     },
     "metadata": {},
     "output_type": "display_data"
    }
   ],
   "source": [
    "size_of_day.plot.bar()"
   ]
  },
  {
   "cell_type": "code",
   "execution_count": 63,
   "id": "d0adb44e",
   "metadata": {},
   "outputs": [
    {
     "data": {
      "image/png": "[encoded data removed]",
      "text/plain": [
       "<Figure size 432x288 with 2 Axes>"
      ]
     },
     "metadata": {},
     "output_type": "display_data"
    }
   ],
   "source": [
    "new_data2 = np.random.rand(6,8)\n",
    "ht_map = sb.heatmap(new_data2)\n"
   ]
  },
  {
   "cell_type": "code",
   "execution_count": null,
   "id": "5e49db4c",
   "metadata": {},
   "outputs": [],
   "source": []
  }
 ],
 "metadata": {
  "kernelspec": {
   "display_name": "Python 3 (ipykernel)",
   "language": "python",
   "name": "python3"
  },
  "language_info": {
   "codemirror_mode": {
    "name": "ipython",
    "version": 3
   },
   "file_extension": ".py",
   "mimetype": "text/x-python",
   "name": "python",
   "nbconvert_exporter": "python",
   "pygments_lexer": "ipython3",
   "version": "3.9.12"
  }
 },
 "nbformat": 4,
 "nbformat_minor": 5
}
